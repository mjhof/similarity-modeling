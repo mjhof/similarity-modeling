{
 "cells": [
  {
   "cell_type": "markdown",
   "metadata": {
    "id": "Wu0SPRuCCCi3"
   },
   "source": [
    "# Similarity Modeling 1/2: Recognizing Pigs with Deep Learning"
   ]
  },
  {
   "cell_type": "markdown",
   "metadata": {
    "id": "zEXDPoGdCCi5"
   },
   "source": [
    "## Student\n",
    "Gallus Huber (51905700)\n",
    "\n",
    "## Timesheet\n",
    "2022-10-16 09:00 - 12:30 SIM 1 & 2 <br />\n",
    "2022-10-16 15:00 - 17:00 SIM 3 <br />\n",
    "2022-10-18 10:00 - 13:00 SIM 4 & 5 <br />\n",
    "2022-10-27 20:00 - 22:00 SIM 6 <br />\n",
    "2022-10-28 10:00 - 14:00 SIM 7 & 8 & 9 <br />\n",
    "2022-11-02 08:00 - 14:00 Writing abstracts <br />\n",
    "2022-11-10 14:00 - 15:00 Meeting <br />\n",
    "2022-11-24 16:00 - 17:30 Setup <br />\n",
    "2022-11-26 09:00 - 12:00 Implementation data preparation <br />\n",
    "2022-11-27 10:00 - 10:30 Meeting <br />\n",
    "2022-11-27 10:30 - 15:00 Implementation model <br />\n",
    "2022-12-01 16:00 - 20:00 Training of model <br />\n",
    "2022-12-03 14:00 - 18:00 Improvements <br />\n",
    "2022-12-04 19:00 - 20:00 Meeting <br />\n",
    "2022-12-18 14:00 - 18:00 Improvements & training <br />\n",
    "2022-12-27 18:20 - 21:00 Improvements <br />\n",
    "2022-12-31 15:00 - 16:00 Meeting <br />\n",
    "2022-01-07 14:00 - 15:00 Finalize"
   ]
  },
  {
   "cell_type": "markdown",
   "metadata": {
    "id": "TZmOtdK2CCi6"
   },
   "source": [
    "## Required libraries and installs"
   ]
  },
  {
   "cell_type": "code",
   "execution_count": 5,
   "metadata": {
    "colab": {
     "base_uri": "https://localhost:8080/"
    },
    "id": "6p8Iq4RPCCi8",
    "executionInfo": {
     "status": "ok",
     "timestamp": 1672935834529,
     "user_tz": -60,
     "elapsed": 7842,
     "user": {
      "displayName": "Gallus Huber",
      "userId": "12757761605927470104"
     }
    },
    "outputId": "43ac5cdd-b0e4-4861-8ec3-61413110241d"
   },
   "outputs": [
    {
     "output_type": "stream",
     "name": "stdout",
     "text": [
      "pandas\n",
      "numpy\n",
      "opencv-python\n",
      "matplotlib\n",
      "scikit-learn\n",
      "scikit-image\n",
      "tensorflow\n",
      "keras\n",
      "visualkeras\n",
      "seabornLooking in indexes: https://pypi.org/simple, https://us-python.pkg.dev/colab-wheels/public/simple/\n",
      "Requirement already satisfied: pandas in /usr/local/lib/python3.8/dist-packages (from -r requirements-dl-video.txt (line 1)) (1.3.5)\n",
      "Requirement already satisfied: numpy in /usr/local/lib/python3.8/dist-packages (from -r requirements-dl-video.txt (line 2)) (1.21.6)\n",
      "Requirement already satisfied: opencv-python in /usr/local/lib/python3.8/dist-packages (from -r requirements-dl-video.txt (line 3)) (4.6.0.66)\n",
      "Requirement already satisfied: matplotlib in /usr/local/lib/python3.8/dist-packages (from -r requirements-dl-video.txt (line 4)) (3.2.2)\n",
      "Requirement already satisfied: scikit-learn in /usr/local/lib/python3.8/dist-packages (from -r requirements-dl-video.txt (line 5)) (1.0.2)\n",
      "Requirement already satisfied: scikit-image in /usr/local/lib/python3.8/dist-packages (from -r requirements-dl-video.txt (line 6)) (0.18.3)\n",
      "Requirement already satisfied: tensorflow in /usr/local/lib/python3.8/dist-packages (from -r requirements-dl-video.txt (line 7)) (2.9.2)\n",
      "Requirement already satisfied: keras in /usr/local/lib/python3.8/dist-packages (from -r requirements-dl-video.txt (line 8)) (2.9.0)\n",
      "Collecting visualkeras\n",
      "  Downloading visualkeras-0.0.2-py3-none-any.whl (12 kB)\n",
      "Requirement already satisfied: seaborn in /usr/local/lib/python3.8/dist-packages (from -r requirements-dl-video.txt (line 10)) (0.11.2)\n",
      "Requirement already satisfied: python-dateutil>=2.7.3 in /usr/local/lib/python3.8/dist-packages (from pandas->-r requirements-dl-video.txt (line 1)) (2.8.2)\n",
      "Requirement already satisfied: pytz>=2017.3 in /usr/local/lib/python3.8/dist-packages (from pandas->-r requirements-dl-video.txt (line 1)) (2022.7)\n",
      "Requirement already satisfied: kiwisolver>=1.0.1 in /usr/local/lib/python3.8/dist-packages (from matplotlib->-r requirements-dl-video.txt (line 4)) (1.4.4)\n",
      "Requirement already satisfied: pyparsing!=2.0.4,!=2.1.2,!=2.1.6,>=2.0.1 in /usr/local/lib/python3.8/dist-packages (from matplotlib->-r requirements-dl-video.txt (line 4)) (3.0.9)\n",
      "Requirement already satisfied: cycler>=0.10 in /usr/local/lib/python3.8/dist-packages (from matplotlib->-r requirements-dl-video.txt (line 4)) (0.11.0)\n",
      "Requirement already satisfied: joblib>=0.11 in /usr/local/lib/python3.8/dist-packages (from scikit-learn->-r requirements-dl-video.txt (line 5)) (1.2.0)\n",
      "Requirement already satisfied: threadpoolctl>=2.0.0 in /usr/local/lib/python3.8/dist-packages (from scikit-learn->-r requirements-dl-video.txt (line 5)) (3.1.0)\n",
      "Requirement already satisfied: scipy>=1.1.0 in /usr/local/lib/python3.8/dist-packages (from scikit-learn->-r requirements-dl-video.txt (line 5)) (1.7.3)\n",
      "Requirement already satisfied: pillow!=7.1.0,!=7.1.1,>=4.3.0 in /usr/local/lib/python3.8/dist-packages (from scikit-image->-r requirements-dl-video.txt (line 6)) (7.1.2)\n",
      "Requirement already satisfied: networkx>=2.0 in /usr/local/lib/python3.8/dist-packages (from scikit-image->-r requirements-dl-video.txt (line 6)) (2.8.8)\n",
      "Requirement already satisfied: imageio>=2.3.0 in /usr/local/lib/python3.8/dist-packages (from scikit-image->-r requirements-dl-video.txt (line 6)) (2.9.0)\n",
      "Requirement already satisfied: PyWavelets>=1.1.1 in /usr/local/lib/python3.8/dist-packages (from scikit-image->-r requirements-dl-video.txt (line 6)) (1.4.1)\n",
      "Requirement already satisfied: tifffile>=2019.7.26 in /usr/local/lib/python3.8/dist-packages (from scikit-image->-r requirements-dl-video.txt (line 6)) (2022.10.10)\n",
      "Requirement already satisfied: libclang>=13.0.0 in /usr/local/lib/python3.8/dist-packages (from tensorflow->-r requirements-dl-video.txt (line 7)) (14.0.6)\n",
      "Requirement already satisfied: tensorboard<2.10,>=2.9 in /usr/local/lib/python3.8/dist-packages (from tensorflow->-r requirements-dl-video.txt (line 7)) (2.9.1)\n",
      "Requirement already satisfied: tensorflow-estimator<2.10.0,>=2.9.0rc0 in /usr/local/lib/python3.8/dist-packages (from tensorflow->-r requirements-dl-video.txt (line 7)) (2.9.0)\n",
      "Requirement already satisfied: protobuf<3.20,>=3.9.2 in /usr/local/lib/python3.8/dist-packages (from tensorflow->-r requirements-dl-video.txt (line 7)) (3.19.6)\n",
      "Requirement already satisfied: astunparse>=1.6.0 in /usr/local/lib/python3.8/dist-packages (from tensorflow->-r requirements-dl-video.txt (line 7)) (1.6.3)\n",
      "Requirement already satisfied: tensorflow-io-gcs-filesystem>=0.23.1 in /usr/local/lib/python3.8/dist-packages (from tensorflow->-r requirements-dl-video.txt (line 7)) (0.29.0)\n",
      "Requirement already satisfied: grpcio<2.0,>=1.24.3 in /usr/local/lib/python3.8/dist-packages (from tensorflow->-r requirements-dl-video.txt (line 7)) (1.51.1)\n",
      "Requirement already satisfied: google-pasta>=0.1.1 in /usr/local/lib/python3.8/dist-packages (from tensorflow->-r requirements-dl-video.txt (line 7)) (0.2.0)\n",
      "Requirement already satisfied: absl-py>=1.0.0 in /usr/local/lib/python3.8/dist-packages (from tensorflow->-r requirements-dl-video.txt (line 7)) (1.3.0)\n",
      "Requirement already satisfied: flatbuffers<2,>=1.12 in /usr/local/lib/python3.8/dist-packages (from tensorflow->-r requirements-dl-video.txt (line 7)) (1.12)\n",
      "Requirement already satisfied: wrapt>=1.11.0 in /usr/local/lib/python3.8/dist-packages (from tensorflow->-r requirements-dl-video.txt (line 7)) (1.14.1)\n",
      "Requirement already satisfied: termcolor>=1.1.0 in /usr/local/lib/python3.8/dist-packages (from tensorflow->-r requirements-dl-video.txt (line 7)) (2.1.1)\n",
      "Requirement already satisfied: six>=1.12.0 in /usr/local/lib/python3.8/dist-packages (from tensorflow->-r requirements-dl-video.txt (line 7)) (1.15.0)\n",
      "Requirement already satisfied: gast<=0.4.0,>=0.2.1 in /usr/local/lib/python3.8/dist-packages (from tensorflow->-r requirements-dl-video.txt (line 7)) (0.4.0)\n",
      "Requirement already satisfied: opt-einsum>=2.3.2 in /usr/local/lib/python3.8/dist-packages (from tensorflow->-r requirements-dl-video.txt (line 7)) (3.3.0)\n",
      "Requirement already satisfied: typing-extensions>=3.6.6 in /usr/local/lib/python3.8/dist-packages (from tensorflow->-r requirements-dl-video.txt (line 7)) (4.4.0)\n",
      "Requirement already satisfied: keras-preprocessing>=1.1.1 in /usr/local/lib/python3.8/dist-packages (from tensorflow->-r requirements-dl-video.txt (line 7)) (1.1.2)\n",
      "Requirement already satisfied: h5py>=2.9.0 in /usr/local/lib/python3.8/dist-packages (from tensorflow->-r requirements-dl-video.txt (line 7)) (3.1.0)\n",
      "Requirement already satisfied: packaging in /usr/local/lib/python3.8/dist-packages (from tensorflow->-r requirements-dl-video.txt (line 7)) (21.3)\n",
      "Requirement already satisfied: setuptools in /usr/local/lib/python3.8/dist-packages (from tensorflow->-r requirements-dl-video.txt (line 7)) (57.4.0)\n",
      "Collecting aggdraw>=1.3.11\n",
      "  Downloading aggdraw-1.3.15-cp38-cp38-manylinux_2_17_x86_64.manylinux2014_x86_64.whl (992 kB)\n",
      "\u001B[2K     \u001B[90m━━━━━━━━━━━━━━━━━━━━━━━━━━━━━━━━━━━━━━\u001B[0m \u001B[32m992.2/992.2 KB\u001B[0m \u001B[31m37.3 MB/s\u001B[0m eta \u001B[36m0:00:00\u001B[0m\n",
      "\u001B[?25hRequirement already satisfied: wheel<1.0,>=0.23.0 in /usr/local/lib/python3.8/dist-packages (from astunparse>=1.6.0->tensorflow->-r requirements-dl-video.txt (line 7)) (0.38.4)\n",
      "Requirement already satisfied: google-auth-oauthlib<0.5,>=0.4.1 in /usr/local/lib/python3.8/dist-packages (from tensorboard<2.10,>=2.9->tensorflow->-r requirements-dl-video.txt (line 7)) (0.4.6)\n",
      "Requirement already satisfied: markdown>=2.6.8 in /usr/local/lib/python3.8/dist-packages (from tensorboard<2.10,>=2.9->tensorflow->-r requirements-dl-video.txt (line 7)) (3.4.1)\n",
      "Requirement already satisfied: google-auth<3,>=1.6.3 in /usr/local/lib/python3.8/dist-packages (from tensorboard<2.10,>=2.9->tensorflow->-r requirements-dl-video.txt (line 7)) (2.15.0)\n",
      "Requirement already satisfied: werkzeug>=1.0.1 in /usr/local/lib/python3.8/dist-packages (from tensorboard<2.10,>=2.9->tensorflow->-r requirements-dl-video.txt (line 7)) (1.0.1)\n",
      "Requirement already satisfied: tensorboard-data-server<0.7.0,>=0.6.0 in /usr/local/lib/python3.8/dist-packages (from tensorboard<2.10,>=2.9->tensorflow->-r requirements-dl-video.txt (line 7)) (0.6.1)\n",
      "Requirement already satisfied: tensorboard-plugin-wit>=1.6.0 in /usr/local/lib/python3.8/dist-packages (from tensorboard<2.10,>=2.9->tensorflow->-r requirements-dl-video.txt (line 7)) (1.8.1)\n",
      "Requirement already satisfied: requests<3,>=2.21.0 in /usr/local/lib/python3.8/dist-packages (from tensorboard<2.10,>=2.9->tensorflow->-r requirements-dl-video.txt (line 7)) (2.25.1)\n",
      "Requirement already satisfied: cachetools<6.0,>=2.0.0 in /usr/local/lib/python3.8/dist-packages (from google-auth<3,>=1.6.3->tensorboard<2.10,>=2.9->tensorflow->-r requirements-dl-video.txt (line 7)) (5.2.0)\n",
      "Requirement already satisfied: pyasn1-modules>=0.2.1 in /usr/local/lib/python3.8/dist-packages (from google-auth<3,>=1.6.3->tensorboard<2.10,>=2.9->tensorflow->-r requirements-dl-video.txt (line 7)) (0.2.8)\n",
      "Requirement already satisfied: rsa<5,>=3.1.4 in /usr/local/lib/python3.8/dist-packages (from google-auth<3,>=1.6.3->tensorboard<2.10,>=2.9->tensorflow->-r requirements-dl-video.txt (line 7)) (4.9)\n",
      "Requirement already satisfied: requests-oauthlib>=0.7.0 in /usr/local/lib/python3.8/dist-packages (from google-auth-oauthlib<0.5,>=0.4.1->tensorboard<2.10,>=2.9->tensorflow->-r requirements-dl-video.txt (line 7)) (1.3.1)\n",
      "Requirement already satisfied: importlib-metadata>=4.4 in /usr/local/lib/python3.8/dist-packages (from markdown>=2.6.8->tensorboard<2.10,>=2.9->tensorflow->-r requirements-dl-video.txt (line 7)) (5.2.0)\n",
      "Requirement already satisfied: idna<3,>=2.5 in /usr/local/lib/python3.8/dist-packages (from requests<3,>=2.21.0->tensorboard<2.10,>=2.9->tensorflow->-r requirements-dl-video.txt (line 7)) (2.10)\n",
      "Requirement already satisfied: urllib3<1.27,>=1.21.1 in /usr/local/lib/python3.8/dist-packages (from requests<3,>=2.21.0->tensorboard<2.10,>=2.9->tensorflow->-r requirements-dl-video.txt (line 7)) (1.24.3)\n",
      "Requirement already satisfied: chardet<5,>=3.0.2 in /usr/local/lib/python3.8/dist-packages (from requests<3,>=2.21.0->tensorboard<2.10,>=2.9->tensorflow->-r requirements-dl-video.txt (line 7)) (4.0.0)\n",
      "Requirement already satisfied: certifi>=2017.4.17 in /usr/local/lib/python3.8/dist-packages (from requests<3,>=2.21.0->tensorboard<2.10,>=2.9->tensorflow->-r requirements-dl-video.txt (line 7)) (2022.12.7)\n",
      "Requirement already satisfied: zipp>=0.5 in /usr/local/lib/python3.8/dist-packages (from importlib-metadata>=4.4->markdown>=2.6.8->tensorboard<2.10,>=2.9->tensorflow->-r requirements-dl-video.txt (line 7)) (3.11.0)\n",
      "Requirement already satisfied: pyasn1<0.5.0,>=0.4.6 in /usr/local/lib/python3.8/dist-packages (from pyasn1-modules>=0.2.1->google-auth<3,>=1.6.3->tensorboard<2.10,>=2.9->tensorflow->-r requirements-dl-video.txt (line 7)) (0.4.8)\n",
      "Requirement already satisfied: oauthlib>=3.0.0 in /usr/local/lib/python3.8/dist-packages (from requests-oauthlib>=0.7.0->google-auth-oauthlib<0.5,>=0.4.1->tensorboard<2.10,>=2.9->tensorflow->-r requirements-dl-video.txt (line 7)) (3.2.2)\n",
      "Installing collected packages: aggdraw, visualkeras\n",
      "Successfully installed aggdraw-1.3.15 visualkeras-0.0.2\n"
     ]
    }
   ],
   "source": [
    "!cat requirements-dl-video.txt\n",
    "!pip install -r requirements-dl-video.txt"
   ]
  },
  {
   "cell_type": "markdown",
   "metadata": {
    "id": "EChKkugZCCi9"
   },
   "source": [
    "## Imports"
   ]
  },
  {
   "cell_type": "code",
   "execution_count": 6,
   "metadata": {
    "id": "QORN-wo0CCi-",
    "executionInfo": {
     "status": "ok",
     "timestamp": 1672935834529,
     "user_tz": -60,
     "elapsed": 8,
     "user": {
      "displayName": "Gallus Huber",
      "userId": "12757761605927470104"
     }
    }
   },
   "outputs": [],
   "source": [
    "import os\n",
    "import glob\n",
    "import pathlib\n",
    "import collections\n",
    "\n",
    "import pandas as pd\n",
    "import numpy as np\n",
    "\n",
    "import cv2 as cv2\n",
    "import matplotlib.pyplot as plt\n",
    "import seaborn as sns\n",
    "\n",
    "import sklearn.model_selection as ms\n",
    "import sklearn.metrics as mt\n",
    "\n",
    "import tensorflow as tf\n",
    "\n",
    "import keras.applications as appl\n",
    "import keras.models as models\n",
    "import keras.layers as layers\n",
    "import keras.utils as utils\n",
    "import keras.callbacks as cb\n",
    "import keras.optimizers as optimizers\n",
    "\n",
    "import visualkeras"
   ]
  },
  {
   "cell_type": "markdown",
   "metadata": {
    "id": "HSaXtxqNCCi-"
   },
   "source": [
    "## Constants"
   ]
  },
  {
   "cell_type": "code",
   "execution_count": 7,
   "metadata": {
    "id": "zK-Kl6yxCCjA",
    "executionInfo": {
     "status": "ok",
     "timestamp": 1672935834530,
     "user_tz": -60,
     "elapsed": 8,
     "user": {
      "displayName": "Gallus Huber",
      "userId": "12757761605927470104"
     }
    }
   },
   "outputs": [],
   "source": [
    "# path to ground truth and videos\n",
    "DATA_PATH = \"../data/\"\n",
    "GROUND_TRUTH_PATH = os.path.join(DATA_PATH, \"sim12-ground-truth-muppets\")\n",
    "VIDEO_PATH = os.path.join(DATA_PATH, \"video\")\n",
    "\n",
    "# path to train data\n",
    "TRAINING_PATH = os.path.join(\".\", 'training_data')\n",
    "VALIDATION_PATH = os.path.join(\".\", 'validation_data')\n",
    "TESTING_PATH = os.path.join(\".\", 'testing_data')\n",
    "\n",
    "# path to save and load trained models\n",
    "MODEL_PATH = \"../models/video\""
   ]
  },
  {
   "cell_type": "markdown",
   "source": [
    "# Project Structure"
   ],
   "metadata": {
    "collapsed": false,
    "id": "6yBM5yfrVtgu"
   }
  },
  {
   "cell_type": "code",
   "execution_count": 8,
   "outputs": [],
   "source": [
    "# create dirs for training\n",
    "train_path_0 = os.path.join(TRAINING_PATH, '0')\n",
    "train_path_1 = os.path.join(TRAINING_PATH, '1')\n",
    "\n",
    "# create dirs for validation\n",
    "valid_path_0 = os.path.join(VALIDATION_PATH, '0')\n",
    "valid_path_1 = os.path.join(VALIDATION_PATH, '1')\n",
    "\n",
    "# create dirs for testing\n",
    "test_path_0 = os.path.join(TESTING_PATH, '0')\n",
    "test_path_1 = os.path.join(TESTING_PATH, '1')"
   ],
   "metadata": {
    "id": "kWOdqkGYVtgv",
    "executionInfo": {
     "status": "ok",
     "timestamp": 1672935834530,
     "user_tz": -60,
     "elapsed": 7,
     "user": {
      "displayName": "Gallus Huber",
      "userId": "12757761605927470104"
     }
    }
   }
  },
  {
   "cell_type": "code",
   "execution_count": 9,
   "outputs": [],
   "source": [
    "# create dirs for training\n",
    "if not os.path.exists(TRAINING_PATH):\n",
    "    os.makedirs(TRAINING_PATH)\n",
    "if not os.path.exists(train_path_0):\n",
    "    os.makedirs(train_path_0)\n",
    "if not os.path.exists(train_path_1):\n",
    "    os.makedirs(train_path_1)\n",
    "\n",
    "# create dirs for validation\n",
    "if not os.path.exists(VALIDATION_PATH):\n",
    "    os.makedirs(VALIDATION_PATH)\n",
    "if not os.path.exists(valid_path_0):\n",
    "    os.makedirs(valid_path_0)\n",
    "if not os.path.exists(valid_path_1):\n",
    "    os.makedirs(valid_path_1)\n",
    "\n",
    "# create dirs for testing\n",
    "if not os.path.exists(TESTING_PATH):\n",
    "    os.makedirs(TESTING_PATH)\n",
    "if not os.path.exists(test_path_0):\n",
    "    os.makedirs(test_path_0)\n",
    "if not os.path.exists(test_path_1):\n",
    "    os.makedirs(test_path_1)\n",
    "\n",
    "# create dir for models\n",
    "if not os.path.exists(MODEL_PATH):\n",
    "    os.makedirs(MODEL_PATH)"
   ],
   "metadata": {
    "id": "bspF6MlcVtgw",
    "executionInfo": {
     "status": "ok",
     "timestamp": 1672935834530,
     "user_tz": -60,
     "elapsed": 7,
     "user": {
      "displayName": "Gallus Huber",
      "userId": "12757761605927470104"
     }
    }
   }
  },
  {
   "cell_type": "markdown",
   "source": [
    "# 1. Data Preparation"
   ],
   "metadata": {
    "collapsed": false,
    "id": "RYHKH5dNVtgx"
   }
  },
  {
   "cell_type": "markdown",
   "source": [
    "## 1.1 List all videos\n",
    "We read all the file names of the videos in the data path."
   ],
   "metadata": {
    "collapsed": false,
    "id": "Pa1UKEt4Vtgx"
   }
  },
  {
   "cell_type": "code",
   "execution_count": 10,
   "outputs": [
    {
     "output_type": "execute_result",
     "data": {
      "text/plain": [
       "['Muppets-03-04-03.avi', 'Muppets-02-01-01.avi', 'Muppets-02-04-04.avi']"
      ]
     },
     "metadata": {},
     "execution_count": 10
    }
   ],
   "source": [
    "videos = glob.glob(VIDEO_PATH + '/*.avi')\n",
    "\n",
    "videos_tmp = []\n",
    "for video in videos:\n",
    "    videos_tmp.append(pathlib.Path(video).name)\n",
    "videos = videos_tmp\n",
    "\n",
    "videos"
   ],
   "metadata": {
    "id": "SZpwqEUdVtgx",
    "executionInfo": {
     "status": "ok",
     "timestamp": 1672935836717,
     "user_tz": -60,
     "elapsed": 516,
     "user": {
      "displayName": "Gallus Huber",
      "userId": "12757761605927470104"
     }
    },
    "outputId": "5c087887-053d-49bb-ba82-895d11b2dfe3",
    "colab": {
     "base_uri": "https://localhost:8080/"
    }
   }
  },
  {
   "cell_type": "markdown",
   "source": [
    "## 1.2 Load ground truth"
   ],
   "metadata": {
    "collapsed": false,
    "id": "P760GHefVtgx"
   }
  },
  {
   "cell_type": "markdown",
   "source": [
    "### 1.2.1 Read ground truth from CSV\n",
    "For each of our video files we read the ground truth and plot the occurrences of pigs in each of the videos."
   ],
   "metadata": {
    "collapsed": false,
    "id": "JAKfonUSVtgx"
   }
  },
  {
   "cell_type": "code",
   "execution_count": 11,
   "outputs": [],
   "source": [
    "ground_truth = dict()\n",
    "\n",
    "# read in corresponding ground truth\n",
    "for video in videos:\n",
    "        file_name = glob.glob(GROUND_TRUTH_PATH + '/*' + os.path.splitext(video)[0] + '*.csv')\n",
    "        csv = pd.read_csv(os.path.join(file_name[0]), sep=\";\")\n",
    "        ground_truth[video] = csv"
   ],
   "metadata": {
    "id": "T3b9LRm9Vtgz",
    "executionInfo": {
     "status": "ok",
     "timestamp": 1672935839907,
     "user_tz": -60,
     "elapsed": 3192,
     "user": {
      "displayName": "Gallus Huber",
      "userId": "12757761605927470104"
     }
    }
   }
  },
  {
   "cell_type": "markdown",
   "source": [
    "### 1.2.2 Plot the ground truth"
   ],
   "metadata": {
    "collapsed": false,
    "id": "YBjfaXTuVtgz"
   }
  },
  {
   "cell_type": "code",
   "execution_count": null,
   "outputs": [
    {
     "output_type": "display_data",
     "data": {
      "text/plain": [
       "<Figure size 1440x288 with 1 Axes>"
      ],
      "image/png": "[encoded data removed]"
     },
     "metadata": {
      "needs_background": "light"
     }
    },
    {
     "output_type": "display_data",
     "data": {
      "text/plain": [
       "<Figure size 1440x288 with 1 Axes>"
      ],
      "image/png": "[encoded data removed]"
     },
     "metadata": {
      "needs_background": "light"
     }
    },
    {
     "output_type": "display_data",
     "data": {
      "text/plain": [
       "<Figure size 1440x288 with 1 Axes>"
      ],
      "image/png": "[encoded data removed]"
     },
     "metadata": {
      "needs_background": "light"
     }
    }
   ],
   "source": [
    "for video in videos:\n",
    "    plot = plt.figure(figsize=(20, 4))\n",
    "\n",
    "    # define subplot\n",
    "    subplot = plot.add_subplot(111)\n",
    "    subplot.set_title(f\"Occurrences in Frames for {video}\")\n",
    "\n",
    "    # define x axis\n",
    "    subplot.set_xlabel('Frames')\n",
    "\n",
    "    # mark occurrences\n",
    "    frame_indicator = np.zeros(len(ground_truth[video]['Frame_number']))\n",
    "    frame_indicator[ground_truth[video][ground_truth[video][\"Pigs\"] == 1].index] = 1\n",
    "\n",
    "    subplot.plot(ground_truth[video][\"Pigs\"].index, frame_indicator)\n",
    "    plt.show()"
   ],
   "metadata": {
    "id": "wuTQHyDCVtgz",
    "executionInfo": {
     "status": "ok",
     "timestamp": 1672311778630,
     "user_tz": -60,
     "elapsed": 1489,
     "user": {
      "displayName": "",
      "userId": ""
     }
    },
    "outputId": "22eb977f-cc6a-4315-c030-15179ddbb822",
    "colab": {
     "base_uri": "https://localhost:8080/",
     "height": 767
    }
   }
  },
  {
   "cell_type": "markdown",
   "source": [
    "## 1.3 Load video data"
   ],
   "metadata": {
    "collapsed": false,
    "id": "OZvzfqVpVtg0"
   }
  },
  {
   "cell_type": "markdown",
   "source": [
    "### 1.3.1 Data structure to store splits\n",
    "All frames are now split into a train, validation and test set."
   ],
   "metadata": {
    "collapsed": false,
    "id": "wo0D7DObVtg0"
   }
  },
  {
   "cell_type": "code",
   "execution_count": 12,
   "outputs": [],
   "source": [
    "train_data = dict()\n",
    "valid_data = dict()\n",
    "test_data = dict()"
   ],
   "metadata": {
    "id": "qjIGHMqPVtg0",
    "executionInfo": {
     "status": "ok",
     "timestamp": 1672935839907,
     "user_tz": -60,
     "elapsed": 4,
     "user": {
      "displayName": "Gallus Huber",
      "userId": "12757761605927470104"
     }
    }
   }
  },
  {
   "cell_type": "markdown",
   "source": [
    "### 1.3.2 Create splits\n",
    "The ground truth is split into training set, validation set and testing set."
   ],
   "metadata": {
    "collapsed": false,
    "id": "rdeGylIiVtg0"
   }
  },
  {
   "cell_type": "code",
   "execution_count": 13,
   "outputs": [],
   "source": [
    "for video in videos:\n",
    "    train_data[video], test_data[video] = ms.train_test_split(ground_truth[video], test_size=0.2, shuffle=True, random_state=42)\n",
    "    train_data[video], valid_data[video] = ms.train_test_split(train_data[video], test_size=0.25, random_state=42)"
   ],
   "metadata": {
    "id": "ue7NHQmTVtg1",
    "executionInfo": {
     "status": "ok",
     "timestamp": 1672935840774,
     "user_tz": -60,
     "elapsed": 2,
     "user": {
      "displayName": "Gallus Huber",
      "userId": "12757761605927470104"
     }
    }
   }
  },
  {
   "cell_type": "markdown",
   "source": [
    "### 1.3.3 Get frames of video\n",
    "The frames are written to the corresponding directory based on the splits and ground truth."
   ],
   "metadata": {
    "collapsed": false,
    "id": "J2xC8JZOVtg1"
   }
  },
  {
   "cell_type": "code",
   "execution_count": 14,
   "metadata": {
    "id": "AvnX8mhZCCjE",
    "executionInfo": {
     "status": "ok",
     "timestamp": 1672936945843,
     "user_tz": -60,
     "elapsed": 1102999,
     "user": {
      "displayName": "Gallus Huber",
      "userId": "12757761605927470104"
     }
    },
    "outputId": "63e2c336-43fe-4b24-a8b8-c5e22234dd67",
    "colab": {
     "base_uri": "https://localhost:8080/"
    }
   },
   "outputs": [
    {
     "output_type": "stream",
     "name": "stdout",
     "text": [
      "Loaded frames of Muppets-03-04-03.avi successfully\n",
      "Loaded frames of Muppets-02-01-01.avi successfully\n",
      "Loaded frames of Muppets-02-04-04.avi successfully\n"
     ]
    }
   ],
   "source": [
    "def retrieve_frames(video_file):\n",
    "    # open a videoCap for this video\n",
    "    video_cap = cv2.VideoCapture(os.path.join(VIDEO_PATH, video_file))\n",
    "\n",
    "    # used to identify frame in ground truth\n",
    "    frame_nr = 0\n",
    "\n",
    "    # read all frames of video\n",
    "    while True:\n",
    "        # get one frame\n",
    "        success_read, frame_read = video_cap.read()\n",
    "\n",
    "        # no more frames available\n",
    "        if not success_read:\n",
    "            break\n",
    "\n",
    "        # create filename\n",
    "        filename = 'frame_%d.jpg' % frame_nr\n",
    "\n",
    "        # write frames to dir\n",
    "        if frame_nr in train_data[video_file].Frame_number:\n",
    "            if (train_data[video_file][train_data[video_file].Frame_number == frame_nr].Pigs == 0).bool():\n",
    "                cv2.imwrite(os.path.join(train_path_0, filename), frame_read)\n",
    "            else:\n",
    "                cv2.imwrite(os.path.join(train_path_1, filename), frame_read)\n",
    "\n",
    "        elif frame_nr in valid_data[video_file].Frame_number:\n",
    "            if (valid_data[video_file][valid_data[video_file].Frame_number == frame_nr].Pigs == 0).bool():\n",
    "                cv2.imwrite(os.path.join(valid_path_0, filename), frame_read)\n",
    "            else:\n",
    "                cv2.imwrite(os.path.join(valid_path_1, filename), frame_read)\n",
    "\n",
    "        elif frame_nr in test_data[video_file].Frame_number:\n",
    "            if (test_data[video_file][test_data[video_file].Frame_number == frame_nr].Pigs == 0).bool():\n",
    "                cv2.imwrite(os.path.join(test_path_0, filename), frame_read)\n",
    "            else:\n",
    "                cv2.imwrite(os.path.join(test_path_1, filename), frame_read)\n",
    "\n",
    "        # go to next frame\n",
    "        frame_nr += 1\n",
    "\n",
    "\n",
    "for video in videos:\n",
    "    retrieve_frames(video)\n",
    "    print(f\"Loaded frames of {video} successfully\")"
   ]
  },
  {
   "cell_type": "markdown",
   "metadata": {
    "id": "p6LjAkswCCjE"
   },
   "source": [
    "# 2 Model"
   ]
  },
  {
   "cell_type": "markdown",
   "source": [
    "## 2.1 Build model"
   ],
   "metadata": {
    "collapsed": false,
    "id": "_k54XZ9DVtg2"
   }
  },
  {
   "cell_type": "markdown",
   "source": [
    "### 2.1.1 Create the model\n",
    "For our model we use a pretrained model and add additional layers for fine-tuning. We will not train the entire model, but only the layers added ourselves."
   ],
   "metadata": {
    "collapsed": false,
    "id": "AqANRclSVtg2"
   }
  },
  {
   "cell_type": "code",
   "execution_count": 128,
   "metadata": {
    "id": "QPqd53OPCCjH",
    "colab": {
     "base_uri": "https://localhost:8080/"
    },
    "executionInfo": {
     "status": "ok",
     "timestamp": 1672940851725,
     "user_tz": -60,
     "elapsed": 726,
     "user": {
      "displayName": "Gallus Huber",
      "userId": "12757761605927470104"
     }
    },
    "outputId": "bc2afc1e-dad3-44ab-aa0b-8300ebe5efc2"
   },
   "outputs": [
    {
     "output_type": "stream",
     "name": "stdout",
     "text": [
      "Model: \"model_1\"\n",
      "_________________________________________________________________\n",
      " Layer (type)                Output Shape              Param #   \n",
      "=================================================================\n",
      " input_2 (InputLayer)        [(None, 224, 224, 3)]     0         \n",
      "                                                                 \n",
      " block1_conv1 (Conv2D)       (None, 224, 224, 64)      1792      \n",
      "                                                                 \n",
      " block1_conv2 (Conv2D)       (None, 224, 224, 64)      36928     \n",
      "                                                                 \n",
      " block1_pool (MaxPooling2D)  (None, 112, 112, 64)      0         \n",
      "                                                                 \n",
      " block2_conv1 (Conv2D)       (None, 112, 112, 128)     73856     \n",
      "                                                                 \n",
      " block2_conv2 (Conv2D)       (None, 112, 112, 128)     147584    \n",
      "                                                                 \n",
      " block2_pool (MaxPooling2D)  (None, 56, 56, 128)       0         \n",
      "                                                                 \n",
      " block3_conv1 (Conv2D)       (None, 56, 56, 256)       295168    \n",
      "                                                                 \n",
      " block3_conv2 (Conv2D)       (None, 56, 56, 256)       590080    \n",
      "                                                                 \n",
      " block3_conv3 (Conv2D)       (None, 56, 56, 256)       590080    \n",
      "                                                                 \n",
      " block3_pool (MaxPooling2D)  (None, 28, 28, 256)       0         \n",
      "                                                                 \n",
      " block4_conv1 (Conv2D)       (None, 28, 28, 512)       1180160   \n",
      "                                                                 \n",
      " block4_conv2 (Conv2D)       (None, 28, 28, 512)       2359808   \n",
      "                                                                 \n",
      " block4_conv3 (Conv2D)       (None, 28, 28, 512)       2359808   \n",
      "                                                                 \n",
      " block4_pool (MaxPooling2D)  (None, 14, 14, 512)       0         \n",
      "                                                                 \n",
      " block5_conv1 (Conv2D)       (None, 14, 14, 512)       2359808   \n",
      "                                                                 \n",
      " block5_conv2 (Conv2D)       (None, 14, 14, 512)       2359808   \n",
      "                                                                 \n",
      " block5_conv3 (Conv2D)       (None, 14, 14, 512)       2359808   \n",
      "                                                                 \n",
      " block5_pool (MaxPooling2D)  (None, 7, 7, 512)         0         \n",
      "                                                                 \n",
      " conv2d_3 (Conv2D)           (None, 7, 7, 512)         12845568  \n",
      "                                                                 \n",
      " conv2d_4 (Conv2D)           (None, 7, 7, 512)         12845568  \n",
      "                                                                 \n",
      " conv2d_5 (Conv2D)           (None, 7, 7, 512)         12845568  \n",
      "                                                                 \n",
      " max_pooling2d_1 (MaxPooling  (None, 3, 3, 512)        0         \n",
      " 2D)                                                             \n",
      "                                                                 \n",
      " flatten_1 (Flatten)         (None, 4608)              0         \n",
      "                                                                 \n",
      " dense_1 (Dense)             (None, 1)                 4609      \n",
      "                                                                 \n",
      "=================================================================\n",
      "Total params: 53,256,001\n",
      "Trainable params: 38,541,313\n",
      "Non-trainable params: 14,714,688\n",
      "_________________________________________________________________\n"
     ]
    }
   ],
   "source": [
    "# create base model -> pretrained model\n",
    "base_model = appl.VGG16(weights='imagenet', include_top=False, input_shape=(224, 224, 3))\n",
    "\n",
    "# add base model\n",
    "head_model = base_model.output\n",
    "\n",
    "# additional hidden layer\n",
    "head_model = layers.Conv2D(512, kernel_size=(7, 7), activation=\"relu\", padding='same')(head_model)\n",
    "head_model = layers.Conv2D(512, kernel_size=(7, 7), activation=\"relu\", padding='same')(head_model)\n",
    "head_model = layers.Conv2D(512, kernel_size=(7, 7), activation=\"relu\", padding='same')(head_model)\n",
    "\n",
    "# create output layer\n",
    "head_model = layers.MaxPooling2D(pool_size=(2, 2))(head_model)\n",
    "head_model = layers.Flatten()(head_model)\n",
    "head_model = layers.Dense(1, activation=\"sigmoid\")(head_model)\n",
    "\n",
    "# create model\n",
    "model = models.Model(base_model.input, head_model)\n",
    "\n",
    "# base model should not be trained\n",
    "for layer in base_model.layers:\n",
    "\tlayer.trainable = False\n",
    "\n",
    "model.summary()"
   ]
  },
  {
   "cell_type": "markdown",
   "source": [
    "### 2.1.2 Plot the model\n",
    "Now we visualize the architecture of our model."
   ],
   "metadata": {
    "collapsed": false,
    "id": "_QzyLzerVtg3"
   }
  },
  {
   "cell_type": "code",
   "execution_count": null,
   "outputs": [
    {
     "output_type": "execute_result",
     "data": {
      "text/plain": [
       "<PIL.Image.Image image mode=RGBA size=1690x1231 at 0x7F94A66AF1F0>"
      ],
      "image/png": "[encoded data removed]"
     },
     "metadata": {},
     "execution_count": 12
    }
   ],
   "source": [
    "# set colors for each used layer\n",
    "color_map = collections.defaultdict(dict)\n",
    "color_map[layers.InputLayer]['fill'] = '#7D670C'\n",
    "color_map[layers.Conv2D]['fill'] = '#060A7D'\n",
    "color_map[layers.MaxPooling2D]['fill'] = '#7C0400'\n",
    "color_map[layers.Flatten]['fill'] = '#7D066F'\n",
    "color_map[layers.Dense]['fill'] = '#0C7D34'\n",
    "color_map[layers.Dropout]['fill'] = '#808080'\n",
    "\n",
    "# plot the model\n",
    "visualkeras.layered_view(model, legend=True, color_map=color_map)"
   ],
   "metadata": {
    "colab": {
     "base_uri": "https://localhost:8080/",
     "height": 773
    },
    "id": "AVw0ddhMVtg3",
    "executionInfo": {
     "status": "ok",
     "timestamp": 1672311782626,
     "user_tz": -60,
     "elapsed": 5,
     "user": {
      "displayName": "",
      "userId": ""
     }
    },
    "outputId": "f0bd0f10-dd84-47d5-d3eb-c21b4d7654d6"
   }
  },
  {
   "cell_type": "markdown",
   "metadata": {
    "id": "vfvb2uGLCCjI"
   },
   "source": [
    "## 2.2 Compile model\n",
    "We compile the model with additional metrics and an optimizer."
   ]
  },
  {
   "cell_type": "code",
   "execution_count": 129,
   "metadata": {
    "id": "ACR_Bii3CCjI",
    "executionInfo": {
     "status": "ok",
     "timestamp": 1672940854945,
     "user_tz": -60,
     "elapsed": 2,
     "user": {
      "displayName": "Gallus Huber",
      "userId": "12757761605927470104"
     }
    }
   },
   "outputs": [],
   "source": [
    "metrics = [tf.keras.metrics.AUC(name='prc', curve='PR', num_thresholds=200),\n",
    "                   tf.keras.metrics.Recall(name=\"recall\"), \n",
    "                   tf.keras.metrics.Precision(name=\"precision\")]\n",
    "\n",
    "model.compile(loss='binary_crossentropy', optimizer=optimizers.Adam(), \n",
    "              metrics=metrics)"
   ]
  },
  {
   "cell_type": "markdown",
   "metadata": {
    "id": "BIdnKb3_CCjI"
   },
   "source": [
    "## 2.3 Train model"
   ]
  },
  {
   "cell_type": "markdown",
   "source": [
    "### 2.3.1 Load training and validation sets\n",
    "Now we can load the frames from the directories with inferred labels and the needed image size for our model."
   ],
   "metadata": {
    "id": "dpLViLFQyb0B"
   }
  },
  {
   "cell_type": "code",
   "source": [
    "# load training set\n",
    "train_ds = utils.image_dataset_from_directory(\n",
    "    directory=TRAINING_PATH,\n",
    "    labels='inferred',\n",
    "    label_mode='binary',\n",
    "    batch_size=32,\n",
    "    image_size=(224, 224))\n",
    "\n",
    "# load validation set\n",
    "validation_ds = utils.image_dataset_from_directory(\n",
    "    directory=VALIDATION_PATH,\n",
    "    labels='inferred',\n",
    "    label_mode='binary',\n",
    "    batch_size=32,\n",
    "    image_size=(224, 224))"
   ],
   "metadata": {
    "colab": {
     "base_uri": "https://localhost:8080/"
    },
    "id": "OFWnLwADyT_z",
    "executionInfo": {
     "status": "ok",
     "timestamp": 1672936958744,
     "user_tz": -60,
     "elapsed": 3679,
     "user": {
      "displayName": "Gallus Huber",
      "userId": "12757761605927470104"
     }
    },
    "outputId": "a000c13f-cc01-403a-917a-65319b175974"
   },
   "execution_count": 17,
   "outputs": [
    {
     "output_type": "stream",
     "name": "stdout",
     "text": [
      "Found 44094 files belonging to 2 classes.\n",
      "Found 19859 files belonging to 2 classes.\n"
     ]
    }
   ]
  },
  {
   "cell_type": "markdown",
   "source": [
    "### 2.3.2 Analyze class imbalance\n",
    "Since the underlying problem is an imbalanced classification problem, we will create class weights based on our training set."
   ],
   "metadata": {
    "id": "Sxm4BznZykQG"
   }
  },
  {
   "cell_type": "code",
   "source": [
    "train_0 = len(os.listdir(train_path_0))\n",
    "train_1 = len(os.listdir(train_path_1))\n",
    "\n",
    "print(\n",
    "    \"Number of positive samples in training data: {} ({:.2f}% of total)\".format(\n",
    "        train_1, 100 * float(train_1) / len(train_ds.file_paths)\n",
    "    )\n",
    ")\n",
    "\n",
    "weight_for_0 = 1.0 / train_0\n",
    "weight_for_1 = 1.0 / train_1\n",
    "\n",
    "class_weight = {0: weight_for_0, 1: weight_for_1}"
   ],
   "metadata": {
    "colab": {
     "base_uri": "https://localhost:8080/"
    },
    "id": "V6pSUIVPyp5q",
    "executionInfo": {
     "status": "ok",
     "timestamp": 1672311791948,
     "user_tz": -60,
     "elapsed": 5,
     "user": {
      "displayName": "",
      "userId": ""
     }
    },
    "outputId": "4e1a8f8e-cf56-4587-8196-f2531c06bc42"
   },
   "execution_count": null,
   "outputs": [
    {
     "output_type": "stream",
     "name": "stdout",
     "text": [
      "Number of positive samples in training data: 12051 (27.33% of total)\n"
     ]
    }
   ]
  },
  {
   "cell_type": "markdown",
   "source": [
    "### 2.3.3 Normalize\n",
    "We will also standardize our inputs by rescaling the frames."
   ],
   "metadata": {
    "id": "yWar17hpzNCL"
   }
  },
  {
   "cell_type": "code",
   "source": [
    "normalization_layer = layers.Rescaling(1./255)\n",
    "\n",
    "train_ds = train_ds.map(lambda x, y: (normalization_layer(x), y))\n",
    "validation_ds = validation_ds.map(lambda x, y: (normalization_layer(x), y))"
   ],
   "metadata": {
    "id": "dYmtAE5azTV4",
    "executionInfo": {
     "status": "ok",
     "timestamp": 1672936958744,
     "user_tz": -60,
     "elapsed": 15,
     "user": {
      "displayName": "Gallus Huber",
      "userId": "12757761605927470104"
     }
    }
   },
   "execution_count": 18,
   "outputs": []
  },
  {
   "cell_type": "markdown",
   "source": [
    "### 2.3.4 Train model\n",
    "We use the validation loss for early stopping during the training process. Additionally, we create a model checkpoint observing the PRAUC, as a tradeoff between Precision and Recall."
   ],
   "metadata": {
    "collapsed": false,
    "id": "qu9KS168Vtg4"
   }
  },
  {
   "cell_type": "code",
   "execution_count": null,
   "outputs": [
    {
     "output_type": "stream",
     "name": "stdout",
     "text": [
      "Epoch 1/100\n",
      "1378/1378 [==============================] - 481s 334ms/step - loss: 5.1811e-06 - prc: 0.9776 - recall: 0.9554 - precision: 0.8989 - val_loss: 0.0579 - val_prc: 0.9896 - val_recall: 0.9806 - val_precision: 0.9329\n",
      "Epoch 2/100\n",
      "1378/1378 [==============================] - 455s 330ms/step - loss: 1.7229e-06 - prc: 0.9943 - recall: 0.9894 - precision: 0.9663 - val_loss: 0.0274 - val_prc: 0.9950 - val_recall: 0.9935 - val_precision: 0.9688\n",
      "Epoch 3/100\n",
      "1378/1378 [==============================] - 452s 328ms/step - loss: 1.0875e-06 - prc: 0.9962 - recall: 0.9935 - precision: 0.9775 - val_loss: 0.0966 - val_prc: 0.9770 - val_recall: 0.9979 - val_precision: 0.8865\n",
      "Epoch 4/100\n",
      "1378/1378 [==============================] - 453s 328ms/step - loss: 8.4112e-07 - prc: 0.9971 - recall: 0.9944 - precision: 0.9829 - val_loss: 0.0218 - val_prc: 0.9945 - val_recall: 0.9902 - val_precision: 0.9826\n",
      "Epoch 5/100\n",
      "1378/1378 [==============================] - 456s 330ms/step - loss: 6.6319e-07 - prc: 0.9978 - recall: 0.9965 - precision: 0.9866 - val_loss: 0.0180 - val_prc: 0.9980 - val_recall: 0.9897 - val_precision: 0.9806\n",
      "Epoch 6/100\n",
      "1378/1378 [==============================] - 453s 328ms/step - loss: 4.6634e-07 - prc: 0.9988 - recall: 0.9973 - precision: 0.9897 - val_loss: 0.0164 - val_prc: 0.9964 - val_recall: 0.9918 - val_precision: 0.9858\n",
      "Epoch 7/100\n",
      "1378/1378 [==============================] - 453s 328ms/step - loss: 4.5742e-07 - prc: 0.9982 - recall: 0.9983 - precision: 0.9900 - val_loss: 0.0338 - val_prc: 0.9930 - val_recall: 0.9657 - val_precision: 0.9945\n",
      "Epoch 8/100\n",
      "1378/1378 [==============================] - 452s 327ms/step - loss: 3.9701e-07 - prc: 0.9984 - recall: 0.9982 - precision: 0.9922 - val_loss: 0.0223 - val_prc: 0.9955 - val_recall: 0.9967 - val_precision: 0.9724\n",
      "Epoch 9/100\n",
      "1378/1378 [==============================] - 453s 328ms/step - loss: 3.8591e-07 - prc: 0.9989 - recall: 0.9980 - precision: 0.9917 - val_loss: 0.0191 - val_prc: 0.9969 - val_recall: 0.9881 - val_precision: 0.9844\n",
      "Epoch 10/100\n",
      "1378/1378 [==============================] - 453s 328ms/step - loss: 3.1706e-07 - prc: 0.9991 - recall: 0.9987 - precision: 0.9938 - val_loss: 0.0187 - val_prc: 0.9956 - val_recall: 0.9923 - val_precision: 0.9847\n",
      "Epoch 11/100\n",
      "1378/1378 [==============================] - 452s 328ms/step - loss: 2.5191e-07 - prc: 0.9991 - recall: 0.9987 - precision: 0.9942 - val_loss: 0.0157 - val_prc: 0.9973 - val_recall: 0.9874 - val_precision: 0.9923\n",
      "Epoch 12/100\n",
      "1378/1378 [==============================] - 452s 327ms/step - loss: 2.9468e-07 - prc: 0.9994 - recall: 0.9985 - precision: 0.9930 - val_loss: 0.0136 - val_prc: 0.9970 - val_recall: 0.9904 - val_precision: 0.9927\n",
      "Epoch 13/100\n",
      "1378/1378 [==============================] - 453s 328ms/step - loss: 2.0271e-07 - prc: 0.9993 - recall: 0.9989 - precision: 0.9955 - val_loss: 0.0177 - val_prc: 0.9953 - val_recall: 0.9907 - val_precision: 0.9909\n",
      "Epoch 14/100\n",
      "1378/1378 [==============================] - 453s 328ms/step - loss: 1.9856e-07 - prc: 0.9995 - recall: 0.9989 - precision: 0.9957 - val_loss: 0.0209 - val_prc: 0.9956 - val_recall: 0.9965 - val_precision: 0.9738\n",
      "Epoch 15/100\n",
      "1378/1378 [==============================] - 452s 327ms/step - loss: 2.1098e-07 - prc: 0.9994 - recall: 0.9991 - precision: 0.9950 - val_loss: 0.0243 - val_prc: 0.9937 - val_recall: 0.9902 - val_precision: 0.9874\n",
      "Epoch 16/100\n",
      "1378/1378 [==============================] - 452s 328ms/step - loss: 2.5067e-07 - prc: 0.9994 - recall: 0.9985 - precision: 0.9941 - val_loss: 0.0228 - val_prc: 0.9948 - val_recall: 0.9825 - val_precision: 0.9932\n",
      "Epoch 17/100\n",
      "1378/1378 [==============================] - 453s 328ms/step - loss: 1.9093e-07 - prc: 0.9995 - recall: 0.9993 - precision: 0.9966 - val_loss: 0.0140 - val_prc: 0.9971 - val_recall: 0.9893 - val_precision: 0.9937\n",
      "Epoch 18/100\n",
      "1378/1378 [==============================] - 453s 328ms/step - loss: 1.7469e-07 - prc: 0.9993 - recall: 0.9993 - precision: 0.9957 - val_loss: 0.0183 - val_prc: 0.9955 - val_recall: 0.9872 - val_precision: 0.9913\n",
      "Epoch 19/100\n",
      "1378/1378 [==============================] - 453s 328ms/step - loss: 1.7546e-07 - prc: 0.9995 - recall: 0.9989 - precision: 0.9959 - val_loss: 0.0180 - val_prc: 0.9952 - val_recall: 0.9932 - val_precision: 0.9907\n",
      "Epoch 20/100\n",
      "1378/1378 [==============================] - 453s 328ms/step - loss: 1.1396e-07 - prc: 0.9997 - recall: 0.9994 - precision: 0.9975 - val_loss: 0.0229 - val_prc: 0.9948 - val_recall: 0.9932 - val_precision: 0.9822\n",
      "Epoch 21/100\n",
      "1378/1378 [==============================] - 452s 328ms/step - loss: 2.5629e-07 - prc: 0.9997 - recall: 0.9985 - precision: 0.9942 - val_loss: 0.0153 - val_prc: 0.9974 - val_recall: 0.9944 - val_precision: 0.9875\n",
      "Epoch 22/100\n",
      "1378/1378 [==============================] - 453s 328ms/step - loss: 1.7478e-07 - prc: 0.9997 - recall: 0.9991 - precision: 0.9962 - val_loss: 0.0147 - val_prc: 0.9965 - val_recall: 0.9930 - val_precision: 0.9916\n"
     ]
    }
   ],
   "source": [
    "callbacks = [cb.EarlyStopping(monitor='val_loss', patience=10),\n",
    "             cb.ModelCheckpoint(filepath=os.path.join(MODEL_PATH, 'video-dl'), monitor='val_prc', mode='max', save_best_only=True, save_weights_only=True)]\n",
    "\n",
    "with tf.device('/device:GPU:0'):\n",
    "  history = model.fit(train_ds, epochs=100, validation_data=validation_ds, callbacks=callbacks, class_weight=class_weight)"
   ],
   "metadata": {
    "colab": {
     "base_uri": "https://localhost:8080/"
    },
    "id": "UsnA5nzEVtg4",
    "outputId": "326bf32e-e6c3-45cc-e45e-9e9059ef7f96",
    "executionInfo": {
     "status": "ok",
     "timestamp": 1672322397941,
     "user_tz": -60,
     "elapsed": 10605996,
     "user": {
      "displayName": "",
      "userId": ""
     }
    }
   }
  },
  {
   "cell_type": "markdown",
   "source": [
    "### 2.3.5 Plot training results"
   ],
   "metadata": {
    "collapsed": false,
    "id": "kVBoLbuHVtg4"
   }
  },
  {
   "cell_type": "code",
   "execution_count": null,
   "outputs": [
    {
     "output_type": "display_data",
     "data": {
      "text/plain": [
       "<Figure size 1080x720 with 4 Axes>"
      ],
      "image/png": "[encoded data removed]"
     },
     "metadata": {
      "needs_background": "light"
     }
    }
   ],
   "source": [
    "history = history.history\n",
    "epochs = np.arange(len(history[\"loss\"]))\n",
    "\n",
    "fig, axs = plt.subplots(2, 2, figsize=(15, 10))\n",
    "axs[0, 0].plot(epochs, history[\"loss\"], label=\"Training\")\n",
    "axs[0, 0].plot(epochs, history[\"val_loss\"], label=\"Validation\")\n",
    "axs[0, 0].set_title(\"Loss (Binary Cross Entropy)\")\n",
    "axs[0, 0].legend()\n",
    "\n",
    "axs[0, 1].plot(epochs, history[\"prc\"], label=\"Training\")\n",
    "axs[0, 1].plot(epochs, history[\"val_prc\"], label=\"Validation\")\n",
    "axs[0, 1].set_title(\"Precision/Recall AUC\")\n",
    "axs[0, 1].legend()\n",
    "\n",
    "axs[1, 0].plot(epochs, history[\"precision\"], label=\"Training\")\n",
    "axs[1, 0].plot(epochs, history[\"val_precision\"], label=\"Validation\")\n",
    "axs[1, 0].set_title(\"Precision\")\n",
    "axs[1, 0].legend()\n",
    "\n",
    "axs[1, 1].plot(epochs, history[\"recall\"], label=\"Training\")\n",
    "axs[1, 1].plot(epochs, history[\"val_recall\"], label=\"Validation\")\n",
    "axs[1, 1].set_title(\"Recall\")\n",
    "axs[1, 1].legend()\n",
    "\n",
    "plt.tight_layout()\n",
    "plt.show()"
   ],
   "metadata": {
    "id": "Dkbfe2-tVtg5",
    "colab": {
     "base_uri": "https://localhost:8080/",
     "height": 706
    },
    "executionInfo": {
     "status": "ok",
     "timestamp": 1672322399036,
     "user_tz": -60,
     "elapsed": 1114,
     "user": {
      "displayName": "",
      "userId": ""
     }
    },
    "outputId": "fac5f8c9-31e9-4a6f-af6b-7a718d181b14"
   }
  },
  {
   "cell_type": "markdown",
   "source": [
    "As we can see in the results, after unstable first 5 epochs all four metrics become better almost every epoch. In general the scores are very satisfactory. Since we added a Checkpoint during our training process, we get a model where Precision and Recall are balanced with a high score."
   ],
   "metadata": {
    "collapsed": false
   }
  },
  {
   "cell_type": "markdown",
   "source": [
    "# 3 Results"
   ],
   "metadata": {
    "collapsed": false,
    "id": "YNW2b20LVtg6"
   }
  },
  {
   "cell_type": "markdown",
   "source": [
    "## 3.1 Load best model"
   ],
   "metadata": {
    "collapsed": false,
    "id": "P2sVL1vZ7JE1"
   }
  },
  {
   "cell_type": "code",
   "execution_count": 131,
   "outputs": [
    {
     "output_type": "execute_result",
     "data": {
      "text/plain": [
       "<tensorflow.python.training.tracking.util.CheckpointLoadStatus at 0x7f5718a6c610>"
      ]
     },
     "metadata": {},
     "execution_count": 131
    }
   ],
   "source": [
    "model.load_weights(os.path.join(MODEL_PATH, \"video-dl\"))"
   ],
   "metadata": {
    "id": "KGayZYWp7JE1",
    "colab": {
     "base_uri": "https://localhost:8080/"
    },
    "executionInfo": {
     "status": "ok",
     "timestamp": 1672941405342,
     "user_tz": -60,
     "elapsed": 15246,
     "user": {
      "displayName": "Gallus Huber",
      "userId": "12757761605927470104"
     }
    },
    "outputId": "a696c4dc-c275-478c-a929-c92932204319"
   }
  },
  {
   "cell_type": "markdown",
   "source": [
    "## 3.2 Evaluate model\n",
    "Now we evaluate our best model on the test set."
   ],
   "metadata": {
    "collapsed": false,
    "id": "8Z9fMF067JE1"
   }
  },
  {
   "cell_type": "code",
   "execution_count": 132,
   "outputs": [
    {
     "output_type": "stream",
     "name": "stdout",
     "text": [
      "Found 16275 files belonging to 2 classes.\n",
      "509/509 [==============================] - 96s 186ms/step - loss: 0.0204 - prc: 0.9967 - recall: 0.9910 - precision: 0.9875\n"
     ]
    }
   ],
   "source": [
    "# load testing set\n",
    "test_ds = utils.image_dataset_from_directory(\n",
    "    directory=TESTING_PATH,\n",
    "    labels='inferred',\n",
    "    label_mode='binary',\n",
    "    batch_size=32,\n",
    "    image_size=(224, 224))\n",
    "\n",
    "# normalize testing set\n",
    "test_ds = test_ds.map(lambda x, y: (normalization_layer(x), y))\n",
    "\n",
    "# evaluate the model\n",
    "results = model.evaluate(test_ds, batch_size=128)"
   ],
   "metadata": {
    "id": "m8qysU8K7JE2",
    "executionInfo": {
     "status": "ok",
     "timestamp": 1672941502336,
     "user_tz": -60,
     "elapsed": 97009,
     "user": {
      "displayName": "Gallus Huber",
      "userId": "12757761605927470104"
     }
    },
    "colab": {
     "base_uri": "https://localhost:8080/"
    },
    "outputId": "9f2c83f3-7484-454f-bde4-d6962071a0a6"
   }
  },
  {
   "cell_type": "markdown",
   "source": [
    "## 3.3 Predict\n",
    "For the final evaluation we make a prediction for every frame of the 3 sets."
   ],
   "metadata": {
    "collapsed": false,
    "id": "tm1LS6CPTdFA"
   }
  },
  {
   "cell_type": "code",
   "execution_count": 139,
   "outputs": [],
   "source": [
    "y_hat_train = []\n",
    "y_train = []\n",
    "y_hat_valid = []\n",
    "y_valid = []\n",
    "y_hat_test = []\n",
    "y_test = []\n",
    "\n",
    "for X, y in train_ds:\n",
    "  y_hat_train = np.concatenate([y_hat_train, model.predict(X, verbose = 0).reshape(-1)])\n",
    "  y_train = np.concatenate([y_train, y.numpy().reshape(-1)])\n",
    "\n",
    "for X, y in validation_ds:\n",
    "  y_hat_valid = np.concatenate([y_hat_valid, model.predict(X, verbose = 0).reshape(-1)])\n",
    "  y_valid = np.concatenate([y_valid, y.numpy().reshape(-1)])\n",
    "\n",
    "for X, y in test_ds:\n",
    "  y_hat_test = np.concatenate([y_hat_test, model.predict(X, verbose = 0).reshape(-1)])\n",
    "  y_test = np.concatenate([y_test, y.numpy().reshape(-1)])"
   ],
   "metadata": {
    "id": "ias6hlcCTdFA",
    "executionInfo": {
     "status": "ok",
     "timestamp": 1672942580938,
     "user_tz": -60,
     "elapsed": 913341,
     "user": {
      "displayName": "Gallus Huber",
      "userId": "12757761605927470104"
     }
    }
   }
  },
  {
   "cell_type": "markdown",
   "source": [
    "## 3.4 Calculate PR curve for validation set and find optimal cutoff value\n",
    "We use the labels of ground truth together with our prediction to calculate a Precision-Recall curve for estimating the optimal cutoff threshold."
   ],
   "metadata": {
    "collapsed": false,
    "id": "AmXKjj2GTdFB"
   }
  },
  {
   "cell_type": "code",
   "execution_count": 140,
   "outputs": [
    {
     "output_type": "stream",
     "name": "stdout",
     "text": [
      "Found optimal cutoff threshold at 0.6116859316825867\n"
     ]
    }
   ],
   "source": [
    "precision, recall, thresholds = mt.precision_recall_curve(y_valid, y_hat_valid)\n",
    "\n",
    "fscore = (2 * precision * recall) / (precision + recall)\n",
    "\n",
    "optimal_idx = np.argmax(fscore)\n",
    "optimal_cutoff = thresholds[optimal_idx]\n",
    "\n",
    "print(f\"Found optimal cutoff threshold at {optimal_cutoff}\")"
   ],
   "metadata": {
    "id": "fVDjbWnITdFC",
    "executionInfo": {
     "status": "ok",
     "timestamp": 1672942580939,
     "user_tz": -60,
     "elapsed": 21,
     "user": {
      "displayName": "Gallus Huber",
      "userId": "12757761605927470104"
     }
    },
    "colab": {
     "base_uri": "https://localhost:8080/"
    },
    "outputId": "2e90e18d-08fb-46c4-e96c-66fb5a6fa0e9"
   }
  },
  {
   "cell_type": "markdown",
   "source": [
    "## 3.5 Show ROC curves\n",
    "Now we create Roc curves for every set."
   ],
   "metadata": {
    "collapsed": false,
    "id": "JbhSz0SbTdFC"
   }
  },
  {
   "cell_type": "code",
   "execution_count": 141,
   "outputs": [
    {
     "output_type": "display_data",
     "data": {
      "text/plain": [
       "<Figure size 432x288 with 1 Axes>"
      ],
      "image/png": "[encoded data removed]"
     },
     "metadata": {
      "needs_background": "light"
     }
    }
   ],
   "source": [
    "fig, ax = plt.subplots()\n",
    "\n",
    "mt.RocCurveDisplay.from_predictions(y_train, y_hat_train, name=\"CNN train data\", ax=ax)\n",
    "mt.RocCurveDisplay.from_predictions(y_valid, y_hat_valid, name=\"CNN val data\", ax=ax)\n",
    "mt.RocCurveDisplay.from_predictions(y_test, y_hat_test, name=\"CNN train data\", ax=ax)\n",
    "\n",
    "plt.show()"
   ],
   "metadata": {
    "id": "2VVm-woRTdFC",
    "executionInfo": {
     "status": "ok",
     "timestamp": 1672942580939,
     "user_tz": -60,
     "elapsed": 7,
     "user": {
      "displayName": "Gallus Huber",
      "userId": "12757761605927470104"
     }
    },
    "colab": {
     "base_uri": "https://localhost:8080/",
     "height": 279
    },
    "outputId": "e6225f6f-85eb-4494-838b-d71e55a197eb"
   }
  },
  {
   "cell_type": "markdown",
   "source": [
    "As we can see, the ROC curves are almost perfect."
   ],
   "metadata": {
    "collapsed": false
   }
  },
  {
   "cell_type": "markdown",
   "source": [
    "## 3.6 Discretize predictions to calculate further metrics"
   ],
   "metadata": {
    "collapsed": false,
    "id": "zXXuttIpTdFC"
   }
  },
  {
   "cell_type": "code",
   "execution_count": 142,
   "outputs": [],
   "source": [
    "# discretize predictions\n",
    "cutoff = optimal_cutoff\n",
    "\n",
    "y_hat_train_discrete = y_hat_train.copy()\n",
    "y_hat_train_discrete[y_hat_train_discrete < cutoff] = 0\n",
    "y_hat_train_discrete[y_hat_train_discrete >= cutoff] = 1\n",
    "\n",
    "y_hat_val_discrete = y_hat_valid.copy()\n",
    "y_hat_val_discrete[y_hat_val_discrete < cutoff] = 0\n",
    "y_hat_val_discrete[y_hat_val_discrete >= cutoff] = 1\n",
    "\n",
    "y_hat_test_discrete = y_hat_test.copy()\n",
    "y_hat_test_discrete[y_hat_test_discrete < cutoff] = 0\n",
    "y_hat_test_discrete[y_hat_test_discrete >= cutoff] = 1"
   ],
   "metadata": {
    "id": "cRMNMYVmTdFD",
    "executionInfo": {
     "status": "ok",
     "timestamp": 1672942580939,
     "user_tz": -60,
     "elapsed": 5,
     "user": {
      "displayName": "Gallus Huber",
      "userId": "12757761605927470104"
     }
    }
   }
  },
  {
   "cell_type": "markdown",
   "source": [
    "## 3.7 Calculate metrics\n",
    "Now we will calculate some further metrics (Precision, recall, fscore, AP) for our three set, which will be visualized afterwards."
   ],
   "metadata": {
    "collapsed": false,
    "id": "XMKbyJJlTdFD"
   }
  },
  {
   "cell_type": "code",
   "execution_count": 143,
   "outputs": [],
   "source": [
    "# precision, recall, fscore\n",
    "prf = {}\n",
    "prf[\"train\"] = mt.precision_recall_fscore_support(y_train, y_hat_train_discrete, average=\"binary\")\n",
    "prf[\"val\"] = mt.precision_recall_fscore_support(y_valid, y_hat_val_discrete, average=\"binary\")\n",
    "prf[\"test\"] = mt.precision_recall_fscore_support(y_test, y_hat_test_discrete, average=\"binary\")\n",
    "\n",
    "# average precision\n",
    "ap = {}\n",
    "ap[\"train\"] = mt.average_precision_score(y_train, y_hat_train_discrete)\n",
    "ap[\"val\"] = mt.average_precision_score(y_valid, y_hat_val_discrete)\n",
    "ap[\"test\"] = mt.average_precision_score(y_test, y_hat_test_discrete)"
   ],
   "metadata": {
    "id": "Tbyfyr39TdFD",
    "executionInfo": {
     "status": "ok",
     "timestamp": 1672942580939,
     "user_tz": -60,
     "elapsed": 5,
     "user": {
      "displayName": "Gallus Huber",
      "userId": "12757761605927470104"
     }
    }
   }
  },
  {
   "cell_type": "markdown",
   "source": [
    "## 3.8 Visualize Results"
   ],
   "metadata": {
    "collapsed": false,
    "id": "aNvXz10KTdFD"
   }
  },
  {
   "cell_type": "code",
   "execution_count": 145,
   "outputs": [
    {
     "output_type": "display_data",
     "data": {
      "text/plain": [
       "<Figure size 576x288 with 1 Axes>"
      ],
      "image/png": "[encoded data removed]"
     },
     "metadata": {
      "needs_background": "light"
     }
    }
   ],
   "source": [
    "# make dataframe\n",
    "res_holder = []\n",
    "for ds in [\"train\", \"val\", \"test\"]:\n",
    "    precision = {\"dataset\": ds, \"metric\": \"Precision\", \"value\": prf[ds][0]}\n",
    "    recall = {\"dataset\": ds, \"metric\": \"Recall\", \"value\": prf[ds][1]}\n",
    "    fscore = {\"dataset\": ds, \"metric\": \"Fscore\", \"value\": prf[ds][2]}\n",
    "    avg_precision = {\"dataset\": ds, \"metric\": \"AP\", \"value\": ap[ds]}\n",
    "    res_holder.append(precision)\n",
    "    res_holder.append(recall)\n",
    "    res_holder.append(fscore)\n",
    "    res_holder.append(avg_precision)\n",
    "\n",
    "res_df = pd.DataFrame(res_holder)\n",
    "\n",
    "# plot\n",
    "_, ax = plt.subplots(figsize=(8, 4))\n",
    "g = sns.barplot(data=res_df, x=\"dataset\", y=\"value\", hue=\"metric\", ax=ax).set(\n",
    "    title=\"CNN results over different dataset splits\"\n",
    ")\n",
    "\n",
    "plt.show()"
   ],
   "metadata": {
    "id": "s5KaDMUWTdFE",
    "executionInfo": {
     "status": "ok",
     "timestamp": 1672943837118,
     "user_tz": -60,
     "elapsed": 620,
     "user": {
      "displayName": "Gallus Huber",
      "userId": "12757761605927470104"
     }
    },
    "colab": {
     "base_uri": "https://localhost:8080/",
     "height": 295
    },
    "outputId": "b4078309-f9ab-4737-bd04-a6590af66b62"
   }
  }
 ],
 "metadata": {
  "kernelspec": {
   "display_name": "Python 3",
   "name": "python3"
  },
  "language_info": {
   "name": "python"
  },
  "colab": {
   "provenance": [
    {
     "file_id": "1vKaxm_Wx6Y1x1kktcOyhd23L2v0_TiJ_",
     "timestamp": 1672923114563
    },
    {
     "file_id": "https://github.com/mjhof/similarity-modeling/blob/main/notebooks/video-based-deep-learning.ipynb",
     "timestamp": 1672323127132
    },
    {
     "file_id": "https://github.com/mjhof/similarity-modeling/blob/main/notebooks/video-based-deep-learning.ipynb",
     "timestamp": 1672206528221
    },
    {
     "file_id": "https://github.com/mjhof/similarity-modeling/blob/video-dl-improvements/notebooks/video-based-deep-learning.ipynb",
     "timestamp": 1671383492379
    },
    {
     "file_id": "https://github.com/mjhof/similarity-modeling/blob/video-dl-improvements/notebooks/video-based-deep-learning.ipynb",
     "timestamp": 1671353153691
    },
    {
     "file_id": "https://github.com/mjhof/similarity-modeling/blob/setup-video-dl/notebooks/video-based-deep-learning.ipynb",
     "timestamp": 1670167006784
    },
    {
     "file_id": "https://github.com/mjhof/similarity-modeling/blob/setup-video-dl/notebooks/video-based-deep-learning.ipynb",
     "timestamp": 1670087770179
    },
    {
     "file_id": "https://github.com/mjhof/similarity-modeling/blob/setup-video-dl/notebooks/video-based-deep-learning.ipynb",
     "timestamp": 1670085701232
    }
   ]
  },
  "gpuClass": "standard",
  "accelerator": "GPU"
 },
 "nbformat": 4,
 "nbformat_minor": 0
}
