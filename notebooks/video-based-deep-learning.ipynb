{
 "cells": [
  {
   "cell_type": "markdown",
   "metadata": {
    "id": "Wu0SPRuCCCi3"
   },
   "source": [
    "# Similarity Modeling 1/2: Recognizing Pigs with Deep Learning"
   ]
  },
  {
   "cell_type": "markdown",
   "metadata": {
    "id": "zEXDPoGdCCi5"
   },
   "source": [
    "## Student\n",
    "Gallus Huber (51905700)\n",
    "\n",
    "## Timesheet\n",
    "2022-10-16 09:00 - 12:30 SIM 1 & 2 <br />\n",
    "2022-10-16 15:00 - 17:00 SIM 3 <br />\n",
    "2022-10-18 10:00 - 13:00 SIM 4 & 5 <br />\n",
    "2022-10-27 20:00 - 22:00 SIM 6 <br />\n",
    "2022-10-28 10:00 - 14:00 SIM 7 & 8 & 9 <br />\n",
    "2022-11-02 08:00 - 14:00 Writing abstracts <br />\n",
    "2022-11-10 14:00 - 15:00 Meeting <br />\n",
    "2022-11-24 16:00 - 17:30 Setup <br />\n",
    "2022-11-26 09:00 - 12:00 Implementation data preparation <br />\n",
    "2022-11-27 10:00 - 10:30 Meeting <br />\n",
    "2022-11-27 10:30 - 15:00 Implementation model <br />\n",
    "2022-12-01 16:00 - 20:00 Training of model <br />\n",
    "2022-12-03 14:00 - 18:00 Improvements <br />\n",
    "2022-12-18 14:00 - 18:00 Improvements & training <br />\n",
    "2022-12-27 18:20 - 21:00 Improvements"
   ]
  },
  {
   "cell_type": "markdown",
   "metadata": {
    "id": "TZmOtdK2CCi6"
   },
   "source": [
    "## Required libraries and installs"
   ]
  },
  {
   "cell_type": "code",
   "execution_count": null,
   "metadata": {
    "colab": {
     "base_uri": "https://localhost:8080/"
    },
    "id": "6p8Iq4RPCCi8",
    "executionInfo": {
     "status": "ok",
     "timestamp": 1672216575430,
     "user_tz": -60,
     "elapsed": 8012,
     "user": {
      "displayName": "Gallus Huber",
      "userId": "12757761605927470104"
     }
    },
    "outputId": "b41e88d2-a5ff-42aa-b896-38ce59e4ea66"
   },
   "outputs": [],
   "source": [
    "!cat requirements-dl-video.txt\n",
    "!pip install -r requirements-dl-video.txt"
   ]
  },
  {
   "cell_type": "markdown",
   "metadata": {
    "id": "EChKkugZCCi9"
   },
   "source": [
    "## Imports"
   ]
  },
  {
   "cell_type": "code",
   "execution_count": null,
   "metadata": {
    "id": "QORN-wo0CCi-",
    "executionInfo": {
     "status": "ok",
     "timestamp": 1672216582496,
     "user_tz": -60,
     "elapsed": 3693,
     "user": {
      "displayName": "Gallus Huber",
      "userId": "12757761605927470104"
     }
    }
   },
   "outputs": [],
   "source": [
    "import os\n",
    "import glob\n",
    "import pathlib\n",
    "import collections\n",
    "\n",
    "import pandas as pd\n",
    "import numpy as np\n",
    "\n",
    "import cv2 as cv2\n",
    "import matplotlib.pyplot as plt\n",
    "\n",
    "import sklearn.model_selection as ms\n",
    "\n",
    "import tensorflow as tf\n",
    "\n",
    "import keras.applications as appl\n",
    "import keras.models as models\n",
    "import keras.layers as layers\n",
    "import keras.utils as utils\n",
    "import keras.callbacks as cb\n",
    "import keras.optimizers as optimizers\n",
    "\n",
    "import visualkeras"
   ]
  },
  {
   "cell_type": "markdown",
   "metadata": {
    "id": "HSaXtxqNCCi-"
   },
   "source": [
    "## Constants"
   ]
  },
  {
   "cell_type": "code",
   "execution_count": null,
   "metadata": {
    "id": "zK-Kl6yxCCjA",
    "executionInfo": {
     "status": "ok",
     "timestamp": 1672216582498,
     "user_tz": -60,
     "elapsed": 7,
     "user": {
      "displayName": "Gallus Huber",
      "userId": "12757761605927470104"
     }
    }
   },
   "outputs": [],
   "source": [
    "# path to ground truth and videos\n",
    "DATA_PATH = \"/content/drive/MyDrive/data/\"\n",
    "GROUND_TRUTH_PATH = os.path.join(DATA_PATH, \"sim12-ground-truth-muppets\")\n",
    "VIDEO_PATH = os.path.join(DATA_PATH, \"video\")\n",
    "\n",
    "# path to train data\n",
    "TRAINING_PATH = os.path.join(VIDEO_PATH, 'training_data')\n",
    "VALIDATION_PATH = os.path.join(VIDEO_PATH, 'validation_data')\n",
    "TESTING_PATH = os.path.join(VIDEO_PATH, 'testing_data')\n",
    "\n",
    "# path to save and load trained models\n",
    "MODEL_PATH = \"/content/drive/MyDrive/data/models\""
   ]
  },
  {
   "cell_type": "markdown",
   "source": [
    "# Project Structure"
   ],
   "metadata": {
    "collapsed": false,
    "id": "6yBM5yfrVtgu"
   }
  },
  {
   "cell_type": "code",
   "execution_count": null,
   "outputs": [],
   "source": [
    "# create dirs for training\n",
    "train_path_0 = os.path.join(TRAINING_PATH, '0')\n",
    "train_path_1 = os.path.join(TRAINING_PATH, '1')\n",
    "\n",
    "# create dirs for validation\n",
    "valid_path_0 = os.path.join(VALIDATION_PATH, '0')\n",
    "valid_path_1 = os.path.join(VALIDATION_PATH, '1')\n",
    "\n",
    "# create dirs for testing\n",
    "test_path_0 = os.path.join(TESTING_PATH, '0')\n",
    "test_path_1 = os.path.join(TESTING_PATH, '1')"
   ],
   "metadata": {
    "id": "kWOdqkGYVtgv",
    "executionInfo": {
     "status": "ok",
     "timestamp": 1672216582498,
     "user_tz": -60,
     "elapsed": 6,
     "user": {
      "displayName": "Gallus Huber",
      "userId": "12757761605927470104"
     }
    }
   }
  },
  {
   "cell_type": "code",
   "execution_count": null,
   "outputs": [],
   "source": [
    "# create dirs for training\n",
    "if not os.path.exists(TRAINING_PATH):\n",
    "    os.makedirs(TRAINING_PATH)\n",
    "if not os.path.exists(train_path_0):\n",
    "    os.makedirs(train_path_0)\n",
    "if not os.path.exists(train_path_1):\n",
    "    os.makedirs(train_path_1)\n",
    "\n",
    "# create dirs for validation\n",
    "if not os.path.exists(VALIDATION_PATH):\n",
    "    os.makedirs(VALIDATION_PATH)\n",
    "if not os.path.exists(valid_path_0):\n",
    "    os.makedirs(valid_path_0)\n",
    "if not os.path.exists(valid_path_1):\n",
    "    os.makedirs(valid_path_1)\n",
    "\n",
    "# create dirs for testing\n",
    "if not os.path.exists(TESTING_PATH):\n",
    "    os.makedirs(TESTING_PATH)\n",
    "if not os.path.exists(test_path_0):\n",
    "    os.makedirs(test_path_0)\n",
    "if not os.path.exists(test_path_1):\n",
    "    os.makedirs(test_path_1)\n",
    "\n",
    "# create dir for models\n",
    "if not os.path.exists(MODEL_PATH):\n",
    "    os.makedirs(MODEL_PATH)"
   ],
   "metadata": {
    "id": "bspF6MlcVtgw",
    "executionInfo": {
     "status": "ok",
     "timestamp": 1672216582994,
     "user_tz": -60,
     "elapsed": 501,
     "user": {
      "displayName": "Gallus Huber",
      "userId": "12757761605927470104"
     }
    }
   }
  },
  {
   "cell_type": "markdown",
   "source": [
    "# 1. Data Preparation"
   ],
   "metadata": {
    "collapsed": false,
    "id": "RYHKH5dNVtgx"
   }
  },
  {
   "cell_type": "markdown",
   "source": [
    "## 1.1 List all videos"
   ],
   "metadata": {
    "collapsed": false,
    "id": "Pa1UKEt4Vtgx"
   }
  },
  {
   "cell_type": "code",
   "execution_count": null,
   "outputs": [],
   "source": [
    "videos = glob.glob(VIDEO_PATH + '/*.avi')\n",
    "\n",
    "videos_tmp = []\n",
    "for video in videos:\n",
    "    videos_tmp.append(pathlib.Path(video).name)\n",
    "videos = videos_tmp\n",
    "\n",
    "videos"
   ],
   "metadata": {
    "id": "SZpwqEUdVtgx",
    "executionInfo": {
     "status": "ok",
     "timestamp": 1672216584459,
     "user_tz": -60,
     "elapsed": 1,
     "user": {
      "displayName": "Gallus Huber",
      "userId": "12757761605927470104"
     }
    },
    "outputId": "571e53c7-3d25-488e-a524-943957bd54a4",
    "colab": {
     "base_uri": "https://localhost:8080/"
    }
   }
  },
  {
   "cell_type": "markdown",
   "source": [
    "## 1.2 Load ground truth"
   ],
   "metadata": {
    "collapsed": false,
    "id": "P760GHefVtgx"
   }
  },
  {
   "cell_type": "markdown",
   "source": [
    "### 1.2.1 Read ground truth from CSV"
   ],
   "metadata": {
    "collapsed": false,
    "id": "JAKfonUSVtgx"
   }
  },
  {
   "cell_type": "code",
   "execution_count": null,
   "outputs": [],
   "source": [
    "ground_truth = dict()\n",
    "\n",
    "# read in corresponding ground truth\n",
    "for video in videos:\n",
    "        file_name = glob.glob(GROUND_TRUTH_PATH + '/*' + os.path.splitext(video)[0] + '*.csv')\n",
    "        csv = pd.read_csv(os.path.join(file_name[0]), sep=\";\")\n",
    "        ground_truth[video] = csv"
   ],
   "metadata": {
    "id": "T3b9LRm9Vtgz",
    "executionInfo": {
     "status": "ok",
     "timestamp": 1672216588362,
     "user_tz": -60,
     "elapsed": 3425,
     "user": {
      "displayName": "Gallus Huber",
      "userId": "12757761605927470104"
     }
    }
   }
  },
  {
   "cell_type": "markdown",
   "source": [
    "### 1.2.2 Plot the ground truth"
   ],
   "metadata": {
    "collapsed": false,
    "id": "YBjfaXTuVtgz"
   }
  },
  {
   "cell_type": "code",
   "execution_count": null,
   "outputs": [],
   "source": [
    "def plot_gt(gt, column):\n",
    "    plot = plt.figure(figsize=(10, 4))\n",
    "\n",
    "    # define subplot\n",
    "    subplot = plot.add_subplot(111)\n",
    "    subplot.set_title(f\"Occurrences in Frames\")\n",
    "\n",
    "    # define x axis\n",
    "    subplot.set_xlabel('Frames')\n",
    "\n",
    "    # mark occurrences\n",
    "    frame_indicator = np.zeros(len(gt['Frame_number']))\n",
    "    frame_indicator[gt[gt[column] == 1].index] = 1\n",
    "\n",
    "    subplot.plot(gt[column].index, frame_indicator)\n",
    "    plt.show()\n",
    "\n",
    "for video in videos:\n",
    "    plot_gt(ground_truth[video], \"Pigs\")"
   ],
   "metadata": {
    "id": "wuTQHyDCVtgz",
    "executionInfo": {
     "status": "ok",
     "timestamp": 1672216589547,
     "user_tz": -60,
     "elapsed": 1187,
     "user": {
      "displayName": "Gallus Huber",
      "userId": "12757761605927470104"
     }
    },
    "outputId": "d7ee1fba-69cd-45c9-8253-e4feda549438",
    "colab": {
     "base_uri": "https://localhost:8080/",
     "height": 851
    }
   }
  },
  {
   "cell_type": "markdown",
   "source": [
    "## 1.3 Load video data"
   ],
   "metadata": {
    "collapsed": false,
    "id": "OZvzfqVpVtg0"
   }
  },
  {
   "cell_type": "markdown",
   "source": [
    "### 1.3.1 Data structure to store splits"
   ],
   "metadata": {
    "collapsed": false,
    "id": "wo0D7DObVtg0"
   }
  },
  {
   "cell_type": "code",
   "execution_count": null,
   "outputs": [],
   "source": [
    "train_data = dict()\n",
    "valid_data = dict()\n",
    "test_data = dict()"
   ],
   "metadata": {
    "id": "qjIGHMqPVtg0",
    "executionInfo": {
     "status": "ok",
     "timestamp": 1672216589548,
     "user_tz": -60,
     "elapsed": 3,
     "user": {
      "displayName": "Gallus Huber",
      "userId": "12757761605927470104"
     }
    }
   }
  },
  {
   "cell_type": "markdown",
   "source": [
    "### 1.3.2 Create splits\n",
    "The ground truth is split into training set, validation set and testing set."
   ],
   "metadata": {
    "collapsed": false,
    "id": "rdeGylIiVtg0"
   }
  },
  {
   "cell_type": "code",
   "execution_count": null,
   "outputs": [],
   "source": [
    "for video in videos:\n",
    "    train_data[video], test_data[video] = ms.train_test_split(ground_truth[video], test_size=0.2, shuffle=True, random_state=42)\n",
    "    train_data[video], valid_data[video] = ms.train_test_split(train_data[video], test_size=0.25, random_state=42)"
   ],
   "metadata": {
    "id": "ue7NHQmTVtg1",
    "executionInfo": {
     "status": "ok",
     "timestamp": 1672216591525,
     "user_tz": -60,
     "elapsed": 3,
     "user": {
      "displayName": "Gallus Huber",
      "userId": "12757761605927470104"
     }
    }
   }
  },
  {
   "cell_type": "markdown",
   "source": [
    "### 1.3.3 Get frames of video\n",
    "The frames are written to the corresponding directory based on the splits and ground truth."
   ],
   "metadata": {
    "collapsed": false,
    "id": "J2xC8JZOVtg1"
   }
  },
  {
   "cell_type": "code",
   "execution_count": null,
   "metadata": {
    "id": "AvnX8mhZCCjE",
    "executionInfo": {
     "status": "ok",
     "timestamp": 1671359755092,
     "user_tz": -60,
     "elapsed": 1654803,
     "user": {
      "displayName": "",
      "userId": ""
     }
    },
    "outputId": "0106db13-e557-44ae-d355-a7de53904113",
    "colab": {
     "base_uri": "https://localhost:8080/"
    }
   },
   "outputs": [],
   "source": [
    "def retrieve_frames(video_file):\n",
    "    # open a videoCap for this video\n",
    "    video_cap = cv2.VideoCapture(os.path.join(VIDEO_PATH, video_file))\n",
    "\n",
    "    # used to identify frame in ground truth\n",
    "    frame_nr = 0\n",
    "\n",
    "    # read all frames of video\n",
    "    while True:\n",
    "        # get one frame\n",
    "        success_read, frame_read = video_cap.read()\n",
    "\n",
    "        # no more frames available\n",
    "        if not success_read:\n",
    "            break\n",
    "\n",
    "        # create filename\n",
    "        filename = 'frame_%d.jpg' % frame_nr\n",
    "\n",
    "        # write frames to dir\n",
    "        if frame_nr in train_data[video_file].Frame_number:\n",
    "            if (train_data[video_file][train_data[video_file].Frame_number == frame_nr].Pigs == 0).bool():\n",
    "                cv2.imwrite(os.path.join(train_path_0, filename), frame_read)\n",
    "            else:\n",
    "                cv2.imwrite(os.path.join(train_path_1, filename), frame_read)\n",
    "\n",
    "        elif frame_nr in valid_data[video_file].Frame_number:\n",
    "            if (valid_data[video_file][valid_data[video_file].Frame_number == frame_nr].Pigs == 0).bool():\n",
    "                cv2.imwrite(os.path.join(valid_path_0, filename), frame_read)\n",
    "            else:\n",
    "                cv2.imwrite(os.path.join(valid_path_1, filename), frame_read)\n",
    "\n",
    "        elif frame_nr in test_data[video_file].Frame_number:\n",
    "            if (test_data[video_file][test_data[video_file].Frame_number == frame_nr].Pigs == 0).bool():\n",
    "                cv2.imwrite(os.path.join(test_path_0, filename), frame_read)\n",
    "            else:\n",
    "                cv2.imwrite(os.path.join(test_path_1, filename), frame_read)\n",
    "\n",
    "        # go to next frame\n",
    "        frame_nr += 1\n",
    "\n",
    "\n",
    "for video in videos:\n",
    "    retrieve_frames(video)\n",
    "    print(f\"Loaded frames of {video} successfully\")"
   ]
  },
  {
   "cell_type": "markdown",
   "metadata": {
    "id": "p6LjAkswCCjE"
   },
   "source": [
    "# 2 Model"
   ]
  },
  {
   "cell_type": "markdown",
   "source": [
    "## 2.1 Build model"
   ],
   "metadata": {
    "collapsed": false,
    "id": "_k54XZ9DVtg2"
   }
  },
  {
   "cell_type": "markdown",
   "source": [
    "### 2.1.1 Create the model"
   ],
   "metadata": {
    "collapsed": false,
    "id": "AqANRclSVtg2"
   }
  },
  {
   "cell_type": "code",
   "execution_count": null,
   "metadata": {
    "id": "QPqd53OPCCjH",
    "colab": {
     "base_uri": "https://localhost:8080/"
    },
    "executionInfo": {
     "status": "ok",
     "timestamp": 1672216604950,
     "user_tz": -60,
     "elapsed": 8960,
     "user": {
      "displayName": "Gallus Huber",
      "userId": "12757761605927470104"
     }
    },
    "outputId": "bd450bff-1b8d-42b1-be9c-572646533ce6"
   },
   "outputs": [],
   "source": [
    "# create base model -> pretrained model\n",
    "base_model = appl.VGG16(weights='imagenet', include_top=False, input_shape=(224, 224, 3))\n",
    "\n",
    "# add base model\n",
    "head_model = base_model.output\n",
    "\n",
    "# additional hidden layer\n",
    "head_model = layers.Conv2D(512, kernel_size=(7, 7), activation=\"relu\", padding='same')(head_model)\n",
    "head_model = layers.Conv2D(512, kernel_size=(7, 7), activation=\"relu\", padding='same')(head_model)\n",
    "head_model = layers.Conv2D(512, kernel_size=(7, 7), activation=\"relu\", padding='same')(head_model)\n",
    "\n",
    "# create output layer\n",
    "head_model = layers.MaxPooling2D(pool_size=(2, 2))(head_model)\n",
    "head_model = layers.Flatten()(head_model)\n",
    "head_model = layers.Dense(1, activation=\"sigmoid\")(head_model)\n",
    "\n",
    "# create model\n",
    "model = models.Model(base_model.input, head_model)\n",
    "\n",
    "# base model should not be trained\n",
    "for layer in base_model.layers:\n",
    "\tlayer.trainable = False\n",
    "\n",
    "model.summary()"
   ]
  },
  {
   "cell_type": "markdown",
   "source": [
    "### 2.1.2 Plot the model\n"
   ],
   "metadata": {
    "collapsed": false,
    "id": "_QzyLzerVtg3"
   }
  },
  {
   "cell_type": "code",
   "execution_count": null,
   "outputs": [],
   "source": [
    "# set colors for each used layer\n",
    "color_map = collections.defaultdict(dict)\n",
    "color_map[layers.InputLayer]['fill'] = '#7D670C'\n",
    "color_map[layers.Conv2D]['fill'] = '#060A7D'\n",
    "color_map[layers.MaxPooling2D]['fill'] = '#7C0400'\n",
    "color_map[layers.Flatten]['fill'] = '#7D066F'\n",
    "color_map[layers.Dense]['fill'] = '#0C7D34'\n",
    "color_map[layers.Dropout]['fill'] = '#808080'\n",
    "\n",
    "# plot the model\n",
    "visualkeras.layered_view(model, legend=True, color_map=color_map)"
   ],
   "metadata": {
    "colab": {
     "base_uri": "https://localhost:8080/",
     "height": 850
    },
    "id": "AVw0ddhMVtg3",
    "executionInfo": {
     "status": "ok",
     "timestamp": 1672216604951,
     "user_tz": -60,
     "elapsed": 8,
     "user": {
      "displayName": "Gallus Huber",
      "userId": "12757761605927470104"
     }
    },
    "outputId": "288a8216-8b57-45d0-d716-5d2120af865f"
   }
  },
  {
   "cell_type": "markdown",
   "metadata": {
    "id": "vfvb2uGLCCjI"
   },
   "source": [
    "## 2.2 Compile model"
   ]
  },
  {
   "cell_type": "code",
   "execution_count": null,
   "metadata": {
    "id": "ACR_Bii3CCjI",
    "executionInfo": {
     "status": "ok",
     "timestamp": 1672216604951,
     "user_tz": -60,
     "elapsed": 6,
     "user": {
      "displayName": "Gallus Huber",
      "userId": "12757761605927470104"
     }
    }
   },
   "outputs": [],
   "source": [
    "metrics = [tf.keras.metrics.AUC(name='prc', curve='PR', num_thresholds=200),\n",
    "                   tf.keras.metrics.Recall(name=\"recall\"), \n",
    "                   tf.keras.metrics.Precision(name=\"precision\")]\n",
    "\n",
    "model.compile(loss='binary_crossentropy', optimizer=optimizers.Adam(), \n",
    "              metrics=metrics)"
   ]
  },
  {
   "cell_type": "markdown",
   "metadata": {
    "id": "BIdnKb3_CCjI"
   },
   "source": [
    "## 2.3 Train model"
   ]
  },
  {
   "cell_type": "markdown",
   "source": [
    "### 2.3.1 Load training and validation sets"
   ],
   "metadata": {
    "id": "dpLViLFQyb0B"
   }
  },
  {
   "cell_type": "code",
   "source": [
    "# load training set\n",
    "train_ds = utils.image_dataset_from_directory(\n",
    "    directory=TRAINING_PATH,\n",
    "    labels='inferred',\n",
    "    label_mode='binary',\n",
    "    batch_size=32,\n",
    "    image_size=(224, 224))\n",
    "\n",
    "# load validation set\n",
    "validation_ds = utils.image_dataset_from_directory(\n",
    "    directory=VALIDATION_PATH,\n",
    "    labels='inferred',\n",
    "    label_mode='binary',\n",
    "    batch_size=32,\n",
    "    image_size=(224, 224))"
   ],
   "metadata": {
    "colab": {
     "base_uri": "https://localhost:8080/"
    },
    "id": "OFWnLwADyT_z",
    "executionInfo": {
     "status": "ok",
     "timestamp": 1672216811753,
     "user_tz": -60,
     "elapsed": 64311,
     "user": {
      "displayName": "Gallus Huber",
      "userId": "12757761605927470104"
     }
    },
    "outputId": "bb7fa47d-2636-4e5c-9dbf-47dfaee9a6e3"
   },
   "execution_count": null,
   "outputs": []
  },
  {
   "cell_type": "markdown",
   "source": [
    "### 2.3.2 Analyze class imbalance"
   ],
   "metadata": {
    "id": "Sxm4BznZykQG"
   }
  },
  {
   "cell_type": "code",
   "source": [
    "train_0 = len(os.listdir(train_path_0))\n",
    "train_1 = len(os.listdir(train_path_1))\n",
    "\n",
    "print(\n",
    "    \"Number of positive samples in training data: {} ({:.2f}% of total)\".format(\n",
    "        train_1, 100 * float(train_1) / len(train_ds.file_paths)\n",
    "    )\n",
    ")\n",
    "\n",
    "weight_for_0 = 1.0 / train_0\n",
    "weight_for_1 = 1.0 / train_1\n",
    "\n",
    "class_weight = {0: weight_for_0, 1: weight_for_1}"
   ],
   "metadata": {
    "colab": {
     "base_uri": "https://localhost:8080/"
    },
    "id": "V6pSUIVPyp5q",
    "executionInfo": {
     "status": "ok",
     "timestamp": 1672216817279,
     "user_tz": -60,
     "elapsed": 452,
     "user": {
      "displayName": "Gallus Huber",
      "userId": "12757761605927470104"
     }
    },
    "outputId": "dd4fad39-f0d5-4d03-d264-74da2636c961"
   },
   "execution_count": null,
   "outputs": []
  },
  {
   "cell_type": "markdown",
   "source": [
    "### 2.3.3 Normalize\n"
   ],
   "metadata": {
    "id": "yWar17hpzNCL"
   }
  },
  {
   "cell_type": "code",
   "source": [
    "normalization_layer = layers.Rescaling(1./255)\n",
    "\n",
    "train_ds = train_ds.map(lambda x, y: (normalization_layer(x), y))\n",
    "validation_ds = validation_ds.map(lambda x, y: (normalization_layer(x), y))"
   ],
   "metadata": {
    "id": "dYmtAE5azTV4",
    "executionInfo": {
     "status": "ok",
     "timestamp": 1672216829730,
     "user_tz": -60,
     "elapsed": 1081,
     "user": {
      "displayName": "Gallus Huber",
      "userId": "12757761605927470104"
     }
    }
   },
   "execution_count": null,
   "outputs": []
  },
  {
   "cell_type": "markdown",
   "source": [
    "### 2.3.4 Train model"
   ],
   "metadata": {
    "collapsed": false,
    "id": "qu9KS168Vtg4"
   }
  },
  {
   "cell_type": "code",
   "execution_count": null,
   "outputs": [],
   "source": [
    "# callback to avoid overfitting and storing best model\n",
    "callbacks = [cb.EarlyStopping(monitor='val_loss', patience=10),\n",
    "             cb.ModelCheckpoint(filepath=os.path.join(MODEL_PATH, 'video-dl'), monitor='val_prc', mode='max', save_best_only=True, save_weights_only=True)]\n",
    "\n",
    "# train model\n",
    "with tf.device('/device:GPU:0'):\n",
    "  history = model.fit(train_ds, epochs=100, validation_data=validation_ds, callbacks=callbacks, class_weight=class_weight)"
   ],
   "metadata": {
    "colab": {
     "base_uri": "https://localhost:8080/"
    },
    "id": "UsnA5nzEVtg4",
    "outputId": "897cd7b8-9b27-4db3-ba26-3fe0941d8463"
   }
  },
  {
   "cell_type": "markdown",
   "source": [
    "### 2.3.5 Plot training results"
   ],
   "metadata": {
    "collapsed": false,
    "id": "kVBoLbuHVtg4"
   }
  },
  {
   "cell_type": "code",
   "execution_count": null,
   "outputs": [],
   "source": [
    "history = history.history\n",
    "epochs = np.arange(len(history[\"loss\"]))\n",
    "\n",
    "fig, axs = plt.subplots(2, 2, figsize=(15, 10))\n",
    "axs[0, 0].plot(epochs, history[\"loss\"], label=\"Training\")\n",
    "axs[0, 0].plot(epochs, history[\"val_loss\"], label=\"Validation\")\n",
    "axs[0, 0].set_title(\"Loss (Binary Cross Entropy)\")\n",
    "axs[0, 0].legend()\n",
    "\n",
    "axs[0, 1].plot(epochs, history[\"prc\"], label=\"Training\")\n",
    "axs[0, 1].plot(epochs, history[\"val_prc\"], label=\"Validation\")\n",
    "axs[0, 1].set_title(\"Precision/Recall AUC\")\n",
    "axs[0, 1].legend()\n",
    "\n",
    "axs[1, 0].plot(epochs, history[\"precision\"], label=\"Training\")\n",
    "axs[1, 0].plot(epochs, history[\"val_precision\"], label=\"Validation\")\n",
    "axs[1, 0].set_title(\"Precision\")\n",
    "axs[1, 0].legend()\n",
    "\n",
    "axs[1, 1].plot(epochs, history[\"recall\"], label=\"Training\")\n",
    "axs[1, 1].plot(epochs, history[\"val_recall\"], label=\"Validation\")\n",
    "axs[1, 1].set_title(\"Recall\")\n",
    "axs[1, 1].legend()\n",
    "\n",
    "plt.tight_layout()\n",
    "plt.show()"
   ],
   "metadata": {
    "id": "Dkbfe2-tVtg5"
   }
  },
  {
   "cell_type": "markdown",
   "source": [
    "# 3 Results"
   ],
   "metadata": {
    "collapsed": false,
    "id": "YNW2b20LVtg6"
   }
  },
  {
   "cell_type": "markdown",
   "source": [
    "## 3.1 Load best model"
   ],
   "metadata": {
    "collapsed": false,
    "id": "P2sVL1vZ7JE1"
   }
  },
  {
   "cell_type": "code",
   "execution_count": null,
   "outputs": [],
   "source": [
    "model = models.load_model(os.path.join(MODEL_PATH, 'video-dl'))"
   ],
   "metadata": {
    "id": "KGayZYWp7JE1"
   }
  },
  {
   "cell_type": "markdown",
   "source": [
    "## 3.2 Evaluate model"
   ],
   "metadata": {
    "collapsed": false,
    "id": "8Z9fMF067JE1"
   }
  },
  {
   "cell_type": "code",
   "execution_count": null,
   "outputs": [],
   "source": [
    "# load testing set\n",
    "test_ds = utils.image_dataset_from_directory(\n",
    "    directory=TESTING_PATH,\n",
    "    labels='inferred',\n",
    "    label_mode='binary',\n",
    "    batch_size=32,\n",
    "    image_size=(224, 224))\n",
    "\n",
    "# normalize testing set\n",
    "test_ds = test_ds.map(lambda x, y: (normalization_layer(x), y))\n",
    "\n",
    "# evaluate the model\n",
    "results = model.evaluate(test_ds, batch_size=128)"
   ],
   "metadata": {
    "id": "m8qysU8K7JE2",
    "colab": {
     "base_uri": "https://localhost:8080/"
    },
    "outputId": "d726d6c2-1f53-4b77-cd8c-e4cd0645463d",
    "executionInfo": {
     "status": "ok",
     "timestamp": 1671380158021,
     "user_tz": -60,
     "elapsed": 695556,
     "user": {
      "displayName": "",
      "userId": ""
     }
    }
   }
  }
 ],
 "metadata": {
  "kernelspec": {
   "display_name": "Python 3",
   "name": "python3"
  },
  "language_info": {
   "name": "python"
  },
  "colab": {
   "provenance": [
    {
     "file_id": "https://github.com/mjhof/similarity-modeling/blob/main/notebooks/video-based-deep-learning.ipynb",
     "timestamp": 1672206528221
    },
    {
     "file_id": "https://github.com/mjhof/similarity-modeling/blob/video-dl-improvements/notebooks/video-based-deep-learning.ipynb",
     "timestamp": 1671383492379
    },
    {
     "file_id": "https://github.com/mjhof/similarity-modeling/blob/video-dl-improvements/notebooks/video-based-deep-learning.ipynb",
     "timestamp": 1671353153691
    },
    {
     "file_id": "https://github.com/mjhof/similarity-modeling/blob/setup-video-dl/notebooks/video-based-deep-learning.ipynb",
     "timestamp": 1670167006784
    },
    {
     "file_id": "https://github.com/mjhof/similarity-modeling/blob/setup-video-dl/notebooks/video-based-deep-learning.ipynb",
     "timestamp": 1670087770179
    },
    {
     "file_id": "https://github.com/mjhof/similarity-modeling/blob/setup-video-dl/notebooks/video-based-deep-learning.ipynb",
     "timestamp": 1670085701232
    }
   ]
  },
  "gpuClass": "standard",
  "accelerator": "GPU"
 },
 "nbformat": 4,
 "nbformat_minor": 0
}
