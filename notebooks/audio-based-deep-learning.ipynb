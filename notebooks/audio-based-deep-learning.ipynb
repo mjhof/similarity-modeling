{
 "cells": [
  {
   "cell_type": "markdown",
   "id": "1bf9241e-1e42-4a2b-8490-b2b720f28163",
   "metadata": {
    "id": "1bf9241e-1e42-4a2b-8490-b2b720f28163"
   },
   "source": [
    "Author documentation: \n",
    "- Student data, timesheets\n",
    "- Required libraries and installs (e.g. „pip“ commands)\n",
    "- Description of data and ground truth + split for training, testing, validation. Please do not include the videos themselves.\n",
    "- Description of feature extraction methods (if applicable)\n",
    "- Classification: Process and results of training and testing\n",
    "- Results: Results of validation, indicators + the mandatory ROC curves of classifier performance\n",
    "- Discussion of results"
   ]
  },
  {
   "cell_type": "markdown",
   "id": "3e842021-02b8-4817-8781-773c464c0421",
   "metadata": {
    "id": "3e842021-02b8-4817-8781-773c464c0421"
   },
   "source": [
    "# Similarity Modeling 1/2: Recognizing Swedish Chef with Deep Learning  "
   ]
  },
  {
   "cell_type": "markdown",
   "id": "9eaa10f5-0bfb-4375-97eb-d9e04d187dde",
   "metadata": {
    "id": "9eaa10f5-0bfb-4375-97eb-d9e04d187dde"
   },
   "source": [
    "#### Student\n",
    "Matthias Hofmaier (11944050)\n",
    "#### Timesheet\n",
    "2022/10/10 - 2022/10/10    | Watch lecture videos and write abstracts\n",
    "\n",
    "2022/11/23 | 16:30 - 18:00 | Setup Jupyter environment and project          \n",
    "\n",
    "2022/11/23 | 18:00 - 19:30 | Exploration and preparation of ground truth\n",
    "\n",
    "2022/11/23 | 19:30 - 20:30 | Research for potential implementation strategies\n",
    "\n",
    "2022/11/24 | 09:00 - 11:30 | Video to audio conversion and spectrogram creation\n",
    "\n",
    "2022/11/26 | 14:00 - 16:00 | Implemented CNN training pipeline\n",
    "\n",
    "2022/11/27 | 10:00 - 11:00 | Team meeting\n",
    "\n",
    "2022/12/03 | 13:00 - 16:30 | Setup COLAB and implement CNN training pipeline\n",
    "\n",
    "2022/12/04 | 14:00 - 18:00 | Experiment with different CNN architectures\n",
    "\n",
    "2022/12/04 | 19:00 - 20:00 | Team meeting\n",
    "\n",
    "2022/12/20 | 14:00 - 20:00 | Experiment with different spectrogram snippet sizes\n",
    "\n",
    "2022/12/27 | 09:00 - 16:00 | Develop CNN architecture and retrain model\n",
    "\n",
    "2022/12/31 | 15:00 - 16:00 | Team meeting"
   ]
  },
  {
   "cell_type": "markdown",
   "id": "4f4f6d4d-d8df-42ba-8af6-261712e1c85b",
   "metadata": {
    "id": "4f4f6d4d-d8df-42ba-8af6-261712e1c85b"
   },
   "source": [
    "## Google colab integration"
   ]
  },
  {
   "cell_type": "code",
   "execution_count": 1,
   "id": "95a7daf8-d826-4044-818b-cee1b8bde4e8",
   "metadata": {
    "colab": {
     "base_uri": "https://localhost:8080/"
    },
    "executionInfo": {
     "elapsed": 22669,
     "status": "ok",
     "timestamp": 1671975000204,
     "user": {
      "displayName": "Matthias Hofmaier",
      "userId": "03772858042952791795"
     },
     "user_tz": -60
    },
    "id": "95a7daf8-d826-4044-818b-cee1b8bde4e8",
    "outputId": "b8c50c82-00d8-411d-bbef-e1301715fc68"
   },
   "outputs": [
    {
     "name": "stdout",
     "output_type": "stream",
     "text": [
      "Running in colab...\n",
      "===================\n",
      "Mounted at /content/gdrive\n"
     ]
    }
   ],
   "source": [
    "# This code block enables this notebook to run on google colab.\n",
    "try:\n",
    "    from google.colab import drive\n",
    "    print('Running in colab...\\n===================')\n",
    "    COLAB = True\n",
    "    drive.mount('/content/gdrive')\n",
    "    root_path = 'gdrive/MyDrive/similarity-modeling'\n",
    "    #!pip install -r gdrive/MyDrive/project-transformers-t10/requirements.txt --use-deprecated=legacy-resolver\n",
    "    #print('Installed dependencies!\\n=======================')\n",
    "\n",
    "except:\n",
    "    print('=======================\\nNOT running in colab...\\n=======================')\n",
    "    COLAB = False"
   ]
  },
  {
   "cell_type": "markdown",
   "id": "03efa108-c8e7-4967-a11e-a0a571372787",
   "metadata": {
    "id": "03efa108-c8e7-4967-a11e-a0a571372787"
   },
   "source": [
    "## Required libraries and installs\n",
    "**We use Python 3.9**"
   ]
  },
  {
   "cell_type": "code",
   "execution_count": 2,
   "id": "dab3274f-2b3b-4be1-9e0f-7bce58d82d24",
   "metadata": {
    "colab": {
     "base_uri": "https://localhost:8080/",
     "height": 1000
    },
    "executionInfo": {
     "elapsed": 12641,
     "status": "ok",
     "timestamp": 1671975012839,
     "user": {
      "displayName": "Matthias Hofmaier",
      "userId": "03772858042952791795"
     },
     "user_tz": -60
    },
    "id": "dab3274f-2b3b-4be1-9e0f-7bce58d82d24",
    "outputId": "3115eaa4-41d1-497d-8148-b0eae8b0032f"
   },
   "outputs": [
    {
     "name": "stdout",
     "output_type": "stream",
     "text": [
      "pandas\n",
      "numpy\n",
      "opencv-python\n",
      "librosa==0.9.2\n",
      "tqdm\n",
      "tensorflow==2.9.2\n",
      "matplotlib==3.1.3\n",
      "Looking in indexes: https://pypi.org/simple, https://us-python.pkg.dev/colab-wheels/public/simple/\n",
      "Requirement already satisfied: pandas in /usr/local/lib/python3.8/dist-packages (from -r gdrive/MyDrive/similarity-modeling/notebooks/requirements-dl-audio.txt (line 1)) (1.3.5)\n",
      "Requirement already satisfied: numpy in /usr/local/lib/python3.8/dist-packages (from -r gdrive/MyDrive/similarity-modeling/notebooks/requirements-dl-audio.txt (line 2)) (1.21.6)\n",
      "Requirement already satisfied: opencv-python in /usr/local/lib/python3.8/dist-packages (from -r gdrive/MyDrive/similarity-modeling/notebooks/requirements-dl-audio.txt (line 3)) (4.6.0.66)\n",
      "Collecting librosa==0.9.2\n",
      "  Downloading librosa-0.9.2-py3-none-any.whl (214 kB)\n",
      "\u001b[K     |████████████████████████████████| 214 kB 14.9 MB/s \n",
      "\u001b[?25hRequirement already satisfied: tqdm in /usr/local/lib/python3.8/dist-packages (from -r gdrive/MyDrive/similarity-modeling/notebooks/requirements-dl-audio.txt (line 5)) (4.64.1)\n",
      "Requirement already satisfied: tensorflow==2.9.2 in /usr/local/lib/python3.8/dist-packages (from -r gdrive/MyDrive/similarity-modeling/notebooks/requirements-dl-audio.txt (line 6)) (2.9.2)\n",
      "Collecting matplotlib==3.1.3\n",
      "  Downloading matplotlib-3.1.3-cp38-cp38-manylinux1_x86_64.whl (13.1 MB)\n",
      "\u001b[K     |████████████████████████████████| 13.1 MB 58.5 MB/s \n",
      "\u001b[?25hRequirement already satisfied: soundfile>=0.10.2 in /usr/local/lib/python3.8/dist-packages (from librosa==0.9.2->-r gdrive/MyDrive/similarity-modeling/notebooks/requirements-dl-audio.txt (line 4)) (0.11.0)\n",
      "Requirement already satisfied: packaging>=20.0 in /usr/local/lib/python3.8/dist-packages (from librosa==0.9.2->-r gdrive/MyDrive/similarity-modeling/notebooks/requirements-dl-audio.txt (line 4)) (21.3)\n",
      "Requirement already satisfied: scikit-learn>=0.19.1 in /usr/local/lib/python3.8/dist-packages (from librosa==0.9.2->-r gdrive/MyDrive/similarity-modeling/notebooks/requirements-dl-audio.txt (line 4)) (1.0.2)\n",
      "Requirement already satisfied: joblib>=0.14 in /usr/local/lib/python3.8/dist-packages (from librosa==0.9.2->-r gdrive/MyDrive/similarity-modeling/notebooks/requirements-dl-audio.txt (line 4)) (1.2.0)\n",
      "Requirement already satisfied: decorator>=4.0.10 in /usr/local/lib/python3.8/dist-packages (from librosa==0.9.2->-r gdrive/MyDrive/similarity-modeling/notebooks/requirements-dl-audio.txt (line 4)) (4.4.2)\n",
      "Requirement already satisfied: scipy>=1.2.0 in /usr/local/lib/python3.8/dist-packages (from librosa==0.9.2->-r gdrive/MyDrive/similarity-modeling/notebooks/requirements-dl-audio.txt (line 4)) (1.7.3)\n",
      "Requirement already satisfied: pooch>=1.0 in /usr/local/lib/python3.8/dist-packages (from librosa==0.9.2->-r gdrive/MyDrive/similarity-modeling/notebooks/requirements-dl-audio.txt (line 4)) (1.6.0)\n",
      "Requirement already satisfied: resampy>=0.2.2 in /usr/local/lib/python3.8/dist-packages (from librosa==0.9.2->-r gdrive/MyDrive/similarity-modeling/notebooks/requirements-dl-audio.txt (line 4)) (0.4.2)\n",
      "Requirement already satisfied: audioread>=2.1.9 in /usr/local/lib/python3.8/dist-packages (from librosa==0.9.2->-r gdrive/MyDrive/similarity-modeling/notebooks/requirements-dl-audio.txt (line 4)) (3.0.0)\n",
      "Requirement already satisfied: numba>=0.45.1 in /usr/local/lib/python3.8/dist-packages (from librosa==0.9.2->-r gdrive/MyDrive/similarity-modeling/notebooks/requirements-dl-audio.txt (line 4)) (0.56.4)\n",
      "Requirement already satisfied: six>=1.12.0 in /usr/local/lib/python3.8/dist-packages (from tensorflow==2.9.2->-r gdrive/MyDrive/similarity-modeling/notebooks/requirements-dl-audio.txt (line 6)) (1.15.0)\n",
      "Requirement already satisfied: gast<=0.4.0,>=0.2.1 in /usr/local/lib/python3.8/dist-packages (from tensorflow==2.9.2->-r gdrive/MyDrive/similarity-modeling/notebooks/requirements-dl-audio.txt (line 6)) (0.4.0)\n",
      "Requirement already satisfied: libclang>=13.0.0 in /usr/local/lib/python3.8/dist-packages (from tensorflow==2.9.2->-r gdrive/MyDrive/similarity-modeling/notebooks/requirements-dl-audio.txt (line 6)) (14.0.6)\n",
      "Requirement already satisfied: grpcio<2.0,>=1.24.3 in /usr/local/lib/python3.8/dist-packages (from tensorflow==2.9.2->-r gdrive/MyDrive/similarity-modeling/notebooks/requirements-dl-audio.txt (line 6)) (1.51.1)\n",
      "Requirement already satisfied: tensorflow-io-gcs-filesystem>=0.23.1 in /usr/local/lib/python3.8/dist-packages (from tensorflow==2.9.2->-r gdrive/MyDrive/similarity-modeling/notebooks/requirements-dl-audio.txt (line 6)) (0.28.0)\n",
      "Requirement already satisfied: tensorboard<2.10,>=2.9 in /usr/local/lib/python3.8/dist-packages (from tensorflow==2.9.2->-r gdrive/MyDrive/similarity-modeling/notebooks/requirements-dl-audio.txt (line 6)) (2.9.1)\n",
      "Requirement already satisfied: absl-py>=1.0.0 in /usr/local/lib/python3.8/dist-packages (from tensorflow==2.9.2->-r gdrive/MyDrive/similarity-modeling/notebooks/requirements-dl-audio.txt (line 6)) (1.3.0)\n",
      "Requirement already satisfied: h5py>=2.9.0 in /usr/local/lib/python3.8/dist-packages (from tensorflow==2.9.2->-r gdrive/MyDrive/similarity-modeling/notebooks/requirements-dl-audio.txt (line 6)) (3.1.0)\n",
      "Requirement already satisfied: keras-preprocessing>=1.1.1 in /usr/local/lib/python3.8/dist-packages (from tensorflow==2.9.2->-r gdrive/MyDrive/similarity-modeling/notebooks/requirements-dl-audio.txt (line 6)) (1.1.2)\n",
      "Requirement already satisfied: flatbuffers<2,>=1.12 in /usr/local/lib/python3.8/dist-packages (from tensorflow==2.9.2->-r gdrive/MyDrive/similarity-modeling/notebooks/requirements-dl-audio.txt (line 6)) (1.12)\n",
      "Requirement already satisfied: termcolor>=1.1.0 in /usr/local/lib/python3.8/dist-packages (from tensorflow==2.9.2->-r gdrive/MyDrive/similarity-modeling/notebooks/requirements-dl-audio.txt (line 6)) (2.1.1)\n",
      "Requirement already satisfied: wrapt>=1.11.0 in /usr/local/lib/python3.8/dist-packages (from tensorflow==2.9.2->-r gdrive/MyDrive/similarity-modeling/notebooks/requirements-dl-audio.txt (line 6)) (1.14.1)\n",
      "Requirement already satisfied: google-pasta>=0.1.1 in /usr/local/lib/python3.8/dist-packages (from tensorflow==2.9.2->-r gdrive/MyDrive/similarity-modeling/notebooks/requirements-dl-audio.txt (line 6)) (0.2.0)\n",
      "Requirement already satisfied: typing-extensions>=3.6.6 in /usr/local/lib/python3.8/dist-packages (from tensorflow==2.9.2->-r gdrive/MyDrive/similarity-modeling/notebooks/requirements-dl-audio.txt (line 6)) (4.4.0)\n",
      "Requirement already satisfied: opt-einsum>=2.3.2 in /usr/local/lib/python3.8/dist-packages (from tensorflow==2.9.2->-r gdrive/MyDrive/similarity-modeling/notebooks/requirements-dl-audio.txt (line 6)) (3.3.0)\n",
      "Requirement already satisfied: tensorflow-estimator<2.10.0,>=2.9.0rc0 in /usr/local/lib/python3.8/dist-packages (from tensorflow==2.9.2->-r gdrive/MyDrive/similarity-modeling/notebooks/requirements-dl-audio.txt (line 6)) (2.9.0)\n",
      "Requirement already satisfied: protobuf<3.20,>=3.9.2 in /usr/local/lib/python3.8/dist-packages (from tensorflow==2.9.2->-r gdrive/MyDrive/similarity-modeling/notebooks/requirements-dl-audio.txt (line 6)) (3.19.6)\n",
      "Requirement already satisfied: keras<2.10.0,>=2.9.0rc0 in /usr/local/lib/python3.8/dist-packages (from tensorflow==2.9.2->-r gdrive/MyDrive/similarity-modeling/notebooks/requirements-dl-audio.txt (line 6)) (2.9.0)\n",
      "Requirement already satisfied: setuptools in /usr/local/lib/python3.8/dist-packages (from tensorflow==2.9.2->-r gdrive/MyDrive/similarity-modeling/notebooks/requirements-dl-audio.txt (line 6)) (57.4.0)\n",
      "Requirement already satisfied: astunparse>=1.6.0 in /usr/local/lib/python3.8/dist-packages (from tensorflow==2.9.2->-r gdrive/MyDrive/similarity-modeling/notebooks/requirements-dl-audio.txt (line 6)) (1.6.3)\n",
      "Requirement already satisfied: python-dateutil>=2.1 in /usr/local/lib/python3.8/dist-packages (from matplotlib==3.1.3->-r gdrive/MyDrive/similarity-modeling/notebooks/requirements-dl-audio.txt (line 7)) (2.8.2)\n",
      "Requirement already satisfied: cycler>=0.10 in /usr/local/lib/python3.8/dist-packages (from matplotlib==3.1.3->-r gdrive/MyDrive/similarity-modeling/notebooks/requirements-dl-audio.txt (line 7)) (0.11.0)\n",
      "Requirement already satisfied: kiwisolver>=1.0.1 in /usr/local/lib/python3.8/dist-packages (from matplotlib==3.1.3->-r gdrive/MyDrive/similarity-modeling/notebooks/requirements-dl-audio.txt (line 7)) (1.4.4)\n",
      "Requirement already satisfied: pyparsing!=2.0.4,!=2.1.2,!=2.1.6,>=2.0.1 in /usr/local/lib/python3.8/dist-packages (from matplotlib==3.1.3->-r gdrive/MyDrive/similarity-modeling/notebooks/requirements-dl-audio.txt (line 7)) (3.0.9)\n",
      "Requirement already satisfied: wheel<1.0,>=0.23.0 in /usr/local/lib/python3.8/dist-packages (from astunparse>=1.6.0->tensorflow==2.9.2->-r gdrive/MyDrive/similarity-modeling/notebooks/requirements-dl-audio.txt (line 6)) (0.38.4)\n",
      "Requirement already satisfied: llvmlite<0.40,>=0.39.0dev0 in /usr/local/lib/python3.8/dist-packages (from numba>=0.45.1->librosa==0.9.2->-r gdrive/MyDrive/similarity-modeling/notebooks/requirements-dl-audio.txt (line 4)) (0.39.1)\n",
      "Requirement already satisfied: importlib-metadata in /usr/local/lib/python3.8/dist-packages (from numba>=0.45.1->librosa==0.9.2->-r gdrive/MyDrive/similarity-modeling/notebooks/requirements-dl-audio.txt (line 4)) (5.1.0)\n",
      "Requirement already satisfied: requests>=2.19.0 in /usr/local/lib/python3.8/dist-packages (from pooch>=1.0->librosa==0.9.2->-r gdrive/MyDrive/similarity-modeling/notebooks/requirements-dl-audio.txt (line 4)) (2.23.0)\n",
      "Requirement already satisfied: appdirs>=1.3.0 in /usr/local/lib/python3.8/dist-packages (from pooch>=1.0->librosa==0.9.2->-r gdrive/MyDrive/similarity-modeling/notebooks/requirements-dl-audio.txt (line 4)) (1.4.4)\n",
      "Requirement already satisfied: urllib3!=1.25.0,!=1.25.1,<1.26,>=1.21.1 in /usr/local/lib/python3.8/dist-packages (from requests>=2.19.0->pooch>=1.0->librosa==0.9.2->-r gdrive/MyDrive/similarity-modeling/notebooks/requirements-dl-audio.txt (line 4)) (1.24.3)\n",
      "Requirement already satisfied: chardet<4,>=3.0.2 in /usr/local/lib/python3.8/dist-packages (from requests>=2.19.0->pooch>=1.0->librosa==0.9.2->-r gdrive/MyDrive/similarity-modeling/notebooks/requirements-dl-audio.txt (line 4)) (3.0.4)\n",
      "Requirement already satisfied: idna<3,>=2.5 in /usr/local/lib/python3.8/dist-packages (from requests>=2.19.0->pooch>=1.0->librosa==0.9.2->-r gdrive/MyDrive/similarity-modeling/notebooks/requirements-dl-audio.txt (line 4)) (2.10)\n",
      "Requirement already satisfied: certifi>=2017.4.17 in /usr/local/lib/python3.8/dist-packages (from requests>=2.19.0->pooch>=1.0->librosa==0.9.2->-r gdrive/MyDrive/similarity-modeling/notebooks/requirements-dl-audio.txt (line 4)) (2022.12.7)\n",
      "Requirement already satisfied: threadpoolctl>=2.0.0 in /usr/local/lib/python3.8/dist-packages (from scikit-learn>=0.19.1->librosa==0.9.2->-r gdrive/MyDrive/similarity-modeling/notebooks/requirements-dl-audio.txt (line 4)) (3.1.0)\n",
      "Requirement already satisfied: cffi>=1.0 in /usr/local/lib/python3.8/dist-packages (from soundfile>=0.10.2->librosa==0.9.2->-r gdrive/MyDrive/similarity-modeling/notebooks/requirements-dl-audio.txt (line 4)) (1.15.1)\n",
      "Requirement already satisfied: pycparser in /usr/local/lib/python3.8/dist-packages (from cffi>=1.0->soundfile>=0.10.2->librosa==0.9.2->-r gdrive/MyDrive/similarity-modeling/notebooks/requirements-dl-audio.txt (line 4)) (2.21)\n",
      "Requirement already satisfied: markdown>=2.6.8 in /usr/local/lib/python3.8/dist-packages (from tensorboard<2.10,>=2.9->tensorflow==2.9.2->-r gdrive/MyDrive/similarity-modeling/notebooks/requirements-dl-audio.txt (line 6)) (3.4.1)\n",
      "Requirement already satisfied: google-auth<3,>=1.6.3 in /usr/local/lib/python3.8/dist-packages (from tensorboard<2.10,>=2.9->tensorflow==2.9.2->-r gdrive/MyDrive/similarity-modeling/notebooks/requirements-dl-audio.txt (line 6)) (2.15.0)\n",
      "Requirement already satisfied: tensorboard-plugin-wit>=1.6.0 in /usr/local/lib/python3.8/dist-packages (from tensorboard<2.10,>=2.9->tensorflow==2.9.2->-r gdrive/MyDrive/similarity-modeling/notebooks/requirements-dl-audio.txt (line 6)) (1.8.1)\n",
      "Requirement already satisfied: google-auth-oauthlib<0.5,>=0.4.1 in /usr/local/lib/python3.8/dist-packages (from tensorboard<2.10,>=2.9->tensorflow==2.9.2->-r gdrive/MyDrive/similarity-modeling/notebooks/requirements-dl-audio.txt (line 6)) (0.4.6)\n",
      "Requirement already satisfied: werkzeug>=1.0.1 in /usr/local/lib/python3.8/dist-packages (from tensorboard<2.10,>=2.9->tensorflow==2.9.2->-r gdrive/MyDrive/similarity-modeling/notebooks/requirements-dl-audio.txt (line 6)) (1.0.1)\n",
      "Requirement already satisfied: tensorboard-data-server<0.7.0,>=0.6.0 in /usr/local/lib/python3.8/dist-packages (from tensorboard<2.10,>=2.9->tensorflow==2.9.2->-r gdrive/MyDrive/similarity-modeling/notebooks/requirements-dl-audio.txt (line 6)) (0.6.1)\n",
      "Requirement already satisfied: rsa<5,>=3.1.4 in /usr/local/lib/python3.8/dist-packages (from google-auth<3,>=1.6.3->tensorboard<2.10,>=2.9->tensorflow==2.9.2->-r gdrive/MyDrive/similarity-modeling/notebooks/requirements-dl-audio.txt (line 6)) (4.9)\n",
      "Requirement already satisfied: cachetools<6.0,>=2.0.0 in /usr/local/lib/python3.8/dist-packages (from google-auth<3,>=1.6.3->tensorboard<2.10,>=2.9->tensorflow==2.9.2->-r gdrive/MyDrive/similarity-modeling/notebooks/requirements-dl-audio.txt (line 6)) (5.2.0)\n",
      "Requirement already satisfied: pyasn1-modules>=0.2.1 in /usr/local/lib/python3.8/dist-packages (from google-auth<3,>=1.6.3->tensorboard<2.10,>=2.9->tensorflow==2.9.2->-r gdrive/MyDrive/similarity-modeling/notebooks/requirements-dl-audio.txt (line 6)) (0.2.8)\n",
      "Requirement already satisfied: requests-oauthlib>=0.7.0 in /usr/local/lib/python3.8/dist-packages (from google-auth-oauthlib<0.5,>=0.4.1->tensorboard<2.10,>=2.9->tensorflow==2.9.2->-r gdrive/MyDrive/similarity-modeling/notebooks/requirements-dl-audio.txt (line 6)) (1.3.1)\n",
      "Requirement already satisfied: zipp>=0.5 in /usr/local/lib/python3.8/dist-packages (from importlib-metadata->numba>=0.45.1->librosa==0.9.2->-r gdrive/MyDrive/similarity-modeling/notebooks/requirements-dl-audio.txt (line 4)) (3.11.0)\n",
      "Requirement already satisfied: pyasn1<0.5.0,>=0.4.6 in /usr/local/lib/python3.8/dist-packages (from pyasn1-modules>=0.2.1->google-auth<3,>=1.6.3->tensorboard<2.10,>=2.9->tensorflow==2.9.2->-r gdrive/MyDrive/similarity-modeling/notebooks/requirements-dl-audio.txt (line 6)) (0.4.8)\n",
      "Requirement already satisfied: oauthlib>=3.0.0 in /usr/local/lib/python3.8/dist-packages (from requests-oauthlib>=0.7.0->google-auth-oauthlib<0.5,>=0.4.1->tensorboard<2.10,>=2.9->tensorflow==2.9.2->-r gdrive/MyDrive/similarity-modeling/notebooks/requirements-dl-audio.txt (line 6)) (3.2.2)\n",
      "Requirement already satisfied: pytz>=2017.3 in /usr/local/lib/python3.8/dist-packages (from pandas->-r gdrive/MyDrive/similarity-modeling/notebooks/requirements-dl-audio.txt (line 1)) (2022.6)\n",
      "Installing collected packages: matplotlib, librosa\n",
      "  Attempting uninstall: matplotlib\n",
      "    Found existing installation: matplotlib 3.2.2\n",
      "    Uninstalling matplotlib-3.2.2:\n",
      "      Successfully uninstalled matplotlib-3.2.2\n",
      "  Attempting uninstall: librosa\n",
      "    Found existing installation: librosa 0.8.1\n",
      "    Uninstalling librosa-0.8.1:\n",
      "      Successfully uninstalled librosa-0.8.1\n",
      "Successfully installed librosa-0.9.2 matplotlib-3.1.3\n"
     ]
    },
    {
     "data": {
      "application/vnd.colab-display-data+json": {
       "pip_warning": {
        "packages": [
         "matplotlib",
         "mpl_toolkits"
        ]
       }
      }
     },
     "metadata": {},
     "output_type": "display_data"
    }
   ],
   "source": [
    "if COLAB:\n",
    "    !cat $root_path/notebooks/requirements-dl-audio.txt\n",
    "    !pip install -r $root_path/notebooks/requirements-dl-audio.txt\n",
    "else:\n",
    "    !cat requirements-dl-audio.txt\n",
    "    #!pip install -r requirements-dl-audio.txt"
   ]
  },
  {
   "cell_type": "markdown",
   "id": "5624d0a0-0f06-42c2-8af5-bdfd95c3f103",
   "metadata": {
    "id": "5624d0a0-0f06-42c2-8af5-bdfd95c3f103"
   },
   "source": [
    "**NOTE:** ffmpeg has to be installed on your device!\n",
    "This can be done with one of the following commands:"
   ]
  },
  {
   "cell_type": "code",
   "execution_count": 3,
   "id": "25b972c2-2e4b-4a53-91a6-06fd57a2c5db",
   "metadata": {
    "executionInfo": {
     "elapsed": 5,
     "status": "ok",
     "timestamp": 1671975012839,
     "user": {
      "displayName": "Matthias Hofmaier",
      "userId": "03772858042952791795"
     },
     "user_tz": -60
    },
    "id": "25b972c2-2e4b-4a53-91a6-06fd57a2c5db"
   },
   "outputs": [],
   "source": [
    "#!brew install ffmpeg # MacOS (tested)\n",
    "#!sudo apt install ffmpeg # Ubuntu (not tested)"
   ]
  },
  {
   "cell_type": "markdown",
   "id": "d2dc1ee8-9d07-4fc2-90f7-64415fe828b6",
   "metadata": {
    "id": "d2dc1ee8-9d07-4fc2-90f7-64415fe828b6"
   },
   "source": [
    "For windows check: https://phoenixnap.com/kb/ffmpeg-windows"
   ]
  },
  {
   "cell_type": "markdown",
   "id": "3dfb53a2-54a2-4341-ace1-3c9a905d2f8d",
   "metadata": {
    "id": "3dfb53a2-54a2-4341-ace1-3c9a905d2f8d"
   },
   "source": [
    "## Imports"
   ]
  },
  {
   "cell_type": "code",
   "execution_count": 4,
   "id": "57995609-c40a-4816-8bd2-a7493dd0628d",
   "metadata": {
    "executionInfo": {
     "elapsed": 5542,
     "status": "ok",
     "timestamp": 1671975018377,
     "user": {
      "displayName": "Matthias Hofmaier",
      "userId": "03772858042952791795"
     },
     "user_tz": -60
    },
    "id": "57995609-c40a-4816-8bd2-a7493dd0628d"
   },
   "outputs": [],
   "source": [
    "import os\n",
    "\n",
    "import cv2\n",
    "import librosa\n",
    "import librosa.display\n",
    "import numpy as np\n",
    "import pandas as pd\n",
    "from matplotlib import pyplot as plt\n",
    "from sklearn.model_selection import train_test_split\n",
    "from tqdm import tqdm\n",
    "import tensorflow as tf\n",
    "from tensorflow.keras import datasets, layers, models\n"
   ]
  },
  {
   "cell_type": "markdown",
   "id": "7972d8f6-9605-439d-aaab-e2a45c36fce1",
   "metadata": {
    "id": "7972d8f6-9605-439d-aaab-e2a45c36fce1"
   },
   "source": [
    "## Constants"
   ]
  },
  {
   "cell_type": "code",
   "execution_count": 5,
   "id": "955ba13f-ae18-4866-8564-5977f9924c1d",
   "metadata": {
    "executionInfo": {
     "elapsed": 3,
     "status": "ok",
     "timestamp": 1671975018378,
     "user": {
      "displayName": "Matthias Hofmaier",
      "userId": "03772858042952791795"
     },
     "user_tz": -60
    },
    "id": "955ba13f-ae18-4866-8564-5977f9924c1d"
   },
   "outputs": [],
   "source": [
    "if COLAB:\n",
    "    DATA_PATH = os.path.join(root_path, \"data\")\n",
    "else:\n",
    "    DATA_PATH = \"../data/\"\n",
    "\n",
    "GROUND_TRUTH_PATH = os.path.join(DATA_PATH, \"sim12-ground-truth-muppets\")\n",
    "VIDEO_PATH = os.path.join(DATA_PATH, \"video\")\n",
    "PROCESSED_DATA_PATH = os.path.join(DATA_PATH, \"processed\")\n",
    "\n",
    "\n",
    "RANDOM_STATE = 42"
   ]
  },
  {
   "cell_type": "markdown",
   "id": "b1a2ec3d-f245-46ea-b6bf-301ff77042ea",
   "metadata": {
    "id": "b1a2ec3d-f245-46ea-b6bf-301ff77042ea"
   },
   "source": [
    "# 1. Data Preparation"
   ]
  },
  {
   "cell_type": "markdown",
   "id": "386e46dd-3633-4bed-b7ae-cc7e4572a827",
   "metadata": {
    "id": "386e46dd-3633-4bed-b7ae-cc7e4572a827"
   },
   "source": [
    "## 1.1 Load ground truth data\n",
    "The columns in the CSV files indicate at which frames Kermit, Waldorf & Statler, Pigs and/or the Danish chef are visually present (no prefix) or can be heared (\"Audio_*\")."
   ]
  },
  {
   "cell_type": "code",
   "execution_count": 6,
   "id": "4da18924-9943-4cfb-b639-85b03e2f64fa",
   "metadata": {
    "colab": {
     "base_uri": "https://localhost:8080/",
     "height": 206
    },
    "executionInfo": {
     "elapsed": 1298,
     "status": "ok",
     "timestamp": 1671975019674,
     "user": {
      "displayName": "Matthias Hofmaier",
      "userId": "03772858042952791795"
     },
     "user_tz": -60
    },
    "id": "4da18924-9943-4cfb-b639-85b03e2f64fa",
    "outputId": "1ee83107-ba9d-4af8-b46b-4ac303b83730"
   },
   "outputs": [
    {
     "data": {
      "text/html": [
       "\n",
       "  <div id=\"df-a63f31a4-8f47-41b7-b7cd-66482e50b8ad\">\n",
       "    <div class=\"colab-df-container\">\n",
       "      <div>\n",
       "<style scoped>\n",
       "    .dataframe tbody tr th:only-of-type {\n",
       "        vertical-align: middle;\n",
       "    }\n",
       "\n",
       "    .dataframe tbody tr th {\n",
       "        vertical-align: top;\n",
       "    }\n",
       "\n",
       "    .dataframe thead th {\n",
       "        text-align: right;\n",
       "    }\n",
       "</style>\n",
       "<table border=\"1\" class=\"dataframe\">\n",
       "  <thead>\n",
       "    <tr style=\"text-align: right;\">\n",
       "      <th></th>\n",
       "      <th>Video</th>\n",
       "      <th>Frame_number</th>\n",
       "      <th>Kermit</th>\n",
       "      <th>Pigs</th>\n",
       "      <th>Audio_Pigs</th>\n",
       "      <th>Cook</th>\n",
       "      <th>Audio_Cook</th>\n",
       "      <th>StatlerWaldorf</th>\n",
       "      <th>Audio_StatlerWaldorf</th>\n",
       "      <th>Audio_MissPiggy</th>\n",
       "    </tr>\n",
       "  </thead>\n",
       "  <tbody>\n",
       "    <tr>\n",
       "      <th>0</th>\n",
       "      <td>343</td>\n",
       "      <td>0</td>\n",
       "      <td>0</td>\n",
       "      <td>0</td>\n",
       "      <td>0</td>\n",
       "      <td>0</td>\n",
       "      <td>0</td>\n",
       "      <td>0</td>\n",
       "      <td>0</td>\n",
       "      <td>0</td>\n",
       "    </tr>\n",
       "    <tr>\n",
       "      <th>1</th>\n",
       "      <td>343</td>\n",
       "      <td>1</td>\n",
       "      <td>0</td>\n",
       "      <td>0</td>\n",
       "      <td>0</td>\n",
       "      <td>0</td>\n",
       "      <td>0</td>\n",
       "      <td>0</td>\n",
       "      <td>0</td>\n",
       "      <td>0</td>\n",
       "    </tr>\n",
       "    <tr>\n",
       "      <th>2</th>\n",
       "      <td>343</td>\n",
       "      <td>2</td>\n",
       "      <td>0</td>\n",
       "      <td>0</td>\n",
       "      <td>0</td>\n",
       "      <td>0</td>\n",
       "      <td>0</td>\n",
       "      <td>0</td>\n",
       "      <td>0</td>\n",
       "      <td>0</td>\n",
       "    </tr>\n",
       "    <tr>\n",
       "      <th>3</th>\n",
       "      <td>343</td>\n",
       "      <td>3</td>\n",
       "      <td>0</td>\n",
       "      <td>0</td>\n",
       "      <td>0</td>\n",
       "      <td>0</td>\n",
       "      <td>0</td>\n",
       "      <td>0</td>\n",
       "      <td>0</td>\n",
       "      <td>0</td>\n",
       "    </tr>\n",
       "    <tr>\n",
       "      <th>4</th>\n",
       "      <td>343</td>\n",
       "      <td>4</td>\n",
       "      <td>0</td>\n",
       "      <td>0</td>\n",
       "      <td>0</td>\n",
       "      <td>0</td>\n",
       "      <td>0</td>\n",
       "      <td>0</td>\n",
       "      <td>0</td>\n",
       "      <td>0</td>\n",
       "    </tr>\n",
       "  </tbody>\n",
       "</table>\n",
       "</div>\n",
       "      <button class=\"colab-df-convert\" onclick=\"convertToInteractive('df-a63f31a4-8f47-41b7-b7cd-66482e50b8ad')\"\n",
       "              title=\"Convert this dataframe to an interactive table.\"\n",
       "              style=\"display:none;\">\n",
       "        \n",
       "  <svg xmlns=\"http://www.w3.org/2000/svg\" height=\"24px\"viewBox=\"0 0 24 24\"\n",
       "       width=\"24px\">\n",
       "    <path d=\"M0 0h24v24H0V0z\" fill=\"none\"/>\n",
       "    <path d=\"M18.56 5.44l.94 2.06.94-2.06 2.06-.94-2.06-.94-.94-2.06-.94 2.06-2.06.94zm-11 1L8.5 8.5l.94-2.06 2.06-.94-2.06-.94L8.5 2.5l-.94 2.06-2.06.94zm10 10l.94 2.06.94-2.06 2.06-.94-2.06-.94-.94-2.06-.94 2.06-2.06.94z\"/><path d=\"M17.41 7.96l-1.37-1.37c-.4-.4-.92-.59-1.43-.59-.52 0-1.04.2-1.43.59L10.3 9.45l-7.72 7.72c-.78.78-.78 2.05 0 2.83L4 21.41c.39.39.9.59 1.41.59.51 0 1.02-.2 1.41-.59l7.78-7.78 2.81-2.81c.8-.78.8-2.07 0-2.86zM5.41 20L4 18.59l7.72-7.72 1.47 1.35L5.41 20z\"/>\n",
       "  </svg>\n",
       "      </button>\n",
       "      \n",
       "  <style>\n",
       "    .colab-df-container {\n",
       "      display:flex;\n",
       "      flex-wrap:wrap;\n",
       "      gap: 12px;\n",
       "    }\n",
       "\n",
       "    .colab-df-convert {\n",
       "      background-color: #E8F0FE;\n",
       "      border: none;\n",
       "      border-radius: 50%;\n",
       "      cursor: pointer;\n",
       "      display: none;\n",
       "      fill: #1967D2;\n",
       "      height: 32px;\n",
       "      padding: 0 0 0 0;\n",
       "      width: 32px;\n",
       "    }\n",
       "\n",
       "    .colab-df-convert:hover {\n",
       "      background-color: #E2EBFA;\n",
       "      box-shadow: 0px 1px 2px rgba(60, 64, 67, 0.3), 0px 1px 3px 1px rgba(60, 64, 67, 0.15);\n",
       "      fill: #174EA6;\n",
       "    }\n",
       "\n",
       "    [theme=dark] .colab-df-convert {\n",
       "      background-color: #3B4455;\n",
       "      fill: #D2E3FC;\n",
       "    }\n",
       "\n",
       "    [theme=dark] .colab-df-convert:hover {\n",
       "      background-color: #434B5C;\n",
       "      box-shadow: 0px 1px 3px 1px rgba(0, 0, 0, 0.15);\n",
       "      filter: drop-shadow(0px 1px 2px rgba(0, 0, 0, 0.3));\n",
       "      fill: #FFFFFF;\n",
       "    }\n",
       "  </style>\n",
       "\n",
       "      <script>\n",
       "        const buttonEl =\n",
       "          document.querySelector('#df-a63f31a4-8f47-41b7-b7cd-66482e50b8ad button.colab-df-convert');\n",
       "        buttonEl.style.display =\n",
       "          google.colab.kernel.accessAllowed ? 'block' : 'none';\n",
       "\n",
       "        async function convertToInteractive(key) {\n",
       "          const element = document.querySelector('#df-a63f31a4-8f47-41b7-b7cd-66482e50b8ad');\n",
       "          const dataTable =\n",
       "            await google.colab.kernel.invokeFunction('convertToInteractive',\n",
       "                                                     [key], {});\n",
       "          if (!dataTable) return;\n",
       "\n",
       "          const docLinkHtml = 'Like what you see? Visit the ' +\n",
       "            '<a target=\"_blank\" href=https://colab.research.google.com/notebooks/data_table.ipynb>data table notebook</a>'\n",
       "            + ' to learn more about interactive tables.';\n",
       "          element.innerHTML = '';\n",
       "          dataTable['output_type'] = 'display_data';\n",
       "          await google.colab.output.renderOutput(dataTable, element);\n",
       "          const docLink = document.createElement('div');\n",
       "          docLink.innerHTML = docLinkHtml;\n",
       "          element.appendChild(docLink);\n",
       "        }\n",
       "      </script>\n",
       "    </div>\n",
       "  </div>\n",
       "  "
      ],
      "text/plain": [
       "   Video  Frame_number  Kermit  Pigs  Audio_Pigs  Cook  Audio_Cook  \\\n",
       "0    343             0       0     0           0     0           0   \n",
       "1    343             1       0     0           0     0           0   \n",
       "2    343             2       0     0           0     0           0   \n",
       "3    343             3       0     0           0     0           0   \n",
       "4    343             4       0     0           0     0           0   \n",
       "\n",
       "   StatlerWaldorf  Audio_StatlerWaldorf  Audio_MissPiggy  \n",
       "0               0                     0                0  \n",
       "1               0                     0                0  \n",
       "2               0                     0                0  \n",
       "3               0                     0                0  \n",
       "4               0                     0                0  "
      ]
     },
     "execution_count": 6,
     "metadata": {},
     "output_type": "execute_result"
    }
   ],
   "source": [
    "gts = []\n",
    "for fname in os.listdir(GROUND_TRUTH_PATH):\n",
    "    if fname.startswith(\"GroundTruth\"):\n",
    "        df = pd.read_csv(os.path.join(GROUND_TRUTH_PATH, fname), sep=\";\")\n",
    "        gts.append(df)\n",
    "gts[0].head()"
   ]
  },
  {
   "cell_type": "markdown",
   "id": "a74c20db-9dcd-4ca5-b7bd-0368a154a2f0",
   "metadata": {
    "id": "a74c20db-9dcd-4ca5-b7bd-0368a154a2f0"
   },
   "source": [
    "The column that is of our interest is 'Audio_Cook'."
   ]
  },
  {
   "cell_type": "markdown",
   "id": "a97f1d39-2484-40b3-a80a-dc13acde2e75",
   "metadata": {
    "id": "a97f1d39-2484-40b3-a80a-dc13acde2e75"
   },
   "source": [
    "## 1.2 Load video data"
   ]
  },
  {
   "cell_type": "code",
   "execution_count": 7,
   "id": "f23fcc1c-2cce-4497-8f6d-59dc7c375a35",
   "metadata": {
    "colab": {
     "base_uri": "https://localhost:8080/"
    },
    "executionInfo": {
     "elapsed": 3609,
     "status": "ok",
     "timestamp": 1671975023278,
     "user": {
      "displayName": "Matthias Hofmaier",
      "userId": "03772858042952791795"
     },
     "user_tz": -60
    },
    "id": "f23fcc1c-2cce-4497-8f6d-59dc7c375a35",
    "outputId": "6d5c0b75-c88a-4fa6-a001-14bf732dfb65"
   },
   "outputs": [
    {
     "name": "stdout",
     "output_type": "stream",
     "text": [
      "Loaded video Muppets-02-01-01.avi with 25.0 frames per second\n",
      "Loaded video Muppets-02-04-04.avi with 25.0 frames per second\n",
      "Loaded video Muppets-03-04-03.avi with 25.0 frames per second\n"
     ]
    }
   ],
   "source": [
    "# def load_video(path):\n",
    "videos = []\n",
    "for fname in os.listdir(VIDEO_PATH):\n",
    "    if fname.startswith(\"Muppets\"):\n",
    "        vidcap = cv2.VideoCapture(os.path.join(VIDEO_PATH, fname))\n",
    "        fps = vidcap.get(cv2.CAP_PROP_FPS)\n",
    "        videos.append(vidcap)\n",
    "        print(f\"Loaded video {fname} with {fps} frames per second\")"
   ]
  },
  {
   "cell_type": "markdown",
   "id": "a2dc7431-19b8-4fe6-801a-9cbb8b5d47ea",
   "metadata": {
    "id": "a2dc7431-19b8-4fe6-801a-9cbb8b5d47ea"
   },
   "source": [
    "All of the videos have 25 frames per second. This comes in handy for the exploration of csv data."
   ]
  },
  {
   "cell_type": "code",
   "execution_count": 8,
   "id": "3eaea2d7-0601-453f-a1fe-0afc2dc77128",
   "metadata": {
    "executionInfo": {
     "elapsed": 2,
     "status": "ok",
     "timestamp": 1671975023278,
     "user": {
      "displayName": "Matthias Hofmaier",
      "userId": "03772858042952791795"
     },
     "user_tz": -60
    },
    "id": "3eaea2d7-0601-453f-a1fe-0afc2dc77128"
   },
   "outputs": [],
   "source": [
    "FPS = 25"
   ]
  },
  {
   "cell_type": "markdown",
   "id": "3c464cc1-026e-4913-b770-4660701ad6d2",
   "metadata": {
    "id": "3c464cc1-026e-4913-b770-4660701ad6d2"
   },
   "source": [
    "## 1.3 Show some descriptions of the data"
   ]
  },
  {
   "cell_type": "code",
   "execution_count": 9,
   "id": "75e2fdb3-ed7f-40fa-941f-6e841a41aa23",
   "metadata": {
    "colab": {
     "base_uri": "https://localhost:8080/",
     "height": 828
    },
    "executionInfo": {
     "elapsed": 3255,
     "status": "ok",
     "timestamp": 1671975026935,
     "user": {
      "displayName": "Matthias Hofmaier",
      "userId": "03772858042952791795"
     },
     "user_tz": -60
    },
    "id": "75e2fdb3-ed7f-40fa-941f-6e841a41aa23",
    "outputId": "08755b54-b161-40db-a2c3-5bbe06533d06"
   },
   "outputs": [
    {
     "name": "stdout",
     "output_type": "stream",
     "text": [
      "Video: 343\n",
      "Number of frames: 38498\n",
      "Number of frames with Audio_Cook: 284\n",
      "Length: 1539.92 seconds\n"
     ]
    },
    {
     "data": {
      "image/png": "[encoded data removed]",
      "text/plain": [
       "<Figure size 576x144 with 1 Axes>"
      ]
     },
     "metadata": {
      "needs_background": "light"
     },
     "output_type": "display_data"
    },
    {
     "name": "stdout",
     "output_type": "stream",
     "text": [
      "Video: 211\n",
      "Number of frames: 38681\n",
      "Number of frames with Audio_Cook: 1157\n",
      "Length: 1547.24 seconds\n"
     ]
    },
    {
     "data": {
      "image/png": "[encoded data removed]",
      "text/plain": [
       "<Figure size 576x144 with 1 Axes>"
      ]
     },
     "metadata": {
      "needs_background": "light"
     },
     "output_type": "display_data"
    },
    {
     "name": "stdout",
     "output_type": "stream",
     "text": [
      "Video: 244\n",
      "Number of frames: 38706\n",
      "Number of frames with Audio_Cook: 0\n",
      "Length: 1548.24 seconds\n"
     ]
    },
    {
     "data": {
      "image/png": "[encoded data removed]",
      "text/plain": [
       "<Figure size 576x144 with 1 Axes>"
      ]
     },
     "metadata": {
      "needs_background": "light"
     },
     "output_type": "display_data"
    }
   ],
   "source": [
    "def show_gt_description(df, column=\"Audio_Cook\", fps=25):\n",
    "    print(f\"Video: {df.loc[0, 'Video']}\")\n",
    "    print(f\"Number of frames: {df['Frame_number'].count()}\")\n",
    "    print(\n",
    "        f\"Number of frames with {column}: {df.loc[df[column] == 1, 'Frame_number'].count()}\"\n",
    "    )\n",
    "    print(f\"Length: {len(df['Frame_number']) / fps} seconds\")\n",
    "\n",
    "    # plotting with frames and seconds as x-axis\n",
    "    fig = plt.figure(figsize=(8, 2))\n",
    "    ax1 = fig.add_subplot(111)\n",
    "    ax1.set_title(f\"Frames with {column} for video {df.loc[0, 'Video']}\")\n",
    "    ax1.set_xlabel(\"Frames\")\n",
    "    frame_indicator = np.zeros(len(df[\"Frame_number\"]))\n",
    "    frame_indicator[df[df[column] == 1].index] = 1\n",
    "    ax1.plot(df[column].index, frame_indicator)\n",
    "\n",
    "    def frames_to_sec(x):\n",
    "        return x / fps\n",
    "\n",
    "    def sec_to_frames(x):\n",
    "        return x * fps\n",
    "\n",
    "    ax2 = ax1.secondary_xaxis(\"top\", functions=(frames_to_sec, sec_to_frames))\n",
    "    ax2.set_xlabel(\"Seconds\")\n",
    "    plt.show()\n",
    "\n",
    "\n",
    "show_gt_description(gts[0])\n",
    "show_gt_description(gts[1])\n",
    "show_gt_description(gts[2])"
   ]
  },
  {
   "cell_type": "markdown",
   "id": "f70d471d-f194-4cfb-baf4-c697227fb7a2",
   "metadata": {
    "id": "f70d471d-f194-4cfb-baf4-c697227fb7a2"
   },
   "source": [
    "We can see that the swedish chef occurs only in the audio of video 343 and 211. In the next step, we will combine our ground truth dataframes into one, filter for the Audio_Cook column and add a column seconds to the data frame. "
   ]
  },
  {
   "cell_type": "markdown",
   "id": "365271eb-8256-4ee1-b25f-b85116915bd5",
   "metadata": {
    "id": "365271eb-8256-4ee1-b25f-b85116915bd5"
   },
   "source": [
    "## 1.4 Combine data frames, filter for Audio_Cook and add seconds"
   ]
  },
  {
   "cell_type": "code",
   "execution_count": 10,
   "id": "2c820de1-4bb2-4781-9180-7d7870cb6cdf",
   "metadata": {
    "colab": {
     "base_uri": "https://localhost:8080/",
     "height": 206
    },
    "executionInfo": {
     "elapsed": 5,
     "status": "ok",
     "timestamp": 1671975026935,
     "user": {
      "displayName": "Matthias Hofmaier",
      "userId": "03772858042952791795"
     },
     "user_tz": -60
    },
    "id": "2c820de1-4bb2-4781-9180-7d7870cb6cdf",
    "outputId": "c46606bf-3da1-4aed-8d45-b644ab18f37e"
   },
   "outputs": [
    {
     "data": {
      "text/html": [
       "\n",
       "  <div id=\"df-3d0d97ed-3c76-4e06-9566-4e3ec673f9d6\">\n",
       "    <div class=\"colab-df-container\">\n",
       "      <div>\n",
       "<style scoped>\n",
       "    .dataframe tbody tr th:only-of-type {\n",
       "        vertical-align: middle;\n",
       "    }\n",
       "\n",
       "    .dataframe tbody tr th {\n",
       "        vertical-align: top;\n",
       "    }\n",
       "\n",
       "    .dataframe thead th {\n",
       "        text-align: right;\n",
       "    }\n",
       "</style>\n",
       "<table border=\"1\" class=\"dataframe\">\n",
       "  <thead>\n",
       "    <tr style=\"text-align: right;\">\n",
       "      <th></th>\n",
       "      <th>Video</th>\n",
       "      <th>Frame_number</th>\n",
       "      <th>Seconds</th>\n",
       "      <th>Audio_Cook</th>\n",
       "    </tr>\n",
       "  </thead>\n",
       "  <tbody>\n",
       "    <tr>\n",
       "      <th>0</th>\n",
       "      <td>343</td>\n",
       "      <td>0</td>\n",
       "      <td>0.00</td>\n",
       "      <td>0</td>\n",
       "    </tr>\n",
       "    <tr>\n",
       "      <th>1</th>\n",
       "      <td>343</td>\n",
       "      <td>1</td>\n",
       "      <td>0.04</td>\n",
       "      <td>0</td>\n",
       "    </tr>\n",
       "    <tr>\n",
       "      <th>2</th>\n",
       "      <td>343</td>\n",
       "      <td>2</td>\n",
       "      <td>0.08</td>\n",
       "      <td>0</td>\n",
       "    </tr>\n",
       "    <tr>\n",
       "      <th>3</th>\n",
       "      <td>343</td>\n",
       "      <td>3</td>\n",
       "      <td>0.12</td>\n",
       "      <td>0</td>\n",
       "    </tr>\n",
       "    <tr>\n",
       "      <th>4</th>\n",
       "      <td>343</td>\n",
       "      <td>4</td>\n",
       "      <td>0.16</td>\n",
       "      <td>0</td>\n",
       "    </tr>\n",
       "  </tbody>\n",
       "</table>\n",
       "</div>\n",
       "      <button class=\"colab-df-convert\" onclick=\"convertToInteractive('df-3d0d97ed-3c76-4e06-9566-4e3ec673f9d6')\"\n",
       "              title=\"Convert this dataframe to an interactive table.\"\n",
       "              style=\"display:none;\">\n",
       "        \n",
       "  <svg xmlns=\"http://www.w3.org/2000/svg\" height=\"24px\"viewBox=\"0 0 24 24\"\n",
       "       width=\"24px\">\n",
       "    <path d=\"M0 0h24v24H0V0z\" fill=\"none\"/>\n",
       "    <path d=\"M18.56 5.44l.94 2.06.94-2.06 2.06-.94-2.06-.94-.94-2.06-.94 2.06-2.06.94zm-11 1L8.5 8.5l.94-2.06 2.06-.94-2.06-.94L8.5 2.5l-.94 2.06-2.06.94zm10 10l.94 2.06.94-2.06 2.06-.94-2.06-.94-.94-2.06-.94 2.06-2.06.94z\"/><path d=\"M17.41 7.96l-1.37-1.37c-.4-.4-.92-.59-1.43-.59-.52 0-1.04.2-1.43.59L10.3 9.45l-7.72 7.72c-.78.78-.78 2.05 0 2.83L4 21.41c.39.39.9.59 1.41.59.51 0 1.02-.2 1.41-.59l7.78-7.78 2.81-2.81c.8-.78.8-2.07 0-2.86zM5.41 20L4 18.59l7.72-7.72 1.47 1.35L5.41 20z\"/>\n",
       "  </svg>\n",
       "      </button>\n",
       "      \n",
       "  <style>\n",
       "    .colab-df-container {\n",
       "      display:flex;\n",
       "      flex-wrap:wrap;\n",
       "      gap: 12px;\n",
       "    }\n",
       "\n",
       "    .colab-df-convert {\n",
       "      background-color: #E8F0FE;\n",
       "      border: none;\n",
       "      border-radius: 50%;\n",
       "      cursor: pointer;\n",
       "      display: none;\n",
       "      fill: #1967D2;\n",
       "      height: 32px;\n",
       "      padding: 0 0 0 0;\n",
       "      width: 32px;\n",
       "    }\n",
       "\n",
       "    .colab-df-convert:hover {\n",
       "      background-color: #E2EBFA;\n",
       "      box-shadow: 0px 1px 2px rgba(60, 64, 67, 0.3), 0px 1px 3px 1px rgba(60, 64, 67, 0.15);\n",
       "      fill: #174EA6;\n",
       "    }\n",
       "\n",
       "    [theme=dark] .colab-df-convert {\n",
       "      background-color: #3B4455;\n",
       "      fill: #D2E3FC;\n",
       "    }\n",
       "\n",
       "    [theme=dark] .colab-df-convert:hover {\n",
       "      background-color: #434B5C;\n",
       "      box-shadow: 0px 1px 3px 1px rgba(0, 0, 0, 0.15);\n",
       "      filter: drop-shadow(0px 1px 2px rgba(0, 0, 0, 0.3));\n",
       "      fill: #FFFFFF;\n",
       "    }\n",
       "  </style>\n",
       "\n",
       "      <script>\n",
       "        const buttonEl =\n",
       "          document.querySelector('#df-3d0d97ed-3c76-4e06-9566-4e3ec673f9d6 button.colab-df-convert');\n",
       "        buttonEl.style.display =\n",
       "          google.colab.kernel.accessAllowed ? 'block' : 'none';\n",
       "\n",
       "        async function convertToInteractive(key) {\n",
       "          const element = document.querySelector('#df-3d0d97ed-3c76-4e06-9566-4e3ec673f9d6');\n",
       "          const dataTable =\n",
       "            await google.colab.kernel.invokeFunction('convertToInteractive',\n",
       "                                                     [key], {});\n",
       "          if (!dataTable) return;\n",
       "\n",
       "          const docLinkHtml = 'Like what you see? Visit the ' +\n",
       "            '<a target=\"_blank\" href=https://colab.research.google.com/notebooks/data_table.ipynb>data table notebook</a>'\n",
       "            + ' to learn more about interactive tables.';\n",
       "          element.innerHTML = '';\n",
       "          dataTable['output_type'] = 'display_data';\n",
       "          await google.colab.output.renderOutput(dataTable, element);\n",
       "          const docLink = document.createElement('div');\n",
       "          docLink.innerHTML = docLinkHtml;\n",
       "          element.appendChild(docLink);\n",
       "        }\n",
       "      </script>\n",
       "    </div>\n",
       "  </div>\n",
       "  "
      ],
      "text/plain": [
       "   Video  Frame_number  Seconds  Audio_Cook\n",
       "0    343             0     0.00           0\n",
       "1    343             1     0.04           0\n",
       "2    343             2     0.08           0\n",
       "3    343             3     0.12           0\n",
       "4    343             4     0.16           0"
      ]
     },
     "execution_count": 10,
     "metadata": {},
     "output_type": "execute_result"
    }
   ],
   "source": [
    "df_gt = pd.concat(gts)\n",
    "df_gt[\"Seconds\"] = df_gt[\"Frame_number\"] / FPS\n",
    "df_gt = df_gt[[\"Video\", \"Frame_number\", \"Seconds\", \"Audio_Cook\"]]\n",
    "df_gt.head()"
   ]
  },
  {
   "cell_type": "markdown",
   "id": "60386d5c-baa3-4c52-9848-eaf4f0f074db",
   "metadata": {
    "id": "60386d5c-baa3-4c52-9848-eaf4f0f074db"
   },
   "source": [
    "In the next step, we will convert the video files to wav format"
   ]
  },
  {
   "cell_type": "markdown",
   "id": "f47e194e-1ad6-4836-b4f3-9d1e3354dde4",
   "metadata": {
    "id": "f47e194e-1ad6-4836-b4f3-9d1e3354dde4"
   },
   "source": [
    "## 1.5 Convert videos to wav"
   ]
  },
  {
   "cell_type": "code",
   "execution_count": 11,
   "id": "69ccd531-0592-4290-869c-f69b745724be",
   "metadata": {
    "colab": {
     "base_uri": "https://localhost:8080/"
    },
    "executionInfo": {
     "elapsed": 26186,
     "status": "ok",
     "timestamp": 1671975053117,
     "user": {
      "displayName": "Matthias Hofmaier",
      "userId": "03772858042952791795"
     },
     "user_tz": -60
    },
    "id": "69ccd531-0592-4290-869c-f69b745724be",
    "outputId": "131bc2ca-566b-4efc-c479-fd90bef2b146"
   },
   "outputs": [
    {
     "name": "stdout",
     "output_type": "stream",
     "text": [
      "Converted Muppets-03-04-03.avi to Muppets-03-04-03.wav\n",
      "Converted Muppets-02-01-01.avi to Muppets-02-01-01.wav\n",
      "Converted Muppets-02-04-04.avi to Muppets-02-04-04.wav\n"
     ]
    }
   ],
   "source": [
    "map_code_to_file = {211: \"02-01-01\", 244: \"02-04-04\", 343: \"03-04-03\"}\n",
    "\n",
    "AUDIO_PATH = \"../data/audio/\"\n",
    "os.makedirs(AUDIO_PATH, exist_ok=True)\n",
    "\n",
    "for code in df_gt[\"Video\"].unique():\n",
    "    fname_in = f\"Muppets-{map_code_to_file[code]}.avi\"\n",
    "    fname_out = f\"Muppets-{map_code_to_file[code]}.wav\"\n",
    "    command2wav = f\"ffmpeg -i {os.path.join(VIDEO_PATH, fname_in)} {os.path.join(AUDIO_PATH, fname_out)}\"\n",
    "    os.system(command2wav)\n",
    "\n",
    "    df_gt.loc[\n",
    "        df_gt[\"Video\"] == code, \"fname_audio\"\n",
    "    ] = fname_out  # save audio filename to data frame\n",
    "\n",
    "    print(f\"Converted {fname_in} to {fname_out}\")"
   ]
  },
  {
   "cell_type": "markdown",
   "id": "33991b68-b7e5-4eeb-bd41-9e7f89e8565f",
   "metadata": {
    "id": "33991b68-b7e5-4eeb-bd41-9e7f89e8565f",
    "tags": []
   },
   "source": [
    "## 1.6 Create Mel Spectrograms\n",
    "We will now use the converted audio data to create Mel Spectrograms. The difficulty is that we have annotations on a frame level and we will later on test our models against this ground truth. Quite often, CNN-based audio classification models work with spectrogram snippets capturing around 1 second of the audio file. For our task, this would probably be not sufficient, as we need to predict on a much higher resolution (1 frame = 40ms). One approach is to use only a few samples and a even smaller hop length when calculating the spectrograms. Another approach would be to create lower resolution spectrograms, classify them and then use post-processing to approximate the frame-level annotations. In the beginning, we will focus on the first mentioned approach: \n",
    "\n",
    "With a sample rate of 16kHz, 1 frame (40 ms) equals to 640 audio samples.\n",
    "We will use 320 samples as FFT window and a hop length of 160 samples. This transforms each frame (of 40 ms audio) to 4 spectrogram frames. We are using 4 spectrogram frames so that the CNN can at least use a little bit of temporal information (and not only 1 single spectrogram frame at a time). We will use 64 mel frequency bands as this showed good results in previous implementations."
   ]
  },
  {
   "cell_type": "code",
   "execution_count": 12,
   "id": "c955dfe6-5dfe-4dad-a971-230d44e335cc",
   "metadata": {
    "colab": {
     "base_uri": "https://localhost:8080/",
     "height": 649
    },
    "executionInfo": {
     "elapsed": 88319,
     "status": "error",
     "timestamp": 1671975141419,
     "user": {
      "displayName": "Matthias Hofmaier",
      "userId": "03772858042952791795"
     },
     "user_tz": -60
    },
    "id": "c955dfe6-5dfe-4dad-a971-230d44e335cc",
    "outputId": "5cb1e8b1-a544-4a80-f32a-e4389969837e"
   },
   "outputs": [
    {
     "name": "stdout",
     "output_type": "stream",
     "text": [
      "S.shape =(64, 153946)\n"
     ]
    },
    {
     "data": {
      "image/png": "[encoded data removed]",
      "text/plain": [
       "<Figure size 1440x288 with 2 Axes>"
      ]
     },
     "metadata": {
      "needs_background": "light"
     },
     "output_type": "display_data"
    },
    {
     "ename": "KeyboardInterrupt",
     "evalue": "ignored",
     "output_type": "error",
     "traceback": [
      "\u001b[0;31m---------------------------------------------------------------------------\u001b[0m",
      "\u001b[0;31mKeyboardInterrupt\u001b[0m                         Traceback (most recent call last)",
      "\u001b[0;32m<ipython-input-12-f2d8fecf3697>\u001b[0m in \u001b[0;36m<module>\u001b[0;34m\u001b[0m\n\u001b[1;32m      7\u001b[0m \u001b[0;34m\u001b[0m\u001b[0m\n\u001b[1;32m      8\u001b[0m \u001b[0;32mfor\u001b[0m \u001b[0mfname_audio\u001b[0m \u001b[0;32min\u001b[0m \u001b[0mdf_gt\u001b[0m\u001b[0;34m[\u001b[0m\u001b[0;34m\"fname_audio\"\u001b[0m\u001b[0;34m]\u001b[0m\u001b[0;34m.\u001b[0m\u001b[0munique\u001b[0m\u001b[0;34m(\u001b[0m\u001b[0;34m)\u001b[0m\u001b[0;34m:\u001b[0m\u001b[0;34m\u001b[0m\u001b[0;34m\u001b[0m\u001b[0m\n\u001b[0;32m----> 9\u001b[0;31m     \u001b[0my\u001b[0m\u001b[0;34m,\u001b[0m \u001b[0msr\u001b[0m \u001b[0;34m=\u001b[0m \u001b[0mlibrosa\u001b[0m\u001b[0;34m.\u001b[0m\u001b[0mload\u001b[0m\u001b[0;34m(\u001b[0m\u001b[0mos\u001b[0m\u001b[0;34m.\u001b[0m\u001b[0mpath\u001b[0m\u001b[0;34m.\u001b[0m\u001b[0mjoin\u001b[0m\u001b[0;34m(\u001b[0m\u001b[0mAUDIO_PATH\u001b[0m\u001b[0;34m,\u001b[0m \u001b[0mfname_audio\u001b[0m\u001b[0;34m)\u001b[0m\u001b[0;34m,\u001b[0m \u001b[0msr\u001b[0m\u001b[0;34m=\u001b[0m\u001b[0mSR\u001b[0m\u001b[0;34m)\u001b[0m\u001b[0;34m\u001b[0m\u001b[0;34m\u001b[0m\u001b[0m\n\u001b[0m\u001b[1;32m     10\u001b[0m     S = librosa.feature.melspectrogram(\n\u001b[1;32m     11\u001b[0m         \u001b[0my\u001b[0m\u001b[0;34m=\u001b[0m\u001b[0my\u001b[0m\u001b[0;34m,\u001b[0m \u001b[0msr\u001b[0m\u001b[0;34m=\u001b[0m\u001b[0msr\u001b[0m\u001b[0;34m,\u001b[0m \u001b[0mn_fft\u001b[0m\u001b[0;34m=\u001b[0m\u001b[0mN_FFT\u001b[0m\u001b[0;34m,\u001b[0m \u001b[0mhop_length\u001b[0m\u001b[0;34m=\u001b[0m\u001b[0mHOP_LENGTH\u001b[0m\u001b[0;34m,\u001b[0m \u001b[0mn_mels\u001b[0m\u001b[0;34m=\u001b[0m\u001b[0mN_MELS\u001b[0m\u001b[0;34m\u001b[0m\u001b[0;34m\u001b[0m\u001b[0m\n",
      "\u001b[0;32m/usr/local/lib/python3.8/dist-packages/librosa/util/decorators.py\u001b[0m in \u001b[0;36minner_f\u001b[0;34m(*args, **kwargs)\u001b[0m\n\u001b[1;32m     86\u001b[0m             \u001b[0mextra_args\u001b[0m \u001b[0;34m=\u001b[0m \u001b[0mlen\u001b[0m\u001b[0;34m(\u001b[0m\u001b[0margs\u001b[0m\u001b[0;34m)\u001b[0m \u001b[0;34m-\u001b[0m \u001b[0mlen\u001b[0m\u001b[0;34m(\u001b[0m\u001b[0mall_args\u001b[0m\u001b[0;34m)\u001b[0m\u001b[0;34m\u001b[0m\u001b[0;34m\u001b[0m\u001b[0m\n\u001b[1;32m     87\u001b[0m             \u001b[0;32mif\u001b[0m \u001b[0mextra_args\u001b[0m \u001b[0;34m<=\u001b[0m \u001b[0;36m0\u001b[0m\u001b[0;34m:\u001b[0m\u001b[0;34m\u001b[0m\u001b[0;34m\u001b[0m\u001b[0m\n\u001b[0;32m---> 88\u001b[0;31m                 \u001b[0;32mreturn\u001b[0m \u001b[0mf\u001b[0m\u001b[0;34m(\u001b[0m\u001b[0;34m*\u001b[0m\u001b[0margs\u001b[0m\u001b[0;34m,\u001b[0m \u001b[0;34m**\u001b[0m\u001b[0mkwargs\u001b[0m\u001b[0;34m)\u001b[0m\u001b[0;34m\u001b[0m\u001b[0;34m\u001b[0m\u001b[0m\n\u001b[0m\u001b[1;32m     89\u001b[0m \u001b[0;34m\u001b[0m\u001b[0m\n\u001b[1;32m     90\u001b[0m             \u001b[0;31m# extra_args > 0\u001b[0m\u001b[0;34m\u001b[0m\u001b[0;34m\u001b[0m\u001b[0;34m\u001b[0m\u001b[0m\n",
      "\u001b[0;32m/usr/local/lib/python3.8/dist-packages/librosa/core/audio.py\u001b[0m in \u001b[0;36mload\u001b[0;34m(path, sr, mono, offset, duration, dtype, res_type)\u001b[0m\n\u001b[1;32m    177\u001b[0m \u001b[0;34m\u001b[0m\u001b[0m\n\u001b[1;32m    178\u001b[0m     \u001b[0;32mif\u001b[0m \u001b[0msr\u001b[0m \u001b[0;32mis\u001b[0m \u001b[0;32mnot\u001b[0m \u001b[0;32mNone\u001b[0m\u001b[0;34m:\u001b[0m\u001b[0;34m\u001b[0m\u001b[0;34m\u001b[0m\u001b[0m\n\u001b[0;32m--> 179\u001b[0;31m         \u001b[0my\u001b[0m \u001b[0;34m=\u001b[0m \u001b[0mresample\u001b[0m\u001b[0;34m(\u001b[0m\u001b[0my\u001b[0m\u001b[0;34m,\u001b[0m \u001b[0morig_sr\u001b[0m\u001b[0;34m=\u001b[0m\u001b[0msr_native\u001b[0m\u001b[0;34m,\u001b[0m \u001b[0mtarget_sr\u001b[0m\u001b[0;34m=\u001b[0m\u001b[0msr\u001b[0m\u001b[0;34m,\u001b[0m \u001b[0mres_type\u001b[0m\u001b[0;34m=\u001b[0m\u001b[0mres_type\u001b[0m\u001b[0;34m)\u001b[0m\u001b[0;34m\u001b[0m\u001b[0;34m\u001b[0m\u001b[0m\n\u001b[0m\u001b[1;32m    180\u001b[0m \u001b[0;34m\u001b[0m\u001b[0m\n\u001b[1;32m    181\u001b[0m     \u001b[0;32melse\u001b[0m\u001b[0;34m:\u001b[0m\u001b[0;34m\u001b[0m\u001b[0;34m\u001b[0m\u001b[0m\n",
      "\u001b[0;32m/usr/local/lib/python3.8/dist-packages/librosa/util/decorators.py\u001b[0m in \u001b[0;36minner_f\u001b[0;34m(*args, **kwargs)\u001b[0m\n\u001b[1;32m     86\u001b[0m             \u001b[0mextra_args\u001b[0m \u001b[0;34m=\u001b[0m \u001b[0mlen\u001b[0m\u001b[0;34m(\u001b[0m\u001b[0margs\u001b[0m\u001b[0;34m)\u001b[0m \u001b[0;34m-\u001b[0m \u001b[0mlen\u001b[0m\u001b[0;34m(\u001b[0m\u001b[0mall_args\u001b[0m\u001b[0;34m)\u001b[0m\u001b[0;34m\u001b[0m\u001b[0;34m\u001b[0m\u001b[0m\n\u001b[1;32m     87\u001b[0m             \u001b[0;32mif\u001b[0m \u001b[0mextra_args\u001b[0m \u001b[0;34m<=\u001b[0m \u001b[0;36m0\u001b[0m\u001b[0;34m:\u001b[0m\u001b[0;34m\u001b[0m\u001b[0;34m\u001b[0m\u001b[0m\n\u001b[0;32m---> 88\u001b[0;31m                 \u001b[0;32mreturn\u001b[0m \u001b[0mf\u001b[0m\u001b[0;34m(\u001b[0m\u001b[0;34m*\u001b[0m\u001b[0margs\u001b[0m\u001b[0;34m,\u001b[0m \u001b[0;34m**\u001b[0m\u001b[0mkwargs\u001b[0m\u001b[0;34m)\u001b[0m\u001b[0;34m\u001b[0m\u001b[0;34m\u001b[0m\u001b[0m\n\u001b[0m\u001b[1;32m     89\u001b[0m \u001b[0;34m\u001b[0m\u001b[0m\n\u001b[1;32m     90\u001b[0m             \u001b[0;31m# extra_args > 0\u001b[0m\u001b[0;34m\u001b[0m\u001b[0;34m\u001b[0m\u001b[0;34m\u001b[0m\u001b[0m\n",
      "\u001b[0;32m/usr/local/lib/python3.8/dist-packages/librosa/core/audio.py\u001b[0m in \u001b[0;36mresample\u001b[0;34m(y, orig_sr, target_sr, res_type, fix, scale, **kwargs)\u001b[0m\n\u001b[1;32m    645\u001b[0m         \u001b[0my_hat\u001b[0m \u001b[0;34m=\u001b[0m \u001b[0msoxr\u001b[0m\u001b[0;34m.\u001b[0m\u001b[0mresample\u001b[0m\u001b[0;34m(\u001b[0m\u001b[0my\u001b[0m\u001b[0;34m.\u001b[0m\u001b[0mT\u001b[0m\u001b[0;34m,\u001b[0m \u001b[0morig_sr\u001b[0m\u001b[0;34m,\u001b[0m \u001b[0mtarget_sr\u001b[0m\u001b[0;34m,\u001b[0m \u001b[0mquality\u001b[0m\u001b[0;34m=\u001b[0m\u001b[0mres_type\u001b[0m\u001b[0;34m)\u001b[0m\u001b[0;34m.\u001b[0m\u001b[0mT\u001b[0m\u001b[0;34m\u001b[0m\u001b[0;34m\u001b[0m\u001b[0m\n\u001b[1;32m    646\u001b[0m     \u001b[0;32melse\u001b[0m\u001b[0;34m:\u001b[0m\u001b[0;34m\u001b[0m\u001b[0;34m\u001b[0m\u001b[0m\n\u001b[0;32m--> 647\u001b[0;31m         \u001b[0my_hat\u001b[0m \u001b[0;34m=\u001b[0m \u001b[0mresampy\u001b[0m\u001b[0;34m.\u001b[0m\u001b[0mresample\u001b[0m\u001b[0;34m(\u001b[0m\u001b[0my\u001b[0m\u001b[0;34m,\u001b[0m \u001b[0morig_sr\u001b[0m\u001b[0;34m,\u001b[0m \u001b[0mtarget_sr\u001b[0m\u001b[0;34m,\u001b[0m \u001b[0mfilter\u001b[0m\u001b[0;34m=\u001b[0m\u001b[0mres_type\u001b[0m\u001b[0;34m,\u001b[0m \u001b[0maxis\u001b[0m\u001b[0;34m=\u001b[0m\u001b[0;34m-\u001b[0m\u001b[0;36m1\u001b[0m\u001b[0;34m)\u001b[0m\u001b[0;34m\u001b[0m\u001b[0;34m\u001b[0m\u001b[0m\n\u001b[0m\u001b[1;32m    648\u001b[0m \u001b[0;34m\u001b[0m\u001b[0m\n\u001b[1;32m    649\u001b[0m     \u001b[0;32mif\u001b[0m \u001b[0mfix\u001b[0m\u001b[0;34m:\u001b[0m\u001b[0;34m\u001b[0m\u001b[0;34m\u001b[0m\u001b[0m\n",
      "\u001b[0;32m/usr/local/lib/python3.8/dist-packages/resampy/core.py\u001b[0m in \u001b[0;36mresample\u001b[0;34m(x, sr_orig, sr_new, axis, filter, parallel, **kwargs)\u001b[0m\n\u001b[1;32m    166\u001b[0m             )\n\u001b[1;32m    167\u001b[0m     \u001b[0;32melse\u001b[0m\u001b[0;34m:\u001b[0m\u001b[0;34m\u001b[0m\u001b[0;34m\u001b[0m\u001b[0m\n\u001b[0;32m--> 168\u001b[0;31m         resample_f_s(\n\u001b[0m\u001b[1;32m    169\u001b[0m             \u001b[0mx\u001b[0m\u001b[0;34m.\u001b[0m\u001b[0mswapaxes\u001b[0m\u001b[0;34m(\u001b[0m\u001b[0;34m-\u001b[0m\u001b[0;36m1\u001b[0m\u001b[0;34m,\u001b[0m \u001b[0maxis\u001b[0m\u001b[0;34m)\u001b[0m\u001b[0;34m,\u001b[0m\u001b[0;34m\u001b[0m\u001b[0;34m\u001b[0m\u001b[0m\n\u001b[1;32m    170\u001b[0m             \u001b[0mt_out\u001b[0m\u001b[0;34m,\u001b[0m\u001b[0;34m\u001b[0m\u001b[0;34m\u001b[0m\u001b[0m\n",
      "\u001b[0;32m/usr/local/lib/python3.8/dist-packages/numba/np/ufunc/gufunc.py\u001b[0m in \u001b[0;36m__call__\u001b[0;34m(self, *args, **kwargs)\u001b[0m\n\u001b[1;32m    190\u001b[0m             \u001b[0mself\u001b[0m\u001b[0;34m.\u001b[0m\u001b[0madd\u001b[0m\u001b[0;34m(\u001b[0m\u001b[0msig\u001b[0m\u001b[0;34m)\u001b[0m\u001b[0;34m\u001b[0m\u001b[0;34m\u001b[0m\u001b[0m\n\u001b[1;32m    191\u001b[0m             \u001b[0mself\u001b[0m\u001b[0;34m.\u001b[0m\u001b[0mbuild_ufunc\u001b[0m\u001b[0;34m(\u001b[0m\u001b[0;34m)\u001b[0m\u001b[0;34m\u001b[0m\u001b[0;34m\u001b[0m\u001b[0m\n\u001b[0;32m--> 192\u001b[0;31m         \u001b[0;32mreturn\u001b[0m \u001b[0mself\u001b[0m\u001b[0;34m.\u001b[0m\u001b[0mufunc\u001b[0m\u001b[0;34m(\u001b[0m\u001b[0;34m*\u001b[0m\u001b[0margs\u001b[0m\u001b[0;34m,\u001b[0m \u001b[0;34m**\u001b[0m\u001b[0mkwargs\u001b[0m\u001b[0;34m)\u001b[0m\u001b[0;34m\u001b[0m\u001b[0;34m\u001b[0m\u001b[0m\n\u001b[0m",
      "\u001b[0;31mKeyboardInterrupt\u001b[0m: "
     ]
    }
   ],
   "source": [
    "SR = 16000  # we will use a sample rate of 16kHz\n",
    "N_FFT = 320  # = 20ms @ 16kHz\n",
    "HOP_LENGTH = 160  # = 10ms @ 16kHz\n",
    "N_MELS = 64\n",
    "\n",
    "spectrograms = {}\n",
    "\n",
    "for fname_audio in df_gt[\"fname_audio\"].unique():\n",
    "    y, sr = librosa.load(os.path.join(AUDIO_PATH, fname_audio), sr=SR)\n",
    "    S = librosa.feature.melspectrogram(\n",
    "        y=y, sr=sr, n_fft=N_FFT, hop_length=HOP_LENGTH, n_mels=N_MELS\n",
    "    )\n",
    "    print(f\"{S.shape =}\")\n",
    "    spectrograms[fname_audio] = S\n",
    "\n",
    "    fig, ax = plt.subplots(figsize=(20, 4))\n",
    "    S_dB = librosa.power_to_db(S, ref=np.max)\n",
    "    img = librosa.display.specshow(\n",
    "        S_dB,\n",
    "        x_axis=\"s\",\n",
    "        y_axis=\"mel\",\n",
    "        sr=sr,\n",
    "        n_fft=N_FFT,\n",
    "        hop_length=HOP_LENGTH,\n",
    "        ax=ax,\n",
    "    )\n",
    "    fig.colorbar(img, ax=ax, format=\"%+2.0f dB\")\n",
    "    ax.set(title=f\"Mel-frequency spectrogram for {fname_audio}\")\n",
    "    plt.show()"
   ]
  },
  {
   "cell_type": "markdown",
   "id": "516c3559-62fc-449c-afdc-d0d8864d7eb5",
   "metadata": {
    "id": "516c3559-62fc-449c-afdc-d0d8864d7eb5"
   },
   "source": [
    "## 1.7 Create train, validation, test split\n",
    "We will use 70% of the frames for training, 15% for validation and 15% for testing. We split in a stratified manner, to retain an equal distribution of the label across all data splits. "
   ]
  },
  {
   "cell_type": "code",
   "execution_count": 23,
   "id": "13b2a699-0440-41fc-81b8-c3a75a5734bb",
   "metadata": {
    "colab": {
     "base_uri": "https://localhost:8080/",
     "height": 629
    },
    "executionInfo": {
     "elapsed": 780,
     "status": "error",
     "timestamp": 1671975299434,
     "user": {
      "displayName": "Matthias Hofmaier",
      "userId": "03772858042952791795"
     },
     "user_tz": -60
    },
    "id": "13b2a699-0440-41fc-81b8-c3a75a5734bb",
    "outputId": "0fc5b80c-f267-494f-f3ab-254ea56e3772"
   },
   "outputs": [
    {
     "ename": "AttributeError",
     "evalue": "ignored",
     "output_type": "error",
     "traceback": [
      "\u001b[0;31m---------------------------------------------------------------------------\u001b[0m",
      "\u001b[0;31mAttributeError\u001b[0m                            Traceback (most recent call last)",
      "\u001b[0;32m<ipython-input-23-adb1964f878b>\u001b[0m in \u001b[0;36m<module>\u001b[0;34m\u001b[0m\n\u001b[1;32m     20\u001b[0m \u001b[0mrects_train\u001b[0m \u001b[0;34m=\u001b[0m \u001b[0maxs\u001b[0m\u001b[0;34m[\u001b[0m\u001b[0;36m0\u001b[0m\u001b[0;34m]\u001b[0m\u001b[0;34m.\u001b[0m\u001b[0mhist\u001b[0m\u001b[0;34m(\u001b[0m\u001b[0mtrain\u001b[0m\u001b[0;34m[\u001b[0m\u001b[0;34m\"Audio_Cook\"\u001b[0m\u001b[0;34m]\u001b[0m\u001b[0;34m)\u001b[0m\u001b[0;34m\u001b[0m\u001b[0;34m\u001b[0m\u001b[0m\n\u001b[1;32m     21\u001b[0m \u001b[0maxs\u001b[0m\u001b[0;34m[\u001b[0m\u001b[0;36m0\u001b[0m\u001b[0;34m]\u001b[0m\u001b[0;34m.\u001b[0m\u001b[0mset_title\u001b[0m\u001b[0;34m(\u001b[0m\u001b[0;34m\"Train\"\u001b[0m\u001b[0;34m)\u001b[0m\u001b[0;34m\u001b[0m\u001b[0;34m\u001b[0m\u001b[0m\n\u001b[0;32m---> 22\u001b[0;31m \u001b[0mautolabel\u001b[0m\u001b[0;34m(\u001b[0m\u001b[0mrects_train\u001b[0m\u001b[0;34m)\u001b[0m\u001b[0;34m\u001b[0m\u001b[0;34m\u001b[0m\u001b[0m\n\u001b[0m\u001b[1;32m     23\u001b[0m \u001b[0;34m\u001b[0m\u001b[0m\n\u001b[1;32m     24\u001b[0m \u001b[0mrects_val\u001b[0m \u001b[0;34m=\u001b[0m \u001b[0maxs\u001b[0m\u001b[0;34m[\u001b[0m\u001b[0;36m1\u001b[0m\u001b[0;34m]\u001b[0m\u001b[0;34m.\u001b[0m\u001b[0mhist\u001b[0m\u001b[0;34m(\u001b[0m\u001b[0mval\u001b[0m\u001b[0;34m[\u001b[0m\u001b[0;34m\"Audio_Cook\"\u001b[0m\u001b[0;34m]\u001b[0m\u001b[0;34m)\u001b[0m\u001b[0;34m\u001b[0m\u001b[0;34m\u001b[0m\u001b[0m\n",
      "\u001b[0;32m<ipython-input-23-adb1964f878b>\u001b[0m in \u001b[0;36mautolabel\u001b[0;34m(rects)\u001b[0m\n\u001b[1;32m      4\u001b[0m     \"\"\"\n\u001b[1;32m      5\u001b[0m     \u001b[0;32mfor\u001b[0m \u001b[0mrect\u001b[0m \u001b[0;32min\u001b[0m \u001b[0mrects\u001b[0m\u001b[0;34m:\u001b[0m\u001b[0;34m\u001b[0m\u001b[0;34m\u001b[0m\u001b[0m\n\u001b[0;32m----> 6\u001b[0;31m         \u001b[0mheight\u001b[0m \u001b[0;34m=\u001b[0m \u001b[0mrect\u001b[0m\u001b[0;34m.\u001b[0m\u001b[0mget_height\u001b[0m\u001b[0;34m(\u001b[0m\u001b[0;34m)\u001b[0m\u001b[0;34m\u001b[0m\u001b[0;34m\u001b[0m\u001b[0m\n\u001b[0m\u001b[1;32m      7\u001b[0m         ax.text(rect.get_x() + rect.get_width()/2., 1.05*height,\n\u001b[1;32m      8\u001b[0m                 \u001b[0;34m'%d'\u001b[0m \u001b[0;34m%\u001b[0m \u001b[0mint\u001b[0m\u001b[0;34m(\u001b[0m\u001b[0mheight\u001b[0m\u001b[0;34m)\u001b[0m\u001b[0;34m,\u001b[0m\u001b[0;34m\u001b[0m\u001b[0;34m\u001b[0m\u001b[0m\n",
      "\u001b[0;31mAttributeError\u001b[0m: 'numpy.ndarray' object has no attribute 'get_height'"
     ]
    },
    {
     "data": {
      "image/png": "[encoded data removed]",
      "text/plain": [
       "<Figure size 432x288 with 3 Axes>"
      ]
     },
     "metadata": {
      "needs_background": "light"
     },
     "output_type": "display_data"
    }
   ],
   "source": [
    "def autolabel(rects):\n",
    "    \"\"\"\n",
    "    Attach a text label above each bar displaying its height\n",
    "    \"\"\"\n",
    "    for rect in rects:\n",
    "        height = rect.get_height()\n",
    "        ax.text(rect.get_x() + rect.get_width()/2., 1.05*height,\n",
    "                '%d' % int(height),\n",
    "                ha='center', va='bottom')\n",
    "\n",
    "train, _val_test = train_test_split(\n",
    "    df_gt, test_size=0.3, stratify=df_gt[\"Audio_Cook\"], random_state=RANDOM_STATE\n",
    ")\n",
    "\n",
    "val, test = train_test_split(\n",
    "    _val_test, test_size=0.5, stratify=_val_test[\"Audio_Cook\"], random_state=RANDOM_STATE\n",
    ")\n",
    "\n",
    "fig, axs = plt.subplots(3)\n",
    "rects_train = axs[0].hist(train[\"Audio_Cook\"])\n",
    "axs[0].set_title(\"Train\")\n",
    "autolabel(rects_train)\n",
    "\n",
    "rects_val = axs[1].hist(val[\"Audio_Cook\"])\n",
    "axs[1].set_title(\"Validation\")\n",
    "autolabel(rects_val)\n",
    "\n",
    "rects_test = axs[2].hist(test[\"Audio_Cook\"])\n",
    "axs[2].set_title(\"Test\")\n",
    "autolabel(rects_test)\n",
    "\n",
    "plt.tight_layout()\n",
    "plt.show()"
   ]
  },
  {
   "cell_type": "markdown",
   "id": "2a0d316b-fdd9-42ae-a92a-ba1f282d3c07",
   "metadata": {
    "id": "2a0d316b-fdd9-42ae-a92a-ba1f282d3c07"
   },
   "source": [
    "## 1.8 Create class weights\n",
    "As our task boils down to an imbalanced classification problem, we will employ class weights. The class weights are calculated as the inverse class proportions in the training set."
   ]
  },
  {
   "cell_type": "code",
   "execution_count": 24,
   "id": "c98fb795-ee43-49a9-b14f-285b2454f9f3",
   "metadata": {
    "colab": {
     "base_uri": "https://localhost:8080/"
    },
    "executionInfo": {
     "elapsed": 450,
     "status": "ok",
     "timestamp": 1671975325925,
     "user": {
      "displayName": "Matthias Hofmaier",
      "userId": "03772858042952791795"
     },
     "user_tz": -60
    },
    "id": "c98fb795-ee43-49a9-b14f-285b2454f9f3",
    "outputId": "43bc0cc7-a48c-4ef3-e764-238740323f14"
   },
   "outputs": [
    {
     "name": "stdout",
     "output_type": "stream",
     "text": [
      "Class weight Cook not present: 1.0125951816252652\n",
      "Class weight Cook present: 80.39544103072349\n"
     ]
    }
   ],
   "source": [
    "cw_negative = len(train) / len(train[train[\"Audio_Cook\"] == 0]) \n",
    "cw_positive = len(train) / len(train[train[\"Audio_Cook\"] == 1])\n",
    "\n",
    "print(f\"Class weight Cook not present: {cw_negative}\")\n",
    "print(f\"Class weight Cook present: {cw_positive}\")\n",
    "\n",
    "class_weights = {\n",
    "    0: cw_negative,\n",
    "    1: cw_positive\n",
    "}"
   ]
  },
  {
   "cell_type": "markdown",
   "id": "cy7Tc02gd3Pe",
   "metadata": {
    "id": "cy7Tc02gd3Pe"
   },
   "source": [
    "# Approach 1\n",
    "Within this approach, we will test to use small spectrogram snippets consisting of 4 spectrogram frames which are equal to 1 video frame."
   ]
  },
  {
   "cell_type": "markdown",
   "id": "c8adb12d-c8cb-4c49-94ba-a682dff38abf",
   "metadata": {
    "id": "c8adb12d-c8cb-4c49-94ba-a682dff38abf"
   },
   "source": [
    "## 2.1 Create X, y arrays from spectrograms \n",
    "We will create X and y arrays, where X contains a 64x4 spectrogram snippet for each video frame and y the corresponding label."
   ]
  },
  {
   "cell_type": "code",
   "execution_count": null,
   "id": "5b9b3aa0-8668-4620-81b3-63cbb87060af",
   "metadata": {
    "executionInfo": {
     "elapsed": 4,
     "status": "aborted",
     "timestamp": 1671975141421,
     "user": {
      "displayName": "Matthias Hofmaier",
      "userId": "03772858042952791795"
     },
     "user_tz": -60
    },
    "id": "5b9b3aa0-8668-4620-81b3-63cbb87060af"
   },
   "outputs": [],
   "source": [
    "def create_Xy_from_spectrograms_A1(df, spectrograms, stv_rate=4): # stv_rate = spectrogram to video frame rate ratio\n",
    "    X = []\n",
    "    y = []\n",
    "    frame_unsuccesful = [] # in this array we will story frame + video for which we did not find spectrogram info\n",
    "    for idx, row in tqdm(df.iterrows(), total=len(df)):\n",
    "        spec_slice_horizontal = slice(row[\"Frame_number\"] * stv_rate, (row[\"Frame_number\"] +1) * stv_rate)\n",
    "        spec = spectrograms[row[\"fname_audio\"]]\n",
    "        snippet = spec[:, spec_slice_horizontal]\n",
    "        if snippet.shape[1] < 4:\n",
    "            frame_unsuccesful.append(str(row['Video']) + '_' + str(row['Frame_number']))\n",
    "        else:\n",
    "            X.append(snippet)\n",
    "            y.append(row[\"Audio_Cook\"])\n",
    "    X = np.dstack(X)\n",
    "    X = np.swapaxes(X, 0, 2)\n",
    "    X = np.swapaxes(X, 1, 2)\n",
    "    X = np.expand_dims(X, axis=3)\n",
    "    y = np.array(y)\n",
    "    \n",
    "    print(f\"Created X array with shape {X.shape}\")\n",
    "    print(f\"Created y array with shape {y.shape}\")\n",
    "    print(f\"For {len(frame_unsuccesful)} video frames, we did not find a spectrogram frame\")\n",
    "    \n",
    "    return X, y, frame_unsuccesful\n",
    "\n",
    "X_train_A1, y_train_A1, fu_train_A1 = create_Xy_from_spectrograms_A1(train, spectrograms)\n",
    "X_val_A1, y_val_A1, fu_val_A1 = create_Xy_from_spectrograms_A1(val, spectrograms)\n",
    "X_test_A1, y_test_A1, fu_test_A1 = create_Xy_from_spectrograms_A1(test, spectrograms)\n",
    "\n",
    "\n",
    "# Save snippets + labels to file\n",
    "os.makedirs(PROCESSED_DATA_PATH, exist_ok=True)\n",
    "with open(os.path.join(PROCESSED_DATA_PATH, \"X_train_audio_cook_A1.npy\"), 'wb') as f:\n",
    "          np.save(f, X_train_A1, allow_pickle=False)\n",
    "with open(os.path.join(PROCESSED_DATA_PATH, \"y_train_audio_cook_A1.npy\"), 'wb') as f:\n",
    "          np.save(f, y_train_A1, allow_pickle=False)\n",
    "with open(os.path.join(PROCESSED_DATA_PATH, \"X_val_audio_cook_A1.npy\"), 'wb') as f:\n",
    "          np.save(f, X_val_A1, allow_pickle=False)\n",
    "with open(os.path.join(PROCESSED_DATA_PATH, \"y_val_audio_cook_A1.npy\"), 'wb') as f:\n",
    "          np.save(f, y_val_A1, allow_pickle=False)\n",
    "with open(os.path.join(PROCESSED_DATA_PATH, \"X_test_audio_cook_A1.npy\"), 'wb') as f:\n",
    "          np.save(f, X_test_A1, allow_pickle=False)\n",
    "with open(os.path.join(PROCESSED_DATA_PATH, \"y_test_audio_cook_A1.npy\"), 'wb') as f:\n",
    "          np.save(f, y_test_A1, allow_pickle=False)"
   ]
  },
  {
   "cell_type": "markdown",
   "id": "98339e04-2997-4462-9b25-b219a5c13dc1",
   "metadata": {
    "id": "98339e04-2997-4462-9b25-b219a5c13dc1"
   },
   "source": [
    "For some of the video frames, we do not have spectrogram frames. This should be further investigated, but as it is only a very small number compared to the total number of frames, we will ignore this for now."
   ]
  },
  {
   "cell_type": "markdown",
   "id": "gleuGTQYOqVU",
   "metadata": {
    "id": "gleuGTQYOqVU"
   },
   "source": [
    "## 2.2 Load spectrogram snippets"
   ]
  },
  {
   "cell_type": "code",
   "execution_count": 13,
   "id": "249501f5-962d-4a37-b4d8-6cb5b5b70665",
   "metadata": {
    "colab": {
     "base_uri": "https://localhost:8080/"
    },
    "executionInfo": {
     "elapsed": 6193,
     "status": "ok",
     "timestamp": 1671975156485,
     "user": {
      "displayName": "Matthias Hofmaier",
      "userId": "03772858042952791795"
     },
     "user_tz": -60
    },
    "id": "249501f5-962d-4a37-b4d8-6cb5b5b70665",
    "outputId": "df324a5f-4b55-4867-8149-953fa3c3feea"
   },
   "outputs": [
    {
     "name": "stdout",
     "output_type": "stream",
     "text": [
      "Loaded spectrogram snippets from disk!\n"
     ]
    }
   ],
   "source": [
    "if os.path.exists(PROCESSED_DATA_PATH): \n",
    "    with open(os.path.join(PROCESSED_DATA_PATH, \"X_train_audio_cook_A1.npy\"), 'rb') as f:\n",
    "          X_train_A1 = np.load(f)\n",
    "    with open(os.path.join(PROCESSED_DATA_PATH, \"y_train_audio_cook_A1.npy\"), 'rb') as f:\n",
    "          y_train_A1 = np.load(f)\n",
    "    with open(os.path.join(PROCESSED_DATA_PATH, \"X_val_audio_cook_A1.npy\"), 'rb') as f:\n",
    "          X_val_A1 = np.load(f)\n",
    "    with open(os.path.join(PROCESSED_DATA_PATH, \"y_val_audio_cook_A1.npy\"), 'rb') as f:\n",
    "          y_val_A1 = np.load(f)\n",
    "    with open(os.path.join(PROCESSED_DATA_PATH, \"X_test_audio_cook_A1.npy\"), 'rb') as f:\n",
    "          X_test_A1 = np.load(f)\n",
    "    with open(os.path.join(PROCESSED_DATA_PATH, \"y_test_audio_cook_A1.npy\"), 'rb') as f:\n",
    "          y_test_A1 = np.load(f)\n",
    "    print(\"Loaded spectrogram snippets from disk!\")"
   ]
  },
  {
   "cell_type": "markdown",
   "id": "yHsYJ-GhPh7Q",
   "metadata": {
    "id": "yHsYJ-GhPh7Q"
   },
   "source": [
    "## 2.3 Modeling"
   ]
  },
  {
   "cell_type": "markdown",
   "id": "zvlcOS1XckFu",
   "metadata": {
    "id": "zvlcOS1XckFu"
   },
   "source": [
    "### 2.3.1 Standardize features\n",
    "We will standardize the input features by subtracting the mean and dividing by the standard deviation of X_train. With that we end up with features having mean=0 and std=1."
   ]
  },
  {
   "cell_type": "code",
   "execution_count": null,
   "id": "fVdd0JG4ceKP",
   "metadata": {
    "executionInfo": {
     "elapsed": 165199,
     "status": "aborted",
     "timestamp": 1671975141421,
     "user": {
      "displayName": "Matthias Hofmaier",
      "userId": "03772858042952791795"
     },
     "user_tz": -60
    },
    "id": "fVdd0JG4ceKP"
   },
   "outputs": [],
   "source": [
    "xt_mean = X_train_A1.mean()\n",
    "xt_std = X_train_A1.std()\n",
    "print(f\"Mean of X_train: {xt_mean}\")\n",
    "print(f\"Std of X_train: {xt_std}\")\n",
    "\n",
    "X_train_A1 = (X_train_A1 - xt_mean) / xt_std\n",
    "X_val_A1 = (X_val_A1 - xt_mean) / xt_std\n",
    "X_test_A1 = (X_test_A1 - xt_mean) / xt_std"
   ]
  },
  {
   "cell_type": "markdown",
   "id": "CV2V9KzbQBAG",
   "metadata": {
    "id": "CV2V9KzbQBAG"
   },
   "source": [
    "### 2.3.2 Create datasets"
   ]
  },
  {
   "cell_type": "code",
   "execution_count": null,
   "id": "b8977f8d-ff36-403f-89bd-a65574c41f1e",
   "metadata": {
    "executionInfo": {
     "elapsed": 11,
     "status": "aborted",
     "timestamp": 1671975141938,
     "user": {
      "displayName": "Matthias Hofmaier",
      "userId": "03772858042952791795"
     },
     "user_tz": -60
    },
    "id": "b8977f8d-ff36-403f-89bd-a65574c41f1e"
   },
   "outputs": [],
   "source": [
    "dataset_train = tf.data.Dataset.from_tensor_slices((X_train_A1, y_train_A1))\n",
    "dataset_val = tf.data.Dataset.from_tensor_slices((X_val_A1, y_val_A1))\n",
    "dataset_test = tf.data.Dataset.from_tensor_slices((X_test_A1, y_test_A1))\n",
    "\n",
    "\n",
    "BATCH_SIZE = 128\n",
    "dataset_train = dataset_train.shuffle(buffer_size=1024).batch(BATCH_SIZE)\n",
    "dataset_val = dataset_val.batch(BATCH_SIZE)\n",
    "dataset_test = dataset_test.batch(BATCH_SIZE)"
   ]
  },
  {
   "cell_type": "markdown",
   "id": "Kz9S0nkhWUCk",
   "metadata": {
    "id": "Kz9S0nkhWUCk"
   },
   "source": [
    "### 2.3.3 Define CNN model"
   ]
  },
  {
   "cell_type": "code",
   "execution_count": null,
   "id": "97e73603-9f27-4aa2-85fe-4de3d16c7566",
   "metadata": {
    "executionInfo": {
     "elapsed": 12,
     "status": "aborted",
     "timestamp": 1671975141939,
     "user": {
      "displayName": "Matthias Hofmaier",
      "userId": "03772858042952791795"
     },
     "user_tz": -60
    },
    "id": "97e73603-9f27-4aa2-85fe-4de3d16c7566"
   },
   "outputs": [],
   "source": [
    "input_shape = X_train_A1.shape[1:]\n",
    "model = models.Sequential()\n",
    "model.add(layers.Conv2D(64, (3, 3), activation='relu', input_shape=input_shape))\n",
    "model.add(layers.BatchNormalization())\n",
    "model.add(layers.MaxPooling2D((2, 2)))\n",
    "#model.add(layers.Conv2D(64, (3, 3), activation='relu'))\n",
    "#model.add(layers.BatchNormalization())\n",
    "#model.add(layers.MaxPooling2D((2, 1)))\n",
    "#model.add(layers.Conv2D(128, (3, 3), activation='relu'))\n",
    "#model.add(layers.BatchNormalization())\n",
    "#model.add(layers.Conv2D(64, (2, 2), activation='relu'))\n",
    "#model.add(layers.BatchNormalization())\n",
    "\n",
    "model.add(layers.Flatten())\n",
    "#model.add(layers.Dense(500, activation='relu'))\n",
    "model.add(layers.Dense(250, activation='relu',  kernel_regularizer='l2'))\n",
    "model.add(layers.BatchNormalization())\n",
    "#model.add(layers.Dense(125, activation='relu'))\n",
    "model.add(layers.Dropout(rate=0.5))\n",
    "model.add(layers.Dense(1, activation='sigmoid'))\n",
    "\n",
    "model.summary()"
   ]
  },
  {
   "cell_type": "markdown",
   "id": "v-QX8WnKXngw",
   "metadata": {
    "id": "v-QX8WnKXngw"
   },
   "source": [
    "### 2.3.4 Compile and train CNN model"
   ]
  },
  {
   "cell_type": "code",
   "execution_count": null,
   "id": "389852fb-f59d-41f2-9827-8ce8cfb77b77",
   "metadata": {
    "executionInfo": {
     "elapsed": 12,
     "status": "aborted",
     "timestamp": 1671975141939,
     "user": {
      "displayName": "Matthias Hofmaier",
      "userId": "03772858042952791795"
     },
     "user_tz": -60
    },
    "id": "389852fb-f59d-41f2-9827-8ce8cfb77b77"
   },
   "outputs": [],
   "source": [
    "N_EPOCHS = 200\n",
    "\n",
    "es_callback = tf.keras.callbacks.EarlyStopping(monitor='val_loss', patience=10)\n",
    "model.compile(optimizer='adam',\n",
    "              loss=tf.keras.losses.BinaryCrossentropy(),\n",
    "              metrics=[tf.keras.metrics.AUC(name='prc', curve='PR', num_thresholds=200), tf.keras.metrics.Recall(name=\"recall\"), tf.keras.metrics.Precision(name=\"precision\")]\n",
    "              )\n",
    "\n",
    "history = model.fit(dataset_train, epochs=N_EPOCHS, class_weight=class_weights, \n",
    "                    validation_data=dataset_val, \n",
    "                    callbacks=[es_callback]\n",
    "                    )"
   ]
  },
  {
   "cell_type": "code",
   "execution_count": null,
   "id": "S00-AljChII0",
   "metadata": {
    "executionInfo": {
     "elapsed": 12,
     "status": "aborted",
     "timestamp": 1671975141940,
     "user": {
      "displayName": "Matthias Hofmaier",
      "userId": "03772858042952791795"
     },
     "user_tz": -60
    },
    "id": "S00-AljChII0"
   },
   "outputs": [],
   "source": [
    "def plot_training_history(history):\n",
    "    history = history.history\n",
    "    epochs = np.arange(len(history[\"loss\"]))\n",
    "    \n",
    "    fig, axs = plt.subplots(2, 2, figsize=(15, 10))\n",
    "    axs[0, 0].plot(epochs, history[\"loss\"], label=\"Training\")\n",
    "    axs[0, 0].plot(epochs, history[\"val_loss\"], label=\"Validation\")\n",
    "    axs[0, 0].set_title(\"Loss (Binary Cross Entropy)\")\n",
    "    axs[0, 0].legend()\n",
    "    axs[0, 1].plot(epochs, history[\"prc\"], label=\"Training\")\n",
    "    axs[0, 1].plot(epochs, history[\"val_prc\"], label=\"Validation\")\n",
    "    axs[0, 1].set_title(\"Precision/Recall AUC\")\n",
    "    axs[0, 1].legend()\n",
    "\n",
    "    axs[1, 0].plot(epochs, history[\"precision\"], label=\"Training\")\n",
    "    axs[1, 0].plot(epochs, history[\"val_precision\"], label=\"Validation\")\n",
    "    axs[1, 0].set_title(\"Precision\")\n",
    "    axs[1, 0].legend()\n",
    "\n",
    "    axs[1, 1].plot(epochs, history[\"recall\"], label=\"Training\")\n",
    "    axs[1, 1].plot(epochs, history[\"val_recall\"], label=\"Validation\")\n",
    "    axs[1, 1].set_title(\"Recall\")\n",
    "    axs[1, 1].legend()\n",
    "\n",
    "    plt.tight_layout()\n",
    "    plt.show()\n",
    "\n",
    "plot_training_history(history)\n",
    "#history.history"
   ]
  },
  {
   "cell_type": "markdown",
   "id": "hzZ21rPkSmuT",
   "metadata": {
    "id": "hzZ21rPkSmuT"
   },
   "source": [
    "After experimenting with different CNN architectures, we conclude that our frame level spectrogram approach does not produce satisfactory results and that we have to come up with another strategy which uses bigger spectrogram snippets for model training and prediction."
   ]
  },
  {
   "cell_type": "markdown",
   "id": "SrcFZ-Aveh0y",
   "metadata": {
    "id": "SrcFZ-Aveh0y"
   },
   "source": [
    "# Approach 2\n",
    "Withing this approach, we will test to use bigger spectrogram snippets. **We will use 4 video frames (16 spectrogram) before and after the 1 video frame (4 spectrogram frames) as classification context. This leads to a spectrogram snippet width of 16 + 4 + 16 = 36 spectrogram frames per class label.** We will use the label of the middle 4 spectrogram frames for training and classification. If we are at the beginning or the end of the spectrogram, we simple replace the missing frames with zeros.  "
   ]
  },
  {
   "cell_type": "markdown",
   "id": "ifRoS-Tagi4h",
   "metadata": {
    "id": "ifRoS-Tagi4h"
   },
   "source": [
    "## 2.1 Create X, y arrays from spectrograms \n",
    "We will create X and y arrays, where X contains a 64x36 spectrogram snippet for each video frame and y the corresponding label. The 36 spectrogram frames consist of 4 spectrogram frames (1 video frame) in the middle together with 16 spectrogram frames (4 video frames) pre and appended as context for classification"
   ]
  },
  {
   "cell_type": "code",
   "execution_count": null,
   "id": "b5_Y5kg_gi4r",
   "metadata": {
    "executionInfo": {
     "elapsed": 12,
     "status": "aborted",
     "timestamp": 1671975141940,
     "user": {
      "displayName": "Matthias Hofmaier",
      "userId": "03772858042952791795"
     },
     "user_tz": -60
    },
    "id": "b5_Y5kg_gi4r"
   },
   "outputs": [],
   "source": [
    "def create_Xy_from_spectrograms_A2(df, spectrograms, stv_rate=4, context_size=16): \n",
    "    # stv_rate = spectrogram to video frame rate ratio\n",
    "    # context_size = number of spectrogram frames to pre and append to the label spectrogram frames\n",
    "    X = []\n",
    "    y = []\n",
    "    frame_unsuccesful = [] # in this array we will story frame + video for which we did not find spectrogram info\n",
    "    for idx, row in tqdm(df.iterrows(), total=len(df)):\n",
    "\n",
    "        # find middle spectrogram frames corresponding to video frame label\n",
    "        spec_slice_horizontal_label = slice(row[\"Frame_number\"] * stv_rate, (row[\"Frame_number\"] +1) * stv_rate)\n",
    "        spec = spectrograms[row[\"fname_audio\"]]\n",
    "        label_snippet = spec[:, spec_slice_horizontal_label]\n",
    "        if label_snippet.shape[1] < 4:\n",
    "            frame_unsuccesful.append(str(row['Video']) + '_' + str(row['Frame_number']))\n",
    "        else:\n",
    "            # create full snippet with context frames filled with zeros\n",
    "            full_snippet = np.zeros((spec.shape[0], 2*context_size + stv_rate)) \n",
    "\n",
    "            # place label snippet in the middle\n",
    "            full_snippet[:, context_size:context_size + stv_rate] = label_snippet\n",
    "\n",
    "            # find context\n",
    "            # context_size frames before the actual frames\n",
    "            context_pre = spec[:, row[\"Frame_number\"] * stv_rate - context_size:row[\"Frame_number\"] * stv_rate] \n",
    "            # context_size frames after the actual frames\n",
    "            context_post = spec[:, (row[\"Frame_number\"] + 1) * stv_rate:(row[\"Frame_number\"] + 1) * stv_rate + context_size] \n",
    "\n",
    "            # place context in full snippet\n",
    "            # fill from index context_size to left with context_pre\n",
    "            full_snippet[:, context_size-context_pre.shape[1]:context_size] = context_pre\n",
    "            # fill after label frames with context_post\n",
    "            full_snippet[:, context_size+stv_rate:context_size+stv_rate+context_post.shape[1]] = context_post\n",
    "\n",
    "            X.append(full_snippet)\n",
    "            y.append(row[\"Audio_Cook\"])\n",
    "    X = np.dstack(X)\n",
    "    X = np.swapaxes(X, 0, 2)\n",
    "    X = np.swapaxes(X, 1, 2)\n",
    "    X = np.expand_dims(X, axis=3)\n",
    "    y = np.array(y)\n",
    "    \n",
    "    print(f\"Created X array with shape {X.shape}\")\n",
    "    print(f\"Created y array with shape {y.shape}\")\n",
    "    print(f\"For {len(frame_unsuccesful)} video frames, we did not find a spectrogram frame\")\n",
    "    \n",
    "    return X, y, frame_unsuccesful\n",
    "\n",
    "X_train_A2, y_train_A2, fu_train_A2 = create_Xy_from_spectrograms_A2(train, spectrograms)\n",
    "X_val_A2, y_val_A2, fu_val_A2 = create_Xy_from_spectrograms_A2(val, spectrograms)\n",
    "X_test_A2, y_test_A2, fu_test_A2 = create_Xy_from_spectrograms_A2(test, spectrograms)\n",
    "\n",
    "\n",
    "# Save snippets + labels to file\n",
    "os.makedirs(PROCESSED_DATA_PATH, exist_ok=True)\n",
    "with open(os.path.join(PROCESSED_DATA_PATH, \"X_train_audio_cook_A2.npy\"), 'wb') as f:\n",
    "          np.save(f, X_train_A2, allow_pickle=False)\n",
    "with open(os.path.join(PROCESSED_DATA_PATH, \"y_train_audio_cook_A2.npy\"), 'wb') as f:\n",
    "          np.save(f, y_train_A2, allow_pickle=False)\n",
    "with open(os.path.join(PROCESSED_DATA_PATH, \"X_val_audio_cook_A2.npy\"), 'wb') as f:\n",
    "          np.save(f, X_val_A2, allow_pickle=False)\n",
    "with open(os.path.join(PROCESSED_DATA_PATH, \"y_val_audio_cook_A2.npy\"), 'wb') as f:\n",
    "          np.save(f, y_val_A2, allow_pickle=False)\n",
    "with open(os.path.join(PROCESSED_DATA_PATH, \"X_test_audio_cook_A2.npy\"), 'wb') as f:\n",
    "          np.save(f, X_test_A2, allow_pickle=False)\n",
    "with open(os.path.join(PROCESSED_DATA_PATH, \"y_test_audio_cook_A2.npy\"), 'wb') as f:\n",
    "          np.save(f, y_test_A2, allow_pickle=False)"
   ]
  },
  {
   "cell_type": "markdown",
   "id": "7Bzv7hSZgi4r",
   "metadata": {
    "id": "7Bzv7hSZgi4r"
   },
   "source": [
    "For some of the video frames, we do not have spectrogram frames. This should be further investigated, but as it is only a very small number compared to the total number of frames, we will ignore this for now."
   ]
  },
  {
   "cell_type": "markdown",
   "id": "c3Cf8wmxgi4r",
   "metadata": {
    "id": "c3Cf8wmxgi4r"
   },
   "source": [
    "## 2.2 Load spectrogram snippets"
   ]
  },
  {
   "cell_type": "code",
   "execution_count": 14,
   "id": "kT0CAD7tgi4r",
   "metadata": {
    "colab": {
     "base_uri": "https://localhost:8080/"
    },
    "executionInfo": {
     "elapsed": 29460,
     "status": "ok",
     "timestamp": 1671975190597,
     "user": {
      "displayName": "Matthias Hofmaier",
      "userId": "03772858042952791795"
     },
     "user_tz": -60
    },
    "id": "kT0CAD7tgi4r",
    "outputId": "ce0fa097-7c6b-43ac-ecbf-b17aba17b37c"
   },
   "outputs": [
    {
     "name": "stdout",
     "output_type": "stream",
     "text": [
      "Loaded spectrogram snippets from disk!\n"
     ]
    }
   ],
   "source": [
    "if os.path.exists(PROCESSED_DATA_PATH): \n",
    "    with open(os.path.join(PROCESSED_DATA_PATH, \"X_train_audio_cook_A2.npy\"), 'rb') as f:\n",
    "          X_train_A2 = np.load(f)\n",
    "    with open(os.path.join(PROCESSED_DATA_PATH, \"y_train_audio_cook_A2.npy\"), 'rb') as f:\n",
    "          y_train_A2 = np.load(f)\n",
    "    with open(os.path.join(PROCESSED_DATA_PATH, \"X_val_audio_cook_A2.npy\"), 'rb') as f:\n",
    "          X_val_A2 = np.load(f)\n",
    "    with open(os.path.join(PROCESSED_DATA_PATH, \"y_val_audio_cook_A2.npy\"), 'rb') as f:\n",
    "          y_val_A2 = np.load(f)\n",
    "    with open(os.path.join(PROCESSED_DATA_PATH, \"X_test_audio_cook_A2.npy\"), 'rb') as f:\n",
    "          X_test_A2 = np.load(f)\n",
    "    with open(os.path.join(PROCESSED_DATA_PATH, \"y_test_audio_cook_A2.npy\"), 'rb') as f:\n",
    "          y_test_A2 = np.load(f)\n",
    "    print(\"Loaded spectrogram snippets from disk!\")"
   ]
  },
  {
   "cell_type": "markdown",
   "id": "qwpF4FHHqO7X",
   "metadata": {
    "id": "qwpF4FHHqO7X"
   },
   "source": [
    "## 2.3 Modeling"
   ]
  },
  {
   "cell_type": "markdown",
   "id": "Fk150bZwqO7g",
   "metadata": {
    "id": "Fk150bZwqO7g"
   },
   "source": [
    "### 2.3.1 Standardize features\n",
    "We will standardize the input features by subtracting the mean and dividing by the standard deviation of X_train. With that we end up with features having mean=0 and std=1."
   ]
  },
  {
   "cell_type": "code",
   "execution_count": 15,
   "id": "i7c_XagTqO7g",
   "metadata": {
    "colab": {
     "base_uri": "https://localhost:8080/"
    },
    "executionInfo": {
     "elapsed": 4710,
     "status": "ok",
     "timestamp": 1671975197770,
     "user": {
      "displayName": "Matthias Hofmaier",
      "userId": "03772858042952791795"
     },
     "user_tz": -60
    },
    "id": "i7c_XagTqO7g",
    "outputId": "e9302006-2001-4fdc-d04e-77d5b6d58e60"
   },
   "outputs": [
    {
     "name": "stdout",
     "output_type": "stream",
     "text": [
      "Mean of X_train: 0.008088953934683011\n",
      "Std of X_train: 0.043443787587759304\n"
     ]
    }
   ],
   "source": [
    "xt_mean = X_train_A2.mean()\n",
    "xt_std = X_train_A2.std()\n",
    "print(f\"Mean of X_train: {xt_mean}\")\n",
    "print(f\"Std of X_train: {xt_std}\")\n",
    "\n",
    "X_train_A2 = (X_train_A2 - xt_mean) / xt_std\n",
    "X_val_A2 = (X_val_A2 - xt_mean) / xt_std\n",
    "X_test_A2 = (X_test_A2 - xt_mean) / xt_std"
   ]
  },
  {
   "cell_type": "markdown",
   "id": "AqtmUtaWqO7g",
   "metadata": {
    "id": "AqtmUtaWqO7g"
   },
   "source": [
    "### 2.3.2 Create datasets"
   ]
  },
  {
   "cell_type": "code",
   "execution_count": 16,
   "id": "ft_y_P8OqO7g",
   "metadata": {
    "executionInfo": {
     "elapsed": 4255,
     "status": "ok",
     "timestamp": 1671975204847,
     "user": {
      "displayName": "Matthias Hofmaier",
      "userId": "03772858042952791795"
     },
     "user_tz": -60
    },
    "id": "ft_y_P8OqO7g"
   },
   "outputs": [],
   "source": [
    "dataset_train = tf.data.Dataset.from_tensor_slices((X_train_A2, y_train_A2))\n",
    "dataset_val = tf.data.Dataset.from_tensor_slices((X_val_A2, y_val_A2))\n",
    "dataset_test = tf.data.Dataset.from_tensor_slices((X_test_A2, y_test_A2))\n",
    "\n",
    "\n",
    "BATCH_SIZE = 128\n",
    "dataset_train = dataset_train.shuffle(buffer_size=1024).batch(BATCH_SIZE)\n",
    "dataset_val = dataset_val.batch(BATCH_SIZE)\n",
    "dataset_test = dataset_test.batch(BATCH_SIZE)"
   ]
  },
  {
   "cell_type": "markdown",
   "id": "mrKImDlpqO7g",
   "metadata": {
    "id": "mrKImDlpqO7g"
   },
   "source": [
    "### 2.3.3 Define CNN model"
   ]
  },
  {
   "cell_type": "code",
   "execution_count": 44,
   "id": "3XTdL9TjqO7g",
   "metadata": {
    "colab": {
     "base_uri": "https://localhost:8080/"
    },
    "executionInfo": {
     "elapsed": 379,
     "status": "ok",
     "timestamp": 1671977055490,
     "user": {
      "displayName": "Matthias Hofmaier",
      "userId": "03772858042952791795"
     },
     "user_tz": -60
    },
    "id": "3XTdL9TjqO7g",
    "outputId": "a955571e-0a36-4345-cb33-09cfb7282a7b"
   },
   "outputs": [
    {
     "name": "stdout",
     "output_type": "stream",
     "text": [
      "Model: \"sequential_10\"\n",
      "_________________________________________________________________\n",
      " Layer (type)                Output Shape              Param #   \n",
      "=================================================================\n",
      " conv2d_32 (Conv2D)          (None, 62, 34, 64)        640       \n",
      "                                                                 \n",
      " batch_normalization_38 (Bat  (None, 62, 34, 64)       256       \n",
      " chNormalization)                                                \n",
      "                                                                 \n",
      " max_pooling2d_30 (MaxPoolin  (None, 31, 17, 64)       0         \n",
      " g2D)                                                            \n",
      "                                                                 \n",
      " conv2d_33 (Conv2D)          (None, 29, 15, 64)        36928     \n",
      "                                                                 \n",
      " batch_normalization_39 (Bat  (None, 29, 15, 64)       256       \n",
      " chNormalization)                                                \n",
      "                                                                 \n",
      " max_pooling2d_31 (MaxPoolin  (None, 14, 7, 64)        0         \n",
      " g2D)                                                            \n",
      "                                                                 \n",
      " conv2d_34 (Conv2D)          (None, 12, 5, 128)        73856     \n",
      "                                                                 \n",
      " batch_normalization_40 (Bat  (None, 12, 5, 128)       512       \n",
      " chNormalization)                                                \n",
      "                                                                 \n",
      " max_pooling2d_32 (MaxPoolin  (None, 6, 2, 128)        0         \n",
      " g2D)                                                            \n",
      "                                                                 \n",
      " flatten_8 (Flatten)         (None, 1536)              0         \n",
      "                                                                 \n",
      " dense_20 (Dense)            (None, 250)               384250    \n",
      "                                                                 \n",
      " batch_normalization_41 (Bat  (None, 250)              1000      \n",
      " chNormalization)                                                \n",
      "                                                                 \n",
      " dropout_8 (Dropout)         (None, 250)               0         \n",
      "                                                                 \n",
      " dense_21 (Dense)            (None, 1)                 251       \n",
      "                                                                 \n",
      "=================================================================\n",
      "Total params: 497,949\n",
      "Trainable params: 496,937\n",
      "Non-trainable params: 1,012\n",
      "_________________________________________________________________\n"
     ]
    }
   ],
   "source": [
    "input_shape = X_train_A2.shape[1:]\n",
    "model = models.Sequential()\n",
    "model.add(layers.Conv2D(64, (3, 3), activation='relu', input_shape=input_shape))\n",
    "model.add(layers.BatchNormalization())\n",
    "model.add(layers.MaxPooling2D((2, 2)))\n",
    "model.add(layers.Conv2D(64, (3, 3), activation='relu'))\n",
    "model.add(layers.BatchNormalization())\n",
    "model.add(layers.MaxPooling2D((2, 2)))\n",
    "model.add(layers.Conv2D(128, (3, 3), activation='relu'))\n",
    "model.add(layers.BatchNormalization())\n",
    "model.add(layers.MaxPooling2D((2, 2)))\n",
    "#model.add(layers.Conv2D(128, (3, 3), activation='relu'))\n",
    "#model.add(layers.BatchNormalization())\n",
    "#model.add(layers.MaxPooling2D((2, 2)))\n",
    "#model.add(layers.Conv2D(64, (2, 2), activation='relu'))\n",
    "#model.add(layers.BatchNormalization())\n",
    "\n",
    "model.add(layers.Flatten())\n",
    "#model.add(layers.Dense(500, activation='relu'))\n",
    "model.add(layers.Dense(250, activation='relu',  kernel_regularizer='l2'))\n",
    "model.add(layers.BatchNormalization())\n",
    "model.add(layers.Dropout(rate=0.5))\n",
    "model.add(layers.Dense(1, activation='sigmoid'))\n",
    "\n",
    "model.summary()"
   ]
  },
  {
   "cell_type": "markdown",
   "id": "P18tcXR5qO7g",
   "metadata": {
    "id": "P18tcXR5qO7g"
   },
   "source": [
    "### 2.3.4 Compile and train CNN model"
   ]
  },
  {
   "cell_type": "code",
   "execution_count": 45,
   "id": "vH0jSXxLqO7g",
   "metadata": {
    "colab": {
     "base_uri": "https://localhost:8080/"
    },
    "executionInfo": {
     "elapsed": 745185,
     "status": "ok",
     "timestamp": 1671978593291,
     "user": {
      "displayName": "Matthias Hofmaier",
      "userId": "03772858042952791795"
     },
     "user_tz": -60
    },
    "id": "vH0jSXxLqO7g",
    "outputId": "973833c6-e1ff-4472-fb60-bba1d4b9177f"
   },
   "outputs": [
    {
     "name": "stdout",
     "output_type": "stream",
     "text": [
      "Epoch 1/200\n",
      "634/634 [==============================] - 19s 28ms/step - loss: 2.8455 - prc: 0.0703 - recall: 0.7790 - precision: 0.0315 - val_loss: 1.3117 - val_prc: 0.0791 - val_recall: 0.7222 - val_precision: 0.0457\n",
      "Epoch 2/200\n",
      "634/634 [==============================] - 17s 26ms/step - loss: 1.3603 - prc: 0.2037 - recall: 0.8612 - precision: 0.0594 - val_loss: 0.7230 - val_prc: 0.2565 - val_recall: 0.7176 - val_precision: 0.1595\n",
      "Epoch 3/200\n",
      "634/634 [==============================] - 17s 26ms/step - loss: 1.0894 - prc: 0.2966 - recall: 0.8880 - precision: 0.0845 - val_loss: 0.6001 - val_prc: 0.4022 - val_recall: 0.6991 - val_precision: 0.2035\n",
      "Epoch 4/200\n",
      "634/634 [==============================] - 17s 26ms/step - loss: 0.8981 - prc: 0.3838 - recall: 0.9148 - precision: 0.1061 - val_loss: 0.5023 - val_prc: 0.5332 - val_recall: 0.8519 - val_precision: 0.1927\n",
      "Epoch 5/200\n",
      "634/634 [==============================] - 17s 26ms/step - loss: 0.8038 - prc: 0.4517 - recall: 0.9356 - precision: 0.1343 - val_loss: 0.6962 - val_prc: 0.3530 - val_recall: 0.9213 - val_precision: 0.1226\n",
      "Epoch 6/200\n",
      "634/634 [==============================] - 17s 27ms/step - loss: 0.6564 - prc: 0.5626 - recall: 0.9495 - precision: 0.1677 - val_loss: 0.6551 - val_prc: 0.3065 - val_recall: 0.8981 - val_precision: 0.1158\n",
      "Epoch 7/200\n",
      "634/634 [==============================] - 17s 26ms/step - loss: 0.6356 - prc: 0.5878 - recall: 0.9524 - precision: 0.1869 - val_loss: 0.5255 - val_prc: 0.4647 - val_recall: 0.8148 - val_precision: 0.2061\n",
      "Epoch 8/200\n",
      "634/634 [==============================] - 17s 26ms/step - loss: 0.6617 - prc: 0.6040 - recall: 0.9564 - precision: 0.1961 - val_loss: 0.4758 - val_prc: 0.6489 - val_recall: 0.9028 - val_precision: 0.3345\n",
      "Epoch 9/200\n",
      "634/634 [==============================] - 16s 26ms/step - loss: 0.6212 - prc: 0.6141 - recall: 0.9564 - precision: 0.2029 - val_loss: 0.5124 - val_prc: 0.5143 - val_recall: 0.8056 - val_precision: 0.3515\n",
      "Epoch 10/200\n",
      "634/634 [==============================] - 17s 26ms/step - loss: 0.5376 - prc: 0.6817 - recall: 0.9663 - precision: 0.2390 - val_loss: 0.3726 - val_prc: 0.7788 - val_recall: 0.9028 - val_precision: 0.4632\n",
      "Epoch 11/200\n",
      "634/634 [==============================] - 17s 26ms/step - loss: 0.4975 - prc: 0.7120 - recall: 0.9713 - precision: 0.2686 - val_loss: 0.6204 - val_prc: 0.2795 - val_recall: 0.8796 - val_precision: 0.1166\n",
      "Epoch 12/200\n",
      "634/634 [==============================] - 17s 26ms/step - loss: 0.5665 - prc: 0.6769 - recall: 0.9633 - precision: 0.2448 - val_loss: 0.4403 - val_prc: 0.6642 - val_recall: 0.9491 - val_precision: 0.2443\n",
      "Epoch 13/200\n",
      "634/634 [==============================] - 17s 26ms/step - loss: 0.4271 - prc: 0.7719 - recall: 0.9772 - precision: 0.3111 - val_loss: 0.3628 - val_prc: 0.5370 - val_recall: 0.6991 - val_precision: 0.3922\n",
      "Epoch 14/200\n",
      "634/634 [==============================] - 17s 27ms/step - loss: 0.4847 - prc: 0.7340 - recall: 0.9673 - precision: 0.2921 - val_loss: 0.3286 - val_prc: 0.8622 - val_recall: 0.9537 - val_precision: 0.4736\n",
      "Epoch 15/200\n",
      "634/634 [==============================] - 17s 26ms/step - loss: 0.4282 - prc: 0.8002 - recall: 0.9782 - precision: 0.3248 - val_loss: 0.3258 - val_prc: 0.6426 - val_recall: 0.7731 - val_precision: 0.4785\n",
      "Epoch 16/200\n",
      "634/634 [==============================] - 17s 26ms/step - loss: 0.4133 - prc: 0.8002 - recall: 0.9792 - precision: 0.3379 - val_loss: 0.3188 - val_prc: 0.7989 - val_recall: 0.8426 - val_precision: 0.5948\n",
      "Epoch 17/200\n",
      "634/634 [==============================] - 17s 26ms/step - loss: 0.4647 - prc: 0.7655 - recall: 0.9742 - precision: 0.3159 - val_loss: 0.3656 - val_prc: 0.7834 - val_recall: 0.8796 - val_precision: 0.6419\n",
      "Epoch 18/200\n",
      "634/634 [==============================] - 16s 26ms/step - loss: 0.4211 - prc: 0.8247 - recall: 0.9782 - precision: 0.3481 - val_loss: 0.3096 - val_prc: 0.7322 - val_recall: 0.8611 - val_precision: 0.4124\n",
      "Epoch 19/200\n",
      "634/634 [==============================] - 16s 26ms/step - loss: 0.4230 - prc: 0.7903 - recall: 0.9762 - precision: 0.3446 - val_loss: 0.4447 - val_prc: 0.6259 - val_recall: 0.7269 - val_precision: 0.4577\n",
      "Epoch 20/200\n",
      "634/634 [==============================] - 16s 26ms/step - loss: 0.3944 - prc: 0.8449 - recall: 0.9861 - precision: 0.3902 - val_loss: 0.2496 - val_prc: 0.8375 - val_recall: 0.9676 - val_precision: 0.4553\n",
      "Epoch 21/200\n",
      "634/634 [==============================] - 17s 26ms/step - loss: 0.3488 - prc: 0.8371 - recall: 0.9812 - precision: 0.3960 - val_loss: 0.2953 - val_prc: 0.7312 - val_recall: 0.9398 - val_precision: 0.4319\n",
      "Epoch 22/200\n",
      "634/634 [==============================] - 17s 26ms/step - loss: 0.3584 - prc: 0.8561 - recall: 0.9822 - precision: 0.4078 - val_loss: 0.2868 - val_prc: 0.8194 - val_recall: 0.9630 - val_precision: 0.4976\n",
      "Epoch 23/200\n",
      "634/634 [==============================] - 17s 27ms/step - loss: 0.3218 - prc: 0.8613 - recall: 0.9851 - precision: 0.4261 - val_loss: 0.3910 - val_prc: 0.4065 - val_recall: 0.9167 - val_precision: 0.1766\n",
      "Epoch 24/200\n",
      "634/634 [==============================] - 16s 26ms/step - loss: 0.2949 - prc: 0.8653 - recall: 0.9861 - precision: 0.4444 - val_loss: 0.3032 - val_prc: 0.6599 - val_recall: 0.8333 - val_precision: 0.4147\n",
      "Epoch 25/200\n",
      "634/634 [==============================] - 17s 26ms/step - loss: 0.4076 - prc: 0.8396 - recall: 0.9772 - precision: 0.3771 - val_loss: 0.2787 - val_prc: 0.8631 - val_recall: 0.9444 - val_precision: 0.4378\n",
      "Epoch 26/200\n",
      "634/634 [==============================] - 17s 26ms/step - loss: 0.3808 - prc: 0.8527 - recall: 0.9772 - precision: 0.3957 - val_loss: 0.3729 - val_prc: 0.7689 - val_recall: 0.8796 - val_precision: 0.4634\n",
      "Epoch 27/200\n",
      "634/634 [==============================] - 17s 26ms/step - loss: 0.3280 - prc: 0.8906 - recall: 0.9881 - precision: 0.4439 - val_loss: 0.2893 - val_prc: 0.6614 - val_recall: 0.9583 - val_precision: 0.3040\n",
      "Epoch 28/200\n",
      "634/634 [==============================] - 16s 26ms/step - loss: 0.2937 - prc: 0.8933 - recall: 0.9871 - precision: 0.4784 - val_loss: 0.4086 - val_prc: 0.7066 - val_recall: 0.8796 - val_precision: 0.4299\n",
      "Epoch 29/200\n",
      "634/634 [==============================] - 16s 26ms/step - loss: 0.3407 - prc: 0.8670 - recall: 0.9832 - precision: 0.4195 - val_loss: 0.3342 - val_prc: 0.6024 - val_recall: 0.8704 - val_precision: 0.3247\n",
      "Epoch 30/200\n",
      "634/634 [==============================] - 17s 26ms/step - loss: 0.2740 - prc: 0.9000 - recall: 0.9921 - precision: 0.4946 - val_loss: 0.1664 - val_prc: 0.9249 - val_recall: 0.9676 - val_precision: 0.6093\n",
      "Epoch 31/200\n",
      "634/634 [==============================] - 17s 27ms/step - loss: 0.3590 - prc: 0.8394 - recall: 0.9792 - precision: 0.3910 - val_loss: 0.2169 - val_prc: 0.9177 - val_recall: 0.9398 - val_precision: 0.6905\n",
      "Epoch 32/200\n",
      "634/634 [==============================] - 17s 26ms/step - loss: 0.2886 - prc: 0.8953 - recall: 0.9861 - precision: 0.4693 - val_loss: 0.2254 - val_prc: 0.8910 - val_recall: 0.9537 - val_precision: 0.6059\n",
      "Epoch 33/200\n",
      "634/634 [==============================] - 17s 26ms/step - loss: 0.3243 - prc: 0.8916 - recall: 0.9822 - precision: 0.4428 - val_loss: 0.2389 - val_prc: 0.8579 - val_recall: 0.9028 - val_precision: 0.6842\n",
      "Epoch 34/200\n",
      "634/634 [==============================] - 17s 26ms/step - loss: 0.2795 - prc: 0.9120 - recall: 0.9861 - precision: 0.4685 - val_loss: 0.2295 - val_prc: 0.8963 - val_recall: 0.9630 - val_precision: 0.4826\n",
      "Epoch 35/200\n",
      "634/634 [==============================] - 16s 26ms/step - loss: 0.2617 - prc: 0.9092 - recall: 0.9871 - precision: 0.5028 - val_loss: 0.1897 - val_prc: 0.8658 - val_recall: 0.9537 - val_precision: 0.5464\n",
      "Epoch 36/200\n",
      "634/634 [==============================] - 16s 26ms/step - loss: 0.2383 - prc: 0.9335 - recall: 0.9891 - precision: 0.5217 - val_loss: 0.1484 - val_prc: 0.9330 - val_recall: 0.9306 - val_precision: 0.7585\n",
      "Epoch 37/200\n",
      "634/634 [==============================] - 16s 26ms/step - loss: 0.2576 - prc: 0.9266 - recall: 0.9881 - precision: 0.5092 - val_loss: 0.1647 - val_prc: 0.9131 - val_recall: 0.9630 - val_precision: 0.7003\n",
      "Epoch 38/200\n",
      "634/634 [==============================] - 16s 26ms/step - loss: 0.2824 - prc: 0.9076 - recall: 0.9851 - precision: 0.4894 - val_loss: 0.1695 - val_prc: 0.9387 - val_recall: 0.9444 - val_precision: 0.7108\n",
      "Epoch 39/200\n",
      "634/634 [==============================] - 17s 26ms/step - loss: 0.2540 - prc: 0.9165 - recall: 0.9881 - precision: 0.5267 - val_loss: 0.2003 - val_prc: 0.8525 - val_recall: 0.9028 - val_precision: 0.6633\n",
      "Epoch 40/200\n",
      "634/634 [==============================] - 17s 26ms/step - loss: 0.2583 - prc: 0.9414 - recall: 0.9881 - precision: 0.5451 - val_loss: 0.2449 - val_prc: 0.8245 - val_recall: 0.9120 - val_precision: 0.5442\n",
      "Epoch 41/200\n",
      "634/634 [==============================] - 17s 27ms/step - loss: 0.2302 - prc: 0.9217 - recall: 0.9911 - precision: 0.5211 - val_loss: 0.1411 - val_prc: 0.9123 - val_recall: 0.9120 - val_precision: 0.8455\n",
      "Epoch 42/200\n",
      "634/634 [==============================] - 17s 26ms/step - loss: 0.2758 - prc: 0.9142 - recall: 0.9861 - precision: 0.5116 - val_loss: 0.2862 - val_prc: 0.7984 - val_recall: 0.9074 - val_precision: 0.5144\n",
      "Epoch 43/200\n",
      "634/634 [==============================] - 17s 26ms/step - loss: 0.2608 - prc: 0.8989 - recall: 0.9832 - precision: 0.4928 - val_loss: 0.2931 - val_prc: 0.7387 - val_recall: 0.9537 - val_precision: 0.3179\n",
      "Epoch 44/200\n",
      "634/634 [==============================] - 17s 26ms/step - loss: 0.2686 - prc: 0.9259 - recall: 0.9861 - precision: 0.4901 - val_loss: 0.1560 - val_prc: 0.8724 - val_recall: 0.9352 - val_precision: 0.6413\n",
      "Epoch 45/200\n",
      "634/634 [==============================] - 17s 26ms/step - loss: 0.2212 - prc: 0.9590 - recall: 0.9911 - precision: 0.5764 - val_loss: 0.1637 - val_prc: 0.9291 - val_recall: 0.9120 - val_precision: 0.7548\n",
      "Epoch 46/200\n",
      "634/634 [==============================] - 17s 26ms/step - loss: 0.2013 - prc: 0.9515 - recall: 0.9911 - precision: 0.5824 - val_loss: 0.1436 - val_prc: 0.9071 - val_recall: 0.9444 - val_precision: 0.5812\n",
      "Epoch 47/200\n",
      "634/634 [==============================] - 17s 26ms/step - loss: 0.2833 - prc: 0.9098 - recall: 0.9841 - precision: 0.4832 - val_loss: 0.1718 - val_prc: 0.9033 - val_recall: 0.9444 - val_precision: 0.6667\n",
      "Epoch 48/200\n",
      "634/634 [==============================] - 17s 27ms/step - loss: 0.1813 - prc: 0.9604 - recall: 0.9931 - precision: 0.6456 - val_loss: 0.1376 - val_prc: 0.9164 - val_recall: 0.9444 - val_precision: 0.7391\n",
      "Epoch 49/200\n",
      "634/634 [==============================] - 17s 27ms/step - loss: 0.2050 - prc: 0.9475 - recall: 0.9901 - precision: 0.5832 - val_loss: 0.2159 - val_prc: 0.7538 - val_recall: 0.8380 - val_precision: 0.6582\n",
      "Epoch 50/200\n",
      "634/634 [==============================] - 17s 27ms/step - loss: 0.2842 - prc: 0.9084 - recall: 0.9881 - precision: 0.4553 - val_loss: 0.1681 - val_prc: 0.9311 - val_recall: 0.9306 - val_precision: 0.7528\n",
      "Epoch 51/200\n",
      "634/634 [==============================] - 17s 26ms/step - loss: 0.1936 - prc: 0.9697 - recall: 0.9921 - precision: 0.5987 - val_loss: 0.1134 - val_prc: 0.9706 - val_recall: 0.9630 - val_precision: 0.8814\n",
      "Epoch 52/200\n",
      "634/634 [==============================] - 17s 27ms/step - loss: 0.1788 - prc: 0.9761 - recall: 0.9921 - precision: 0.6718 - val_loss: 0.1343 - val_prc: 0.9497 - val_recall: 0.9630 - val_precision: 0.7222\n",
      "Epoch 53/200\n",
      "634/634 [==============================] - 17s 27ms/step - loss: 0.2162 - prc: 0.9494 - recall: 0.9901 - precision: 0.5666 - val_loss: 0.1980 - val_prc: 0.8764 - val_recall: 0.9028 - val_precision: 0.7117\n",
      "Epoch 54/200\n",
      "634/634 [==============================] - 17s 27ms/step - loss: 0.2341 - prc: 0.9344 - recall: 0.9891 - precision: 0.5591 - val_loss: 0.1368 - val_prc: 0.9141 - val_recall: 0.9306 - val_precision: 0.6484\n",
      "Epoch 55/200\n",
      "634/634 [==============================] - 17s 26ms/step - loss: 0.1748 - prc: 0.9557 - recall: 0.9911 - precision: 0.6592 - val_loss: 0.2192 - val_prc: 0.5471 - val_recall: 0.4074 - val_precision: 0.7458\n",
      "Epoch 56/200\n",
      "634/634 [==============================] - 17s 27ms/step - loss: 0.2751 - prc: 0.9195 - recall: 0.9832 - precision: 0.4887 - val_loss: 0.1757 - val_prc: 0.9033 - val_recall: 0.9259 - val_precision: 0.7812\n",
      "Epoch 57/200\n",
      "634/634 [==============================] - 17s 26ms/step - loss: 0.2646 - prc: 0.9353 - recall: 0.9851 - precision: 0.5245 - val_loss: 0.1748 - val_prc: 0.8732 - val_recall: 0.9259 - val_precision: 0.6452\n",
      "Epoch 58/200\n",
      "634/634 [==============================] - 17s 27ms/step - loss: 0.2103 - prc: 0.9490 - recall: 0.9891 - precision: 0.5739 - val_loss: 0.1927 - val_prc: 0.8363 - val_recall: 0.9491 - val_precision: 0.4334\n",
      "Epoch 59/200\n",
      "634/634 [==============================] - 17s 27ms/step - loss: 0.2130 - prc: 0.9498 - recall: 0.9871 - precision: 0.5721 - val_loss: 0.1140 - val_prc: 0.9577 - val_recall: 0.9583 - val_precision: 0.7841\n",
      "Epoch 60/200\n",
      "634/634 [==============================] - 17s 26ms/step - loss: 0.1665 - prc: 0.9728 - recall: 0.9921 - precision: 0.6384 - val_loss: 0.1013 - val_prc: 0.9590 - val_recall: 0.9491 - val_precision: 0.8506\n",
      "Epoch 61/200\n",
      "634/634 [==============================] - 17s 26ms/step - loss: 0.1767 - prc: 0.9672 - recall: 0.9911 - precision: 0.6506 - val_loss: 0.1429 - val_prc: 0.9052 - val_recall: 0.9167 - val_precision: 0.8319\n",
      "Epoch 62/200\n",
      "634/634 [==============================] - 17s 26ms/step - loss: 0.1747 - prc: 0.9683 - recall: 0.9901 - precision: 0.6248 - val_loss: 0.2138 - val_prc: 0.7196 - val_recall: 0.9676 - val_precision: 0.2824\n",
      "Epoch 63/200\n",
      "634/634 [==============================] - 17s 27ms/step - loss: 0.2322 - prc: 0.9356 - recall: 0.9881 - precision: 0.5652 - val_loss: 0.2442 - val_prc: 0.7841 - val_recall: 0.9491 - val_precision: 0.4028\n",
      "Epoch 64/200\n",
      "634/634 [==============================] - 17s 27ms/step - loss: 0.2056 - prc: 0.9582 - recall: 0.9931 - precision: 0.5880 - val_loss: 0.1068 - val_prc: 0.9567 - val_recall: 0.9259 - val_precision: 0.8969\n",
      "Epoch 65/200\n",
      "634/634 [==============================] - 17s 26ms/step - loss: 0.2265 - prc: 0.9422 - recall: 0.9881 - precision: 0.5389 - val_loss: 0.2406 - val_prc: 0.8079 - val_recall: 0.9537 - val_precision: 0.4213\n",
      "Epoch 66/200\n",
      "634/634 [==============================] - 17s 26ms/step - loss: 0.1954 - prc: 0.9514 - recall: 0.9911 - precision: 0.6549 - val_loss: 0.3453 - val_prc: 0.7850 - val_recall: 0.9861 - val_precision: 0.1844\n",
      "Epoch 67/200\n",
      "634/634 [==============================] - 17s 27ms/step - loss: 0.1946 - prc: 0.9650 - recall: 0.9911 - precision: 0.5817 - val_loss: 0.2508 - val_prc: 0.7624 - val_recall: 0.9120 - val_precision: 0.4096\n",
      "Epoch 68/200\n",
      "634/634 [==============================] - 17s 26ms/step - loss: 0.1599 - prc: 0.9750 - recall: 0.9931 - precision: 0.6882 - val_loss: 0.0724 - val_prc: 0.9736 - val_recall: 0.9537 - val_precision: 0.9196\n",
      "Epoch 69/200\n",
      "634/634 [==============================] - 17s 26ms/step - loss: 0.1834 - prc: 0.9600 - recall: 0.9871 - precision: 0.6356 - val_loss: 0.1668 - val_prc: 0.8564 - val_recall: 0.7917 - val_precision: 0.8301\n",
      "Epoch 70/200\n",
      "634/634 [==============================] - 17s 27ms/step - loss: 0.2303 - prc: 0.9423 - recall: 0.9881 - precision: 0.5684 - val_loss: 0.1100 - val_prc: 0.9446 - val_recall: 0.9306 - val_precision: 0.8855\n",
      "Epoch 71/200\n",
      "634/634 [==============================] - 17s 26ms/step - loss: 0.1785 - prc: 0.9653 - recall: 0.9941 - precision: 0.6450 - val_loss: 0.1123 - val_prc: 0.9575 - val_recall: 0.9630 - val_precision: 0.8320\n",
      "Epoch 72/200\n",
      "634/634 [==============================] - 17s 27ms/step - loss: 0.1557 - prc: 0.9827 - recall: 0.9941 - precision: 0.6673 - val_loss: 0.1025 - val_prc: 0.9565 - val_recall: 0.9444 - val_precision: 0.8226\n",
      "Epoch 73/200\n",
      "634/634 [==============================] - 17s 27ms/step - loss: 0.2115 - prc: 0.9292 - recall: 0.9841 - precision: 0.5373 - val_loss: 0.3009 - val_prc: 0.6733 - val_recall: 0.9444 - val_precision: 0.3077\n",
      "Epoch 74/200\n",
      "634/634 [==============================] - 17s 27ms/step - loss: 0.2122 - prc: 0.9380 - recall: 0.9931 - precision: 0.5626 - val_loss: 0.1066 - val_prc: 0.9316 - val_recall: 0.9491 - val_precision: 0.7218\n",
      "Epoch 75/200\n",
      "634/634 [==============================] - 17s 27ms/step - loss: 0.1636 - prc: 0.9694 - recall: 0.9901 - precision: 0.6228 - val_loss: 0.1062 - val_prc: 0.9564 - val_recall: 0.9676 - val_precision: 0.7013\n",
      "Epoch 76/200\n",
      "634/634 [==============================] - 17s 26ms/step - loss: 0.1315 - prc: 0.9829 - recall: 0.9950 - precision: 0.7207 - val_loss: 0.0760 - val_prc: 0.9650 - val_recall: 0.9583 - val_precision: 0.9000\n",
      "Epoch 77/200\n",
      "634/634 [==============================] - 17s 26ms/step - loss: 0.1440 - prc: 0.9700 - recall: 0.9931 - precision: 0.6498 - val_loss: 0.1143 - val_prc: 0.9404 - val_recall: 0.9074 - val_precision: 0.8634\n",
      "Epoch 78/200\n",
      "634/634 [==============================] - 17s 26ms/step - loss: 0.2137 - prc: 0.9495 - recall: 0.9881 - precision: 0.5770 - val_loss: 0.1673 - val_prc: 0.9386 - val_recall: 0.9444 - val_precision: 0.8031\n"
     ]
    }
   ],
   "source": [
    "N_EPOCHS = 200\n",
    "\n",
    "es_callback = tf.keras.callbacks.EarlyStopping(monitor='val_loss', patience=10)\n",
    "if COLAB:\n",
    "    checkpoint_filepath = os.path.join(root_path, 'models', 'audio-dl')\n",
    "else:\n",
    "    checkpoint_filepath = '../models/audio-dl/'\n",
    "\n",
    "model_checkpoint_callback = tf.keras.callbacks.ModelCheckpoint(\n",
    "    filepath=checkpoint_filepath,\n",
    "    save_weights_only=True,\n",
    "    monitor='val_prc',\n",
    "    mode='max',\n",
    "    save_best_only=True)\n",
    "\n",
    "model.compile(optimizer='adam',\n",
    "              loss=tf.keras.losses.BinaryCrossentropy(),\n",
    "              metrics=[tf.keras.metrics.AUC(name='prc', curve='PR', num_thresholds=200), tf.keras.metrics.Recall(name=\"recall\"), tf.keras.metrics.Precision(name=\"precision\")]\n",
    "              )\n",
    "\n",
    "history = model.fit(dataset_train, epochs=N_EPOCHS, class_weight=class_weights, \n",
    "                    validation_data=dataset_val, \n",
    "                    callbacks=[es_callback, model_checkpoint_callback]\n",
    "                    )"
   ]
  },
  {
   "cell_type": "code",
   "execution_count": null,
   "id": "WHaOmiC4u4Uk",
   "metadata": {
    "executionInfo": {
     "elapsed": 12,
     "status": "aborted",
     "timestamp": 1671975141941,
     "user": {
      "displayName": "Matthias Hofmaier",
      "userId": "03772858042952791795"
     },
     "user_tz": -60
    },
    "id": "WHaOmiC4u4Uk"
   },
   "outputs": [],
   "source": [
    "plot_training_history(history)"
   ]
  },
  {
   "cell_type": "code",
   "execution_count": null,
   "id": "Sa23OC00v9qj",
   "metadata": {
    "executionInfo": {
     "elapsed": 13,
     "status": "aborted",
     "timestamp": 1671975141942,
     "user": {
      "displayName": "Matthias Hofmaier",
      "userId": "03772858042952791795"
     },
     "user_tz": -60
    },
    "id": "Sa23OC00v9qj"
   },
   "outputs": [],
   "source": [
    "model.evaluate(dataset_val)"
   ]
  }
 ],
 "metadata": {
  "accelerator": "GPU",
  "colab": {
   "provenance": []
  },
  "gpuClass": "standard",
  "kernelspec": {
   "display_name": "Python [conda env:sm-dl-audio]",
   "language": "python",
   "name": "conda-env-sm-dl-audio-py"
  },
  "language_info": {
   "codemirror_mode": {
    "name": "ipython",
    "version": 3
   },
   "file_extension": ".py",
   "mimetype": "text/x-python",
   "name": "python",
   "nbconvert_exporter": "python",
   "pygments_lexer": "ipython3",
   "version": "3.9.15"
  }
 },
 "nbformat": 4,
 "nbformat_minor": 5
}
