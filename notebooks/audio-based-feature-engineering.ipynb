{
 "cells": [
  {
   "cell_type": "markdown",
   "id": "3e842021-02b8-4817-8781-773c464c0421",
   "metadata": {
    "id": "3e842021-02b8-4817-8781-773c464c0421"
   },
   "source": [
    "# Similarity Modeling 1/2: Recognizing Waldorf & Statler"
   ]
  },
  {
   "cell_type": "markdown",
   "id": "03efa108-c8e7-4967-a11e-a0a571372787",
   "metadata": {
    "id": "03efa108-c8e7-4967-a11e-a0a571372787"
   },
   "source": [
    "## Required libraries and installs"
   ]
  },
  {
   "cell_type": "code",
   "execution_count": 1,
   "id": "dab3274f-2b3b-4be1-9e0f-7bce58d82d24",
   "metadata": {
    "colab": {
     "base_uri": "https://localhost:8080/",
     "height": 1000
    },
    "executionInfo": {
     "elapsed": 12641,
     "status": "ok",
     "timestamp": 1671975012839,
     "user": {
      "displayName": "Matthias Hofmaier",
      "userId": "03772858042952791795"
     },
     "user_tz": -60
    },
    "id": "dab3274f-2b3b-4be1-9e0f-7bce58d82d24",
    "outputId": "3115eaa4-41d1-497d-8148-b0eae8b0032f"
   },
   "outputs": [
    {
     "name": "stdout",
     "output_type": "stream",
     "text": [
      "pandas\r\n",
      "numpy\r\n",
      "opencv-python\r\n",
      "librosa==0.9.2\r\n",
      "tqdm\r\n",
      "tensorflow==2.9.2\r\n",
      "matplotlib==3.1.3\r\n",
      "Requirement already satisfied: pandas in /Users/gallushuber/git_proj/similarity-modeling/.venv/lib/python3.10/site-packages (from -r requirements-fe-audio.txt (line 1)) (1.5.2)\r\n",
      "Requirement already satisfied: numpy in /Users/gallushuber/git_proj/similarity-modeling/.venv/lib/python3.10/site-packages (from -r requirements-fe-audio.txt (line 2)) (1.23.5)\r\n",
      "Requirement already satisfied: opencv-python in /Users/gallushuber/git_proj/similarity-modeling/.venv/lib/python3.10/site-packages (from -r requirements-fe-audio.txt (line 3)) (4.6.0.66)\r\n",
      "Requirement already satisfied: matplotlib in /Users/gallushuber/git_proj/similarity-modeling/.venv/lib/python3.10/site-packages (from -r requirements-fe-audio.txt (line 4)) (3.6.2)\r\n",
      "Requirement already satisfied: python-dateutil>=2.8.1 in /usr/local/lib/python3.10/site-packages (from pandas->-r requirements-fe-audio.txt (line 1)) (2.8.2)\r\n",
      "Requirement already satisfied: pytz>=2020.1 in /Users/gallushuber/git_proj/similarity-modeling/.venv/lib/python3.10/site-packages (from pandas->-r requirements-fe-audio.txt (line 1)) (2022.6)\r\n",
      "Requirement already satisfied: contourpy>=1.0.1 in /Users/gallushuber/git_proj/similarity-modeling/.venv/lib/python3.10/site-packages (from matplotlib->-r requirements-fe-audio.txt (line 4)) (1.0.6)\r\n",
      "Requirement already satisfied: kiwisolver>=1.0.1 in /Users/gallushuber/git_proj/similarity-modeling/.venv/lib/python3.10/site-packages (from matplotlib->-r requirements-fe-audio.txt (line 4)) (1.4.4)\r\n",
      "Requirement already satisfied: packaging>=20.0 in /usr/local/lib/python3.10/site-packages (from matplotlib->-r requirements-fe-audio.txt (line 4)) (21.3)\r\n",
      "Requirement already satisfied: cycler>=0.10 in /Users/gallushuber/git_proj/similarity-modeling/.venv/lib/python3.10/site-packages (from matplotlib->-r requirements-fe-audio.txt (line 4)) (0.11.0)\r\n",
      "Requirement already satisfied: fonttools>=4.22.0 in /Users/gallushuber/git_proj/similarity-modeling/.venv/lib/python3.10/site-packages (from matplotlib->-r requirements-fe-audio.txt (line 4)) (4.38.0)\r\n",
      "Requirement already satisfied: pillow>=6.2.0 in /Users/gallushuber/git_proj/similarity-modeling/.venv/lib/python3.10/site-packages (from matplotlib->-r requirements-fe-audio.txt (line 4)) (9.3.0)\r\n",
      "Requirement already satisfied: pyparsing>=2.2.1 in /usr/local/lib/python3.10/site-packages (from matplotlib->-r requirements-fe-audio.txt (line 4)) (3.0.9)\r\n",
      "Requirement already satisfied: six>=1.5 in /usr/local/lib/python3.10/site-packages (from python-dateutil>=2.8.1->pandas->-r requirements-fe-audio.txt (line 1)) (1.16.0)\r\n"
     ]
    }
   ],
   "source": [
    "!cat requirements-dl-audio.txt\n",
    "!pip install -r requirements-fe-audio.txt"
   ]
  },
  {
   "cell_type": "code",
   "execution_count": 18,
   "outputs": [
    {
     "name": "stdout",
     "output_type": "stream",
     "text": [
      "Running `brew update --auto-update`...\r\n",
      "\u001B[34m==>\u001B[0m \u001B[1mAuto-updated Homebrew!\u001B[0m\r\n",
      "Updated 3 taps (homebrew/core, homebrew/cask and homebrew/services).\r\n",
      "\u001B[34m==>\u001B[0m \u001B[1mNew Formulae\u001B[0m\r\n",
      "ansible@6       marksman        prowler         steampipe       syft\r\n",
      "lemmeknow       protolint       sniffnet        stepci\r\n",
      "\u001B[34m==>\u001B[0m \u001B[1mNew Casks\u001B[0m\r\n",
      "attachecase                menubarx                   vk-calls\r\n",
      "iconchanger                virtual-desktop-streamer   youtype\r\n",
      "\r\n",
      "You have \u001B[1m4\u001B[0m outdated formulae installed.\r\n",
      "You can upgrade them with \u001B[1mbrew upgrade\u001B[0m\r\n",
      "or list them with \u001B[1mbrew outdated\u001B[0m.\r\n",
      "\r\n",
      "\u001B[32m==>\u001B[0m \u001B[1mFetching dependencies for ffmpeg: \u001B[32mhighway\u001B[39m, \u001B[32mimath\u001B[39m, \u001B[32mopenexr\u001B[39m, \u001B[32mxz\u001B[39m, \u001B[32mjpeg-xl\u001B[39m, \u001B[32mlibvmaf\u001B[39m, \u001B[32maom\u001B[39m, \u001B[32mdav1d\u001B[39m, \u001B[32mfrei0r\u001B[39m, \u001B[32mgmp\u001B[39m, \u001B[32mbdw-gc\u001B[39m, \u001B[32mm4\u001B[39m, \u001B[32mlibtool\u001B[39m, \u001B[32mlibunistring\u001B[39m, \u001B[32mguile\u001B[39m, \u001B[32mlibidn2\u001B[39m, \u001B[32mlibtasn1\u001B[39m, \u001B[32mnettle\u001B[39m, \u001B[32mp11-kit\u001B[39m, \u001B[32mlibevent\u001B[39m, \u001B[32munbound\u001B[39m, \u001B[32mgnutls\u001B[39m, \u001B[32mlame\u001B[39m, \u001B[32mpcre2\u001B[39m, \u001B[32mglib\u001B[39m, \u001B[32mlibxrender\u001B[39m, \u001B[32mlibunibreak\u001B[39m, \u001B[32mlibass\u001B[39m, \u001B[32mlibbluray\u001B[39m, \u001B[32mcjson\u001B[39m, \u001B[32mcmocka\u001B[39m, \u001B[32mmbedtls\u001B[39m, \u001B[32mlibrist\u001B[39m, \u001B[32mlibsoxr\u001B[39m, \u001B[32mlibvidstab\u001B[39m, \u001B[32mlibogg\u001B[39m, \u001B[32mlibvorbis\u001B[39m, \u001B[32mlibvpx\u001B[39m, \u001B[32mopencore-amr\u001B[39m, \u001B[32mopus\u001B[39m, \u001B[32mrav1e\u001B[39m, \u001B[32mflac\u001B[39m, \u001B[32mmpg123\u001B[39m, \u001B[32mlibsndfile\u001B[39m, \u001B[32mlibsamplerate\u001B[39m, \u001B[32mrubberband\u001B[39m, \u001B[32msdl2\u001B[39m, \u001B[32msnappy\u001B[39m, \u001B[32mspeex\u001B[39m, \u001B[32msrt\u001B[39m, \u001B[32mtheora\u001B[39m, \u001B[32mx264\u001B[39m, \u001B[32mx265\u001B[39m, \u001B[32mxvid\u001B[39m, \u001B[32mlibsodium\u001B[39m, \u001B[32mzeromq\u001B[39m and \u001B[32mzimg\u001B[39m\u001B[0m\r\n",
      "\u001B[32m==>\u001B[0m \u001B[1mFetching \u001B[32mhighway\u001B[39m\u001B[0m\r\n",
      "\u001B[34m==>\u001B[0m \u001B[1mDownloading https://ghcr.io/v2/homebrew/core/highway/manifests/1.0.2\u001B[0m\r\n",
      "######################################################################## 100.0%\r\n",
      "\u001B[34m==>\u001B[0m \u001B[1mDownloading https://ghcr.io/v2/homebrew/core/highway/blobs/sha256:01abac2200\u001B[0m\r\n",
      "\u001B[34m==>\u001B[0m \u001B[1mDownloading from https://pkg-containers.githubusercontent.com/ghcr1/blobs/sh\u001B[0m\r\n",
      "######################################################################## 100.0%\r\n",
      "\u001B[32m==>\u001B[0m \u001B[1mFetching \u001B[32mimath\u001B[39m\u001B[0m\r\n",
      "\u001B[34m==>\u001B[0m \u001B[1mDownloading https://ghcr.io/v2/homebrew/core/imath/manifests/3.1.6\u001B[0m\r\n",
      "######################################################################## 100.0%\r\n",
      "\u001B[34m==>\u001B[0m \u001B[1mDownloading https://ghcr.io/v2/homebrew/core/imath/blobs/sha256:66b235ef0440\u001B[0m\r\n",
      "\u001B[34m==>\u001B[0m \u001B[1mDownloading from https://pkg-containers.githubusercontent.com/ghcr1/blobs/sh\u001B[0m\r\n",
      "######################################################################## 100.0%\r\n",
      "\u001B[32m==>\u001B[0m \u001B[1mFetching \u001B[32mopenexr\u001B[39m\u001B[0m\r\n",
      "\u001B[34m==>\u001B[0m \u001B[1mDownloading https://ghcr.io/v2/homebrew/core/openexr/manifests/3.1.5\u001B[0m\r\n",
      "######################################################################## 100.0%\r\n",
      "\u001B[34m==>\u001B[0m \u001B[1mDownloading https://ghcr.io/v2/homebrew/core/openexr/blobs/sha256:2bac769718\u001B[0m\r\n",
      "\u001B[34m==>\u001B[0m \u001B[1mDownloading from https://pkg-containers.githubusercontent.com/ghcr1/blobs/sh\u001B[0m\r\n",
      "######################################################################## 100.0%\r\n",
      "\u001B[32m==>\u001B[0m \u001B[1mFetching \u001B[32mxz\u001B[39m\u001B[0m\r\n",
      "\u001B[34m==>\u001B[0m \u001B[1mDownloading https://ghcr.io/v2/homebrew/core/xz/manifests/5.4.0\u001B[0m\r\n",
      "######################################################################## 100.0%\r\n",
      "\u001B[34m==>\u001B[0m \u001B[1mDownloading https://ghcr.io/v2/homebrew/core/xz/blobs/sha256:13908e0a3e7e420\u001B[0m\r\n",
      "\u001B[34m==>\u001B[0m \u001B[1mDownloading from https://pkg-containers.githubusercontent.com/ghcr1/blobs/sh\u001B[0m\r\n",
      "######################################################################## 100.0%\r\n",
      "\u001B[32m==>\u001B[0m \u001B[1mFetching \u001B[32mjpeg-xl\u001B[39m\u001B[0m\r\n",
      "\u001B[34m==>\u001B[0m \u001B[1mDownloading https://ghcr.io/v2/homebrew/core/jpeg-xl/manifests/0.7.0_1\u001B[0m\r\n",
      "######################################################################## 100.0%\r\n",
      "\u001B[34m==>\u001B[0m \u001B[1mDownloading https://ghcr.io/v2/homebrew/core/jpeg-xl/blobs/sha256:09a8f21c88\u001B[0m\r\n",
      "\u001B[34m==>\u001B[0m \u001B[1mDownloading from https://pkg-containers.githubusercontent.com/ghcr1/blobs/sh\u001B[0m\r\n",
      "######################################################################## 100.0%\r\n",
      "\u001B[32m==>\u001B[0m \u001B[1mFetching \u001B[32mlibvmaf\u001B[39m\u001B[0m\r\n",
      "\u001B[34m==>\u001B[0m \u001B[1mDownloading https://ghcr.io/v2/homebrew/core/libvmaf/manifests/2.3.1\u001B[0m\r\n",
      "######################################################################## 100.0%\r\n",
      "\u001B[34m==>\u001B[0m \u001B[1mDownloading https://ghcr.io/v2/homebrew/core/libvmaf/blobs/sha256:433acd17cf\u001B[0m\r\n",
      "\u001B[34m==>\u001B[0m \u001B[1mDownloading from https://pkg-containers.githubusercontent.com/ghcr1/blobs/sh\u001B[0m\r\n",
      "######################################################################## 100.0%\r\n",
      "\u001B[32m==>\u001B[0m \u001B[1mFetching \u001B[32maom\u001B[39m\u001B[0m\r\n",
      "\u001B[34m==>\u001B[0m \u001B[1mDownloading https://ghcr.io/v2/homebrew/core/aom/manifests/3.5.0_1\u001B[0m\r\n",
      "######################################################################## 100.0%\r\n",
      "\u001B[34m==>\u001B[0m \u001B[1mDownloading https://ghcr.io/v2/homebrew/core/aom/blobs/sha256:831002cff4013b\u001B[0m\r\n",
      "\u001B[34m==>\u001B[0m \u001B[1mDownloading from https://pkg-containers.githubusercontent.com/ghcr1/blobs/sh\u001B[0m\r\n",
      "######################################################################## 100.0%\r\n",
      "\u001B[32m==>\u001B[0m \u001B[1mFetching \u001B[32mdav1d\u001B[39m\u001B[0m\r\n",
      "\u001B[34m==>\u001B[0m \u001B[1mDownloading https://ghcr.io/v2/homebrew/core/dav1d/manifests/1.0.0\u001B[0m\r\n",
      "######################################################################## 100.0%\r\n",
      "\u001B[34m==>\u001B[0m \u001B[1mDownloading https://ghcr.io/v2/homebrew/core/dav1d/blobs/sha256:67d10c5e3616\u001B[0m\r\n",
      "\u001B[34m==>\u001B[0m \u001B[1mDownloading from https://pkg-containers.githubusercontent.com/ghcr1/blobs/sh\u001B[0m\r\n",
      "######################################################################## 100.0%\r\n",
      "\u001B[32m==>\u001B[0m \u001B[1mFetching \u001B[32mfrei0r\u001B[39m\u001B[0m\r\n",
      "\u001B[34m==>\u001B[0m \u001B[1mDownloading https://ghcr.io/v2/homebrew/core/frei0r/manifests/1.8.0\u001B[0m\r\n",
      "######################################################################## 100.0%\r\n",
      "\u001B[34m==>\u001B[0m \u001B[1mDownloading https://ghcr.io/v2/homebrew/core/frei0r/blobs/sha256:49619d94f05\u001B[0m\r\n",
      "\u001B[34m==>\u001B[0m \u001B[1mDownloading from https://pkg-containers.githubusercontent.com/ghcr1/blobs/sh\u001B[0m\r\n",
      "######################################################################## 100.0%\r\n",
      "\u001B[32m==>\u001B[0m \u001B[1mFetching \u001B[32mgmp\u001B[39m\u001B[0m\r\n",
      "\u001B[34m==>\u001B[0m \u001B[1mDownloading https://ghcr.io/v2/homebrew/core/gmp/manifests/6.2.1_1\u001B[0m\r\n",
      "######################################################################## 100.0%\r\n",
      "\u001B[34m==>\u001B[0m \u001B[1mDownloading https://ghcr.io/v2/homebrew/core/gmp/blobs/sha256:4c6488dfd53b82\u001B[0m\r\n",
      "\u001B[34m==>\u001B[0m \u001B[1mDownloading from https://pkg-containers.githubusercontent.com/ghcr1/blobs/sh\u001B[0m\r\n",
      "######################################################################## 100.0%\r\n",
      "\u001B[32m==>\u001B[0m \u001B[1mFetching \u001B[32mbdw-gc\u001B[39m\u001B[0m\r\n",
      "\u001B[34m==>\u001B[0m \u001B[1mDownloading https://ghcr.io/v2/homebrew/core/bdw-gc/manifests/8.2.2\u001B[0m\r\n",
      "######################################################################## 100.0%\r\n",
      "\u001B[34m==>\u001B[0m \u001B[1mDownloading https://ghcr.io/v2/homebrew/core/bdw-gc/blobs/sha256:6efb9e3ce48\u001B[0m\r\n",
      "\u001B[34m==>\u001B[0m \u001B[1mDownloading from https://pkg-containers.githubusercontent.com/ghcr1/blobs/sh\u001B[0m\r\n",
      "######################################################################## 100.0%\r\n",
      "\u001B[32m==>\u001B[0m \u001B[1mFetching \u001B[32mm4\u001B[39m\u001B[0m\r\n",
      "\u001B[34m==>\u001B[0m \u001B[1mDownloading https://ghcr.io/v2/homebrew/core/m4/manifests/1.4.19\u001B[0m\r\n",
      "######################################################################## 100.0%\r\n",
      "\u001B[34m==>\u001B[0m \u001B[1mDownloading https://ghcr.io/v2/homebrew/core/m4/blobs/sha256:0c7707d23c005fb\u001B[0m\r\n",
      "\u001B[34m==>\u001B[0m \u001B[1mDownloading from https://pkg-containers.githubusercontent.com/ghcr1/blobs/sh\u001B[0m\r\n",
      "######################################################################## 100.0%\r\n",
      "\u001B[32m==>\u001B[0m \u001B[1mFetching \u001B[32mlibtool\u001B[39m\u001B[0m\r\n",
      "\u001B[34m==>\u001B[0m \u001B[1mDownloading https://ghcr.io/v2/homebrew/core/libtool/manifests/2.4.7\u001B[0m\r\n",
      "######################################################################## 100.0%\r\n",
      "\u001B[34m==>\u001B[0m \u001B[1mDownloading https://ghcr.io/v2/homebrew/core/libtool/blobs/sha256:21e24bf4c3\u001B[0m\r\n",
      "\u001B[34m==>\u001B[0m \u001B[1mDownloading from https://pkg-containers.githubusercontent.com/ghcr1/blobs/sh\u001B[0m\r\n",
      "######################################################################## 100.0%\r\n",
      "\u001B[32m==>\u001B[0m \u001B[1mFetching \u001B[32mlibunistring\u001B[39m\u001B[0m\r\n",
      "\u001B[34m==>\u001B[0m \u001B[1mDownloading https://ghcr.io/v2/homebrew/core/libunistring/manifests/1.0\u001B[0m\r\n",
      "######################################################################## 100.0%\r\n",
      "\u001B[34m==>\u001B[0m \u001B[1mDownloading https://ghcr.io/v2/homebrew/core/libunistring/blobs/sha256:09262\u001B[0m\r\n",
      "\u001B[34m==>\u001B[0m \u001B[1mDownloading from https://pkg-containers.githubusercontent.com/ghcr1/blobs/sh\u001B[0m\r\n",
      "######################################################################## 100.0%\r\n",
      "\u001B[32m==>\u001B[0m \u001B[1mFetching \u001B[32mguile\u001B[39m\u001B[0m\r\n",
      "\u001B[34m==>\u001B[0m \u001B[1mDownloading https://ghcr.io/v2/homebrew/core/guile/manifests/3.0.8_3\u001B[0m\r\n",
      "######################################################################## 100.0%\r\n",
      "\u001B[34m==>\u001B[0m \u001B[1mDownloading https://ghcr.io/v2/homebrew/core/guile/blobs/sha256:a7474a97c56e\u001B[0m\r\n",
      "\u001B[34m==>\u001B[0m \u001B[1mDownloading from https://pkg-containers.githubusercontent.com/ghcr1/blobs/sh\u001B[0m\r\n",
      "######################################################################## 100.0%\r\n",
      "\u001B[32m==>\u001B[0m \u001B[1mFetching \u001B[32mlibidn2\u001B[39m\u001B[0m\r\n",
      "\u001B[34m==>\u001B[0m \u001B[1mDownloading https://ghcr.io/v2/homebrew/core/libidn2/manifests/2.3.4\u001B[0m\r\n",
      "######################################################################## 100.0%\r\n",
      "\u001B[34m==>\u001B[0m \u001B[1mDownloading https://ghcr.io/v2/homebrew/core/libidn2/blobs/sha256:3561d71012\u001B[0m\r\n",
      "\u001B[34m==>\u001B[0m \u001B[1mDownloading from https://pkg-containers.githubusercontent.com/ghcr1/blobs/sh\u001B[0m\r\n",
      "######################################################################## 100.0%\r\n",
      "\u001B[32m==>\u001B[0m \u001B[1mFetching \u001B[32mlibtasn1\u001B[39m\u001B[0m\r\n",
      "\u001B[34m==>\u001B[0m \u001B[1mDownloading https://ghcr.io/v2/homebrew/core/libtasn1/manifests/4.19.0\u001B[0m\r\n",
      "######################################################################## 100.0%\r\n",
      "\u001B[34m==>\u001B[0m \u001B[1mDownloading https://ghcr.io/v2/homebrew/core/libtasn1/blobs/sha256:ee3b036d7\u001B[0m\r\n",
      "\u001B[34m==>\u001B[0m \u001B[1mDownloading from https://pkg-containers.githubusercontent.com/ghcr1/blobs/sh\u001B[0m\r\n",
      "######################################################################## 100.0%\r\n",
      "\u001B[32m==>\u001B[0m \u001B[1mFetching \u001B[32mnettle\u001B[39m\u001B[0m\r\n",
      "\u001B[34m==>\u001B[0m \u001B[1mDownloading https://ghcr.io/v2/homebrew/core/nettle/manifests/3.8.1\u001B[0m\r\n",
      "######################################################################## 100.0%\r\n",
      "\u001B[34m==>\u001B[0m \u001B[1mDownloading https://ghcr.io/v2/homebrew/core/nettle/blobs/sha256:6ad1de91930\u001B[0m\r\n",
      "\u001B[34m==>\u001B[0m \u001B[1mDownloading from https://pkg-containers.githubusercontent.com/ghcr1/blobs/sh\u001B[0m\r\n",
      "######################################################################## 100.0%\r\n",
      "\u001B[32m==>\u001B[0m \u001B[1mFetching \u001B[32mp11-kit\u001B[39m\u001B[0m\r\n",
      "\u001B[34m==>\u001B[0m \u001B[1mDownloading https://ghcr.io/v2/homebrew/core/p11-kit/manifests/0.24.1_1\u001B[0m\r\n",
      "######################################################################## 100.0%\r\n",
      "\u001B[34m==>\u001B[0m \u001B[1mDownloading https://ghcr.io/v2/homebrew/core/p11-kit/blobs/sha256:611163d62f\u001B[0m\r\n",
      "\u001B[34m==>\u001B[0m \u001B[1mDownloading from https://pkg-containers.githubusercontent.com/ghcr1/blobs/sh\u001B[0m\r\n",
      "######################################################################## 100.0%\r\n",
      "\u001B[32m==>\u001B[0m \u001B[1mFetching \u001B[32mlibevent\u001B[39m\u001B[0m\r\n",
      "\u001B[34m==>\u001B[0m \u001B[1mDownloading https://ghcr.io/v2/homebrew/core/libevent/manifests/2.1.12\u001B[0m\r\n",
      "######################################################################## 100.0%\r\n",
      "\u001B[34m==>\u001B[0m \u001B[1mDownloading https://ghcr.io/v2/homebrew/core/libevent/blobs/sha256:2760d8ed3\u001B[0m\r\n",
      "\u001B[34m==>\u001B[0m \u001B[1mDownloading from https://pkg-containers.githubusercontent.com/ghcr1/blobs/sh\u001B[0m\r\n",
      "######################################################################## 100.0%\r\n",
      "\u001B[32m==>\u001B[0m \u001B[1mFetching \u001B[32munbound\u001B[39m\u001B[0m\r\n",
      "\u001B[34m==>\u001B[0m \u001B[1mDownloading https://ghcr.io/v2/homebrew/core/unbound/manifests/1.17.0\u001B[0m\r\n",
      "######################################################################## 100.0%\r\n",
      "\u001B[34m==>\u001B[0m \u001B[1mDownloading https://ghcr.io/v2/homebrew/core/unbound/blobs/sha256:c33cfc378f\u001B[0m\r\n",
      "\u001B[34m==>\u001B[0m \u001B[1mDownloading from https://pkg-containers.githubusercontent.com/ghcr1/blobs/sh\u001B[0m\r\n",
      "######################################################################## 100.0%\r\n",
      "\u001B[32m==>\u001B[0m \u001B[1mFetching \u001B[32mgnutls\u001B[39m\u001B[0m\r\n",
      "\u001B[34m==>\u001B[0m \u001B[1mDownloading https://ghcr.io/v2/homebrew/core/gnutls/manifests/3.7.8\u001B[0m\r\n",
      "######################################################################## 100.0%\r\n",
      "\u001B[34m==>\u001B[0m \u001B[1mDownloading https://ghcr.io/v2/homebrew/core/gnutls/blobs/sha256:02b9851e948\u001B[0m\r\n",
      "\u001B[34m==>\u001B[0m \u001B[1mDownloading from https://pkg-containers.githubusercontent.com/ghcr1/blobs/sh\u001B[0m\r\n",
      "######################################################################## 100.0%\r\n",
      "\u001B[32m==>\u001B[0m \u001B[1mFetching \u001B[32mlame\u001B[39m\u001B[0m\r\n",
      "\u001B[34m==>\u001B[0m \u001B[1mDownloading https://ghcr.io/v2/homebrew/core/lame/manifests/3.100\u001B[0m\r\n",
      "######################################################################## 100.0%\r\n",
      "\u001B[34m==>\u001B[0m \u001B[1mDownloading https://ghcr.io/v2/homebrew/core/lame/blobs/sha256:745542d02ea72\u001B[0m\r\n",
      "\u001B[34m==>\u001B[0m \u001B[1mDownloading from https://pkg-containers.githubusercontent.com/ghcr1/blobs/sh\u001B[0m\r\n",
      "######################################################################## 100.0%\r\n",
      "\u001B[32m==>\u001B[0m \u001B[1mFetching \u001B[32mpcre2\u001B[39m\u001B[0m\r\n",
      "\u001B[34m==>\u001B[0m \u001B[1mDownloading https://ghcr.io/v2/homebrew/core/pcre2/manifests/10.42\u001B[0m\r\n",
      "######################################################################## 100.0%\r\n",
      "\u001B[34m==>\u001B[0m \u001B[1mDownloading https://ghcr.io/v2/homebrew/core/pcre2/blobs/sha256:7f414ed9d561\u001B[0m\r\n",
      "\u001B[34m==>\u001B[0m \u001B[1mDownloading from https://pkg-containers.githubusercontent.com/ghcr1/blobs/sh\u001B[0m\r\n",
      "######################################################################## 100.0%\r\n",
      "\u001B[32m==>\u001B[0m \u001B[1mFetching \u001B[32mglib\u001B[39m\u001B[0m\r\n",
      "\u001B[34m==>\u001B[0m \u001B[1mDownloading https://ghcr.io/v2/homebrew/core/glib/manifests/2.74.4\u001B[0m\r\n",
      "######################################################################## 100.0%\r\n",
      "\u001B[34m==>\u001B[0m \u001B[1mDownloading https://ghcr.io/v2/homebrew/core/glib/blobs/sha256:d3c0c18a655b1\u001B[0m\r\n",
      "\u001B[34m==>\u001B[0m \u001B[1mDownloading from https://pkg-containers.githubusercontent.com/ghcr1/blobs/sh\u001B[0m\r\n",
      "######################################################################## 100.0%\r\n",
      "\u001B[32m==>\u001B[0m \u001B[1mFetching \u001B[32mlibxrender\u001B[39m\u001B[0m\r\n",
      "\u001B[34m==>\u001B[0m \u001B[1mDownloading https://ghcr.io/v2/homebrew/core/libxrender/manifests/0.9.11\u001B[0m\r\n",
      "######################################################################## 100.0%\r\n",
      "\u001B[34m==>\u001B[0m \u001B[1mDownloading https://ghcr.io/v2/homebrew/core/libxrender/blobs/sha256:5eb0bb5\u001B[0m\r\n",
      "\u001B[34m==>\u001B[0m \u001B[1mDownloading from https://pkg-containers.githubusercontent.com/ghcr1/blobs/sh\u001B[0m\r\n",
      "######################################################################## 100.0%\r\n",
      "\u001B[32m==>\u001B[0m \u001B[1mFetching \u001B[32mlibunibreak\u001B[39m\u001B[0m\r\n",
      "\u001B[34m==>\u001B[0m \u001B[1mDownloading https://ghcr.io/v2/homebrew/core/libunibreak/manifests/5.0\u001B[0m\r\n",
      "######################################################################## 100.0%\r\n",
      "\u001B[34m==>\u001B[0m \u001B[1mDownloading https://ghcr.io/v2/homebrew/core/libunibreak/blobs/sha256:c63a0c\u001B[0m\r\n",
      "\u001B[34m==>\u001B[0m \u001B[1mDownloading from https://pkg-containers.githubusercontent.com/ghcr1/blobs/sh\u001B[0m\r\n",
      "######################################################################## 100.0%\r\n",
      "\u001B[32m==>\u001B[0m \u001B[1mFetching \u001B[32mlibass\u001B[39m\u001B[0m\r\n",
      "\u001B[34m==>\u001B[0m \u001B[1mDownloading https://ghcr.io/v2/homebrew/core/libass/manifests/0.17.0\u001B[0m\r\n",
      "######################################################################## 100.0%\r\n",
      "\u001B[34m==>\u001B[0m \u001B[1mDownloading https://ghcr.io/v2/homebrew/core/libass/blobs/sha256:7d65f258e3f\u001B[0m\r\n",
      "\u001B[34m==>\u001B[0m \u001B[1mDownloading from https://pkg-containers.githubusercontent.com/ghcr1/blobs/sh\u001B[0m\r\n",
      "######################################################################## 100.0%\r\n",
      "\u001B[32m==>\u001B[0m \u001B[1mFetching \u001B[32mlibbluray\u001B[39m\u001B[0m\r\n",
      "\u001B[34m==>\u001B[0m \u001B[1mDownloading https://ghcr.io/v2/homebrew/core/libbluray/manifests/1.3.4\u001B[0m\r\n",
      "######################################################################## 100.0%\r\n",
      "\u001B[34m==>\u001B[0m \u001B[1mDownloading https://ghcr.io/v2/homebrew/core/libbluray/blobs/sha256:4f079685\u001B[0m\r\n",
      "\u001B[34m==>\u001B[0m \u001B[1mDownloading from https://pkg-containers.githubusercontent.com/ghcr1/blobs/sh\u001B[0m\r\n",
      "######################################################################## 100.0%\r\n",
      "\u001B[32m==>\u001B[0m \u001B[1mFetching \u001B[32mcjson\u001B[39m\u001B[0m\r\n",
      "\u001B[34m==>\u001B[0m \u001B[1mDownloading https://ghcr.io/v2/homebrew/core/cjson/manifests/1.7.15\u001B[0m\r\n",
      "######################################################################## 100.0%\r\n",
      "\u001B[34m==>\u001B[0m \u001B[1mDownloading https://ghcr.io/v2/homebrew/core/cjson/blobs/sha256:6faecacb90ee\u001B[0m\r\n",
      "\u001B[34m==>\u001B[0m \u001B[1mDownloading from https://pkg-containers.githubusercontent.com/ghcr1/blobs/sh\u001B[0m\r\n",
      "######################################################################## 100.0%\r\n",
      "\u001B[32m==>\u001B[0m \u001B[1mFetching \u001B[32mcmocka\u001B[39m\u001B[0m\r\n",
      "\u001B[34m==>\u001B[0m \u001B[1mDownloading https://ghcr.io/v2/homebrew/core/cmocka/manifests/1.1.5\u001B[0m\r\n",
      "######################################################################## 100.0%\r\n",
      "\u001B[34m==>\u001B[0m \u001B[1mDownloading https://ghcr.io/v2/homebrew/core/cmocka/blobs/sha256:62276a9dcae\u001B[0m\r\n",
      "\u001B[34m==>\u001B[0m \u001B[1mDownloading from https://pkg-containers.githubusercontent.com/ghcr1/blobs/sh\u001B[0m\r\n",
      "######################################################################## 100.0%\r\n",
      "\u001B[32m==>\u001B[0m \u001B[1mFetching \u001B[32mmbedtls\u001B[39m\u001B[0m\r\n",
      "\u001B[34m==>\u001B[0m \u001B[1mDownloading https://ghcr.io/v2/homebrew/core/mbedtls/manifests/3.3.0\u001B[0m\r\n",
      "######################################################################## 100.0%\r\n",
      "\u001B[34m==>\u001B[0m \u001B[1mDownloading https://ghcr.io/v2/homebrew/core/mbedtls/blobs/sha256:1e16bf397c\u001B[0m\r\n",
      "\u001B[34m==>\u001B[0m \u001B[1mDownloading from https://pkg-containers.githubusercontent.com/ghcr1/blobs/sh\u001B[0m\r\n",
      "######################################################################## 100.0%\r\n",
      "\u001B[32m==>\u001B[0m \u001B[1mFetching \u001B[32mlibrist\u001B[39m\u001B[0m\r\n",
      "\u001B[34m==>\u001B[0m \u001B[1mDownloading https://ghcr.io/v2/homebrew/core/librist/manifests/0.2.7_2\u001B[0m\r\n",
      "######################################################################## 100.0%\r\n",
      "\u001B[34m==>\u001B[0m \u001B[1mDownloading https://ghcr.io/v2/homebrew/core/librist/blobs/sha256:3b12971a7e\u001B[0m\r\n",
      "\u001B[34m==>\u001B[0m \u001B[1mDownloading from https://pkg-containers.githubusercontent.com/ghcr1/blobs/sh\u001B[0m\r\n",
      "######################################################################## 100.0%\r\n",
      "\u001B[32m==>\u001B[0m \u001B[1mFetching \u001B[32mlibsoxr\u001B[39m\u001B[0m\r\n",
      "\u001B[34m==>\u001B[0m \u001B[1mDownloading https://ghcr.io/v2/homebrew/core/libsoxr/manifests/0.1.3-1\u001B[0m\r\n",
      "######################################################################## 100.0%\r\n",
      "\u001B[34m==>\u001B[0m \u001B[1mDownloading https://ghcr.io/v2/homebrew/core/libsoxr/blobs/sha256:530b083606\u001B[0m\r\n",
      "\u001B[34m==>\u001B[0m \u001B[1mDownloading from https://pkg-containers.githubusercontent.com/ghcr1/blobs/sh\u001B[0m\r\n",
      "######################################################################## 100.0%\r\n",
      "\u001B[32m==>\u001B[0m \u001B[1mFetching \u001B[32mlibvidstab\u001B[39m\u001B[0m\r\n",
      "\u001B[34m==>\u001B[0m \u001B[1mDownloading https://ghcr.io/v2/homebrew/core/libvidstab/manifests/1.1.0-1\u001B[0m\r\n",
      "######################################################################## 100.0%\r\n",
      "\u001B[34m==>\u001B[0m \u001B[1mDownloading https://ghcr.io/v2/homebrew/core/libvidstab/blobs/sha256:1572202\u001B[0m\r\n",
      "\u001B[34m==>\u001B[0m \u001B[1mDownloading from https://pkg-containers.githubusercontent.com/ghcr1/blobs/sh\u001B[0m\r\n",
      "######################################################################## 100.0%\r\n",
      "\u001B[32m==>\u001B[0m \u001B[1mFetching \u001B[32mlibogg\u001B[39m\u001B[0m\r\n",
      "\u001B[34m==>\u001B[0m \u001B[1mDownloading https://ghcr.io/v2/homebrew/core/libogg/manifests/1.3.5\u001B[0m\r\n",
      "######################################################################## 100.0%\r\n",
      "\u001B[34m==>\u001B[0m \u001B[1mDownloading https://ghcr.io/v2/homebrew/core/libogg/blobs/sha256:b9d827e7f79\u001B[0m\r\n",
      "\u001B[34m==>\u001B[0m \u001B[1mDownloading from https://pkg-containers.githubusercontent.com/ghcr1/blobs/sh\u001B[0m\r\n",
      "######################################################################## 100.0%\r\n",
      "\u001B[32m==>\u001B[0m \u001B[1mFetching \u001B[32mlibvorbis\u001B[39m\u001B[0m\r\n",
      "\u001B[34m==>\u001B[0m \u001B[1mDownloading https://ghcr.io/v2/homebrew/core/libvorbis/manifests/1.3.7\u001B[0m\r\n",
      "######################################################################## 100.0%\r\n",
      "\u001B[34m==>\u001B[0m \u001B[1mDownloading https://ghcr.io/v2/homebrew/core/libvorbis/blobs/sha256:f751147a\u001B[0m\r\n",
      "\u001B[34m==>\u001B[0m \u001B[1mDownloading from https://pkg-containers.githubusercontent.com/ghcr1/blobs/sh\u001B[0m\r\n",
      "######################################################################## 100.0%\r\n",
      "\u001B[32m==>\u001B[0m \u001B[1mFetching \u001B[32mlibvpx\u001B[39m\u001B[0m\r\n",
      "\u001B[34m==>\u001B[0m \u001B[1mDownloading https://ghcr.io/v2/homebrew/core/libvpx/manifests/1.12.0-1\u001B[0m\r\n",
      "######################################################################## 100.0%\r\n",
      "\u001B[34m==>\u001B[0m \u001B[1mDownloading https://ghcr.io/v2/homebrew/core/libvpx/blobs/sha256:50eceb4c322\u001B[0m\r\n",
      "\u001B[34m==>\u001B[0m \u001B[1mDownloading from https://pkg-containers.githubusercontent.com/ghcr1/blobs/sh\u001B[0m\r\n",
      "######################################################################## 100.0%\r\n",
      "\u001B[32m==>\u001B[0m \u001B[1mFetching \u001B[32mopencore-amr\u001B[39m\u001B[0m\r\n",
      "\u001B[34m==>\u001B[0m \u001B[1mDownloading https://ghcr.io/v2/homebrew/core/opencore-amr/manifests/0.1.6\u001B[0m\r\n",
      "######################################################################## 100.0%\r\n",
      "\u001B[34m==>\u001B[0m \u001B[1mDownloading https://ghcr.io/v2/homebrew/core/opencore-amr/blobs/sha256:b9aa6\u001B[0m\r\n",
      "\u001B[34m==>\u001B[0m \u001B[1mDownloading from https://pkg-containers.githubusercontent.com/ghcr1/blobs/sh\u001B[0m\r\n",
      "######################################################################## 100.0%\r\n",
      "\u001B[32m==>\u001B[0m \u001B[1mFetching \u001B[32mopus\u001B[39m\u001B[0m\r\n",
      "\u001B[34m==>\u001B[0m \u001B[1mDownloading https://ghcr.io/v2/homebrew/core/opus/manifests/1.3.1-1\u001B[0m\r\n",
      "######################################################################## 100.0%\r\n",
      "\u001B[34m==>\u001B[0m \u001B[1mDownloading https://ghcr.io/v2/homebrew/core/opus/blobs/sha256:68afef91a4b30\u001B[0m\r\n",
      "\u001B[34m==>\u001B[0m \u001B[1mDownloading from https://pkg-containers.githubusercontent.com/ghcr1/blobs/sh\u001B[0m\r\n",
      "######################################################################## 100.0%\r\n",
      "\u001B[32m==>\u001B[0m \u001B[1mFetching \u001B[32mrav1e\u001B[39m\u001B[0m\r\n",
      "\u001B[34m==>\u001B[0m \u001B[1mDownloading https://ghcr.io/v2/homebrew/core/rav1e/manifests/0.6.1\u001B[0m\r\n",
      "######################################################################## 100.0%\r\n",
      "\u001B[34m==>\u001B[0m \u001B[1mDownloading https://ghcr.io/v2/homebrew/core/rav1e/blobs/sha256:a162a9c35f1a\u001B[0m\r\n",
      "\u001B[34m==>\u001B[0m \u001B[1mDownloading from https://pkg-containers.githubusercontent.com/ghcr1/blobs/sh\u001B[0m\r\n",
      "######################################################################## 100.0%\r\n",
      "\u001B[32m==>\u001B[0m \u001B[1mFetching \u001B[32mflac\u001B[39m\u001B[0m\r\n",
      "\u001B[34m==>\u001B[0m \u001B[1mDownloading https://ghcr.io/v2/homebrew/core/flac/manifests/1.4.2\u001B[0m\r\n",
      "######################################################################## 100.0%\r\n",
      "\u001B[34m==>\u001B[0m \u001B[1mDownloading https://ghcr.io/v2/homebrew/core/flac/blobs/sha256:83b9a42d2058d\u001B[0m\r\n",
      "\u001B[34m==>\u001B[0m \u001B[1mDownloading from https://pkg-containers.githubusercontent.com/ghcr1/blobs/sh\u001B[0m\r\n",
      "######################################################################## 100.0%\r\n",
      "\u001B[32m==>\u001B[0m \u001B[1mFetching \u001B[32mmpg123\u001B[39m\u001B[0m\r\n",
      "\u001B[34m==>\u001B[0m \u001B[1mDownloading https://ghcr.io/v2/homebrew/core/mpg123/manifests/1.31.1\u001B[0m\r\n",
      "######################################################################## 100.0%\r\n",
      "\u001B[34m==>\u001B[0m \u001B[1mDownloading https://ghcr.io/v2/homebrew/core/mpg123/blobs/sha256:88721da6d55\u001B[0m\r\n",
      "\u001B[34m==>\u001B[0m \u001B[1mDownloading from https://pkg-containers.githubusercontent.com/ghcr1/blobs/sh\u001B[0m\r\n",
      "######################################################################## 100.0%\r\n",
      "\u001B[32m==>\u001B[0m \u001B[1mFetching \u001B[32mlibsndfile\u001B[39m\u001B[0m\r\n",
      "\u001B[34m==>\u001B[0m \u001B[1mDownloading https://ghcr.io/v2/homebrew/core/libsndfile/manifests/1.1.0_1-1\u001B[0m\r\n",
      "######################################################################## 100.0%\r\n",
      "\u001B[34m==>\u001B[0m \u001B[1mDownloading https://ghcr.io/v2/homebrew/core/libsndfile/blobs/sha256:1db3fa5\u001B[0m\r\n",
      "\u001B[34m==>\u001B[0m \u001B[1mDownloading from https://pkg-containers.githubusercontent.com/ghcr1/blobs/sh\u001B[0m\r\n",
      "######################################################################## 100.0%\r\n",
      "\u001B[32m==>\u001B[0m \u001B[1mFetching \u001B[32mlibsamplerate\u001B[39m\u001B[0m\r\n",
      "\u001B[34m==>\u001B[0m \u001B[1mDownloading https://ghcr.io/v2/homebrew/core/libsamplerate/manifests/0.1.9_1\u001B[0m\r\n",
      "######################################################################## 100.0%\r\n",
      "\u001B[34m==>\u001B[0m \u001B[1mDownloading https://ghcr.io/v2/homebrew/core/libsamplerate/blobs/sha256:f0bf\u001B[0m\r\n",
      "\u001B[34m==>\u001B[0m \u001B[1mDownloading from https://pkg-containers.githubusercontent.com/ghcr1/blobs/sh\u001B[0m\r\n",
      "######################################################################## 100.0%\r\n",
      "\u001B[32m==>\u001B[0m \u001B[1mFetching \u001B[32mrubberband\u001B[39m\u001B[0m\r\n",
      "\u001B[34m==>\u001B[0m \u001B[1mDownloading https://ghcr.io/v2/homebrew/core/rubberband/manifests/3.1.2\u001B[0m\r\n",
      "######################################################################## 100.0%\r\n",
      "\u001B[34m==>\u001B[0m \u001B[1mDownloading https://ghcr.io/v2/homebrew/core/rubberband/blobs/sha256:97aa5fe\u001B[0m\r\n",
      "\u001B[34m==>\u001B[0m \u001B[1mDownloading from https://pkg-containers.githubusercontent.com/ghcr1/blobs/sh\u001B[0m\r\n",
      "######################################################################## 100.0%\r\n",
      "\u001B[32m==>\u001B[0m \u001B[1mFetching \u001B[32msdl2\u001B[39m\u001B[0m\r\n",
      "\u001B[34m==>\u001B[0m \u001B[1mDownloading https://ghcr.io/v2/homebrew/core/sdl2/manifests/2.26.1\u001B[0m\r\n",
      "######################################################################## 100.0%\r\n",
      "\u001B[34m==>\u001B[0m \u001B[1mDownloading https://ghcr.io/v2/homebrew/core/sdl2/blobs/sha256:d43cb34a35f31\u001B[0m\r\n",
      "\u001B[34m==>\u001B[0m \u001B[1mDownloading from https://pkg-containers.githubusercontent.com/ghcr1/blobs/sh\u001B[0m\r\n",
      "######################################################################## 100.0%\r\n",
      "\u001B[32m==>\u001B[0m \u001B[1mFetching \u001B[32msnappy\u001B[39m\u001B[0m\r\n",
      "\u001B[34m==>\u001B[0m \u001B[1mDownloading https://ghcr.io/v2/homebrew/core/snappy/manifests/1.1.9\u001B[0m\r\n",
      "######################################################################## 100.0%\r\n",
      "\u001B[34m==>\u001B[0m \u001B[1mDownloading https://ghcr.io/v2/homebrew/core/snappy/blobs/sha256:e861f2e9eeb\u001B[0m\r\n",
      "\u001B[34m==>\u001B[0m \u001B[1mDownloading from https://pkg-containers.githubusercontent.com/ghcr1/blobs/sh\u001B[0m\r\n",
      "######################################################################## 100.0%\r\n",
      "\u001B[32m==>\u001B[0m \u001B[1mFetching \u001B[32mspeex\u001B[39m\u001B[0m\r\n",
      "\u001B[34m==>\u001B[0m \u001B[1mDownloading https://ghcr.io/v2/homebrew/core/speex/manifests/1.2.1\u001B[0m\r\n",
      "######################################################################## 100.0%\r\n",
      "\u001B[34m==>\u001B[0m \u001B[1mDownloading https://ghcr.io/v2/homebrew/core/speex/blobs/sha256:ec27dfb9443b\u001B[0m\r\n",
      "\u001B[34m==>\u001B[0m \u001B[1mDownloading from https://pkg-containers.githubusercontent.com/ghcr1/blobs/sh\u001B[0m\r\n",
      "######################################################################## 100.0%\r\n",
      "\u001B[32m==>\u001B[0m \u001B[1mFetching \u001B[32msrt\u001B[39m\u001B[0m\r\n",
      "\u001B[34m==>\u001B[0m \u001B[1mDownloading https://ghcr.io/v2/homebrew/core/srt/manifests/1.5.1\u001B[0m\r\n",
      "######################################################################## 100.0%\r\n",
      "\u001B[34m==>\u001B[0m \u001B[1mDownloading https://ghcr.io/v2/homebrew/core/srt/blobs/sha256:0ac312b97e03d8\u001B[0m\r\n",
      "\u001B[34m==>\u001B[0m \u001B[1mDownloading from https://pkg-containers.githubusercontent.com/ghcr1/blobs/sh\u001B[0m\r\n",
      "######################################################################## 100.0%\r\n",
      "\u001B[32m==>\u001B[0m \u001B[1mFetching \u001B[32mtheora\u001B[39m\u001B[0m\r\n",
      "\u001B[34m==>\u001B[0m \u001B[1mDownloading https://ghcr.io/v2/homebrew/core/theora/manifests/1.1.1-4\u001B[0m\r\n",
      "######################################################################## 100.0%\r\n",
      "\u001B[34m==>\u001B[0m \u001B[1mDownloading https://ghcr.io/v2/homebrew/core/theora/blobs/sha256:cab83d4adc9\u001B[0m\r\n",
      "\u001B[34m==>\u001B[0m \u001B[1mDownloading from https://pkg-containers.githubusercontent.com/ghcr1/blobs/sh\u001B[0m\r\n",
      "######################################################################## 100.0%\r\n",
      "\u001B[32m==>\u001B[0m \u001B[1mFetching \u001B[32mx264\u001B[39m\u001B[0m\r\n",
      "\u001B[34m==>\u001B[0m \u001B[1mDownloading https://ghcr.io/v2/homebrew/core/x264/manifests/r3095-1\u001B[0m\r\n",
      "######################################################################## 100.0%\r\n",
      "\u001B[34m==>\u001B[0m \u001B[1mDownloading https://ghcr.io/v2/homebrew/core/x264/blobs/sha256:dda85bb57b80d\u001B[0m\r\n",
      "\u001B[34m==>\u001B[0m \u001B[1mDownloading from https://pkg-containers.githubusercontent.com/ghcr1/blobs/sh\u001B[0m\r\n",
      "######################################################################## 100.0%\r\n",
      "\u001B[32m==>\u001B[0m \u001B[1mFetching \u001B[32mx265\u001B[39m\u001B[0m\r\n",
      "\u001B[34m==>\u001B[0m \u001B[1mDownloading https://ghcr.io/v2/homebrew/core/x265/manifests/3.5-1\u001B[0m\r\n",
      "######################################################################## 100.0%\r\n",
      "\u001B[34m==>\u001B[0m \u001B[1mDownloading https://ghcr.io/v2/homebrew/core/x265/blobs/sha256:42bac1c376090\u001B[0m\r\n",
      "\u001B[34m==>\u001B[0m \u001B[1mDownloading from https://pkg-containers.githubusercontent.com/ghcr1/blobs/sh\u001B[0m\r\n",
      "######################################################################## 100.0%\r\n",
      "\u001B[32m==>\u001B[0m \u001B[1mFetching \u001B[32mxvid\u001B[39m\u001B[0m\r\n",
      "\u001B[34m==>\u001B[0m \u001B[1mDownloading https://ghcr.io/v2/homebrew/core/xvid/manifests/1.3.7\u001B[0m\r\n",
      "######################################################################## 100.0%\r\n",
      "\u001B[34m==>\u001B[0m \u001B[1mDownloading https://ghcr.io/v2/homebrew/core/xvid/blobs/sha256:4726e597ea398\u001B[0m\r\n",
      "\u001B[34m==>\u001B[0m \u001B[1mDownloading from https://pkg-containers.githubusercontent.com/ghcr1/blobs/sh\u001B[0m\r\n",
      "######################################################################## 100.0%\r\n",
      "\u001B[32m==>\u001B[0m \u001B[1mFetching \u001B[32mlibsodium\u001B[39m\u001B[0m\r\n",
      "\u001B[34m==>\u001B[0m \u001B[1mDownloading https://ghcr.io/v2/homebrew/core/libsodium/manifests/1.0.18_1\u001B[0m\r\n",
      "######################################################################## 100.0%\r\n",
      "\u001B[34m==>\u001B[0m \u001B[1mDownloading https://ghcr.io/v2/homebrew/core/libsodium/blobs/sha256:bbb92994\u001B[0m\r\n",
      "\u001B[34m==>\u001B[0m \u001B[1mDownloading from https://pkg-containers.githubusercontent.com/ghcr1/blobs/sh\u001B[0m\r\n",
      "######################################################################## 100.0%\r\n",
      "\u001B[32m==>\u001B[0m \u001B[1mFetching \u001B[32mzeromq\u001B[39m\u001B[0m\r\n",
      "\u001B[34m==>\u001B[0m \u001B[1mDownloading https://ghcr.io/v2/homebrew/core/zeromq/manifests/4.3.4\u001B[0m\r\n",
      "######################################################################## 100.0%\r\n",
      "\u001B[34m==>\u001B[0m \u001B[1mDownloading https://ghcr.io/v2/homebrew/core/zeromq/blobs/sha256:c4e25da540f\u001B[0m\r\n",
      "\u001B[34m==>\u001B[0m \u001B[1mDownloading from https://pkg-containers.githubusercontent.com/ghcr1/blobs/sh\u001B[0m\r\n",
      "######################################################################## 100.0%\r\n",
      "\u001B[32m==>\u001B[0m \u001B[1mFetching \u001B[32mzimg\u001B[39m\u001B[0m\r\n",
      "\u001B[34m==>\u001B[0m \u001B[1mDownloading https://ghcr.io/v2/homebrew/core/zimg/manifests/3.0.4\u001B[0m\r\n",
      "######################################################################## 100.0%\r\n",
      "\u001B[34m==>\u001B[0m \u001B[1mDownloading https://ghcr.io/v2/homebrew/core/zimg/blobs/sha256:e830c58c7a650\u001B[0m\r\n",
      "\u001B[34m==>\u001B[0m \u001B[1mDownloading from https://pkg-containers.githubusercontent.com/ghcr1/blobs/sh\u001B[0m\r\n",
      "######################################################################## 100.0%\r\n",
      "\u001B[32m==>\u001B[0m \u001B[1mFetching \u001B[32mffmpeg\u001B[39m\u001B[0m\r\n",
      "\u001B[34m==>\u001B[0m \u001B[1mDownloading https://ghcr.io/v2/homebrew/core/ffmpeg/manifests/5.1.2_1\u001B[0m\r\n",
      "######################################################################## 100.0%\r\n",
      "\u001B[34m==>\u001B[0m \u001B[1mDownloading https://ghcr.io/v2/homebrew/core/ffmpeg/blobs/sha256:71d21f0b5d6\u001B[0m\r\n",
      "\u001B[34m==>\u001B[0m \u001B[1mDownloading from https://pkg-containers.githubusercontent.com/ghcr1/blobs/sh\u001B[0m\r\n",
      "######################################################################## 100.0%\r\n",
      "\u001B[32m==>\u001B[0m \u001B[1mInstalling dependencies for ffmpeg: \u001B[32mhighway\u001B[39m, \u001B[32mimath\u001B[39m, \u001B[32mopenexr\u001B[39m, \u001B[32mxz\u001B[39m, \u001B[32mjpeg-xl\u001B[39m, \u001B[32mlibvmaf\u001B[39m, \u001B[32maom\u001B[39m, \u001B[32mdav1d\u001B[39m, \u001B[32mfrei0r\u001B[39m, \u001B[32mgmp\u001B[39m, \u001B[32mbdw-gc\u001B[39m, \u001B[32mm4\u001B[39m, \u001B[32mlibtool\u001B[39m, \u001B[32mlibunistring\u001B[39m, \u001B[32mguile\u001B[39m, \u001B[32mlibidn2\u001B[39m, \u001B[32mlibtasn1\u001B[39m, \u001B[32mnettle\u001B[39m, \u001B[32mp11-kit\u001B[39m, \u001B[32mlibevent\u001B[39m, \u001B[32munbound\u001B[39m, \u001B[32mgnutls\u001B[39m, \u001B[32mlame\u001B[39m, \u001B[32mpcre2\u001B[39m, \u001B[32mglib\u001B[39m, \u001B[32mlibxrender\u001B[39m, \u001B[32mlibunibreak\u001B[39m, \u001B[32mlibass\u001B[39m, \u001B[32mlibbluray\u001B[39m, \u001B[32mcjson\u001B[39m, \u001B[32mcmocka\u001B[39m, \u001B[32mmbedtls\u001B[39m, \u001B[32mlibrist\u001B[39m, \u001B[32mlibsoxr\u001B[39m, \u001B[32mlibvidstab\u001B[39m, \u001B[32mlibogg\u001B[39m, \u001B[32mlibvorbis\u001B[39m, \u001B[32mlibvpx\u001B[39m, \u001B[32mopencore-amr\u001B[39m, \u001B[32mopus\u001B[39m, \u001B[32mrav1e\u001B[39m, \u001B[32mflac\u001B[39m, \u001B[32mmpg123\u001B[39m, \u001B[32mlibsndfile\u001B[39m, \u001B[32mlibsamplerate\u001B[39m, \u001B[32mrubberband\u001B[39m, \u001B[32msdl2\u001B[39m, \u001B[32msnappy\u001B[39m, \u001B[32mspeex\u001B[39m, \u001B[32msrt\u001B[39m, \u001B[32mtheora\u001B[39m, \u001B[32mx264\u001B[39m, \u001B[32mx265\u001B[39m, \u001B[32mxvid\u001B[39m, \u001B[32mlibsodium\u001B[39m, \u001B[32mzeromq\u001B[39m and \u001B[32mzimg\u001B[39m\u001B[0m\r\n",
      "\u001B[32m==>\u001B[0m \u001B[1mInstalling ffmpeg dependency: \u001B[32mhighway\u001B[39m\u001B[0m\r\n",
      "\u001B[34m==>\u001B[0m \u001B[1mPouring highway--1.0.2.ventura.bottle.tar.gz\u001B[0m\r\n",
      "🍺  /usr/local/Cellar/highway/1.0.2: 61 files, 3.5MB\r\n",
      "\u001B[32m==>\u001B[0m \u001B[1mInstalling ffmpeg dependency: \u001B[32mimath\u001B[39m\u001B[0m\r\n",
      "\u001B[34m==>\u001B[0m \u001B[1mPouring imath--3.1.6.ventura.bottle.tar.gz\u001B[0m\r\n",
      "🍺  /usr/local/Cellar/imath/3.1.6: 49 files, 927KB\r\n",
      "\u001B[32m==>\u001B[0m \u001B[1mInstalling ffmpeg dependency: \u001B[32mopenexr\u001B[39m\u001B[0m\r\n",
      "\u001B[34m==>\u001B[0m \u001B[1mPouring openexr--3.1.5.ventura.bottle.tar.gz\u001B[0m\r\n",
      "🍺  /usr/local/Cellar/openexr/3.1.5: 194 files, 5.7MB\r\n",
      "\u001B[32m==>\u001B[0m \u001B[1mInstalling ffmpeg dependency: \u001B[32mxz\u001B[39m\u001B[0m\r\n",
      "\u001B[34m==>\u001B[0m \u001B[1mPouring xz--5.4.0.ventura.bottle.tar.gz\u001B[0m\r\n",
      "🍺  /usr/local/Cellar/xz/5.4.0: 95 files, 1.6MB\r\n",
      "\u001B[32m==>\u001B[0m \u001B[1mInstalling ffmpeg dependency: \u001B[32mjpeg-xl\u001B[39m\u001B[0m\r\n",
      "\u001B[34m==>\u001B[0m \u001B[1mPouring jpeg-xl--0.7.0_1.ventura.bottle.tar.gz\u001B[0m\r\n",
      "🍺  /usr/local/Cellar/jpeg-xl/0.7.0_1: 41 files, 16.2MB\r\n",
      "\u001B[32m==>\u001B[0m \u001B[1mInstalling ffmpeg dependency: \u001B[32mlibvmaf\u001B[39m\u001B[0m\r\n",
      "\u001B[34m==>\u001B[0m \u001B[1mPouring libvmaf--2.3.1.ventura.bottle.tar.gz\u001B[0m\r\n",
      "🍺  /usr/local/Cellar/libvmaf/2.3.1: 234 files, 7.1MB\r\n",
      "\u001B[32m==>\u001B[0m \u001B[1mInstalling ffmpeg dependency: \u001B[32maom\u001B[39m\u001B[0m\r\n",
      "\u001B[34m==>\u001B[0m \u001B[1mPouring aom--3.5.0_1.ventura.bottle.tar.gz\u001B[0m\r\n",
      "🍺  /usr/local/Cellar/aom/3.5.0_1: 23 files, 13.7MB\r\n",
      "\u001B[32m==>\u001B[0m \u001B[1mInstalling ffmpeg dependency: \u001B[32mdav1d\u001B[39m\u001B[0m\r\n",
      "\u001B[34m==>\u001B[0m \u001B[1mPouring dav1d--1.0.0.ventura.bottle.tar.gz\u001B[0m\r\n",
      "🍺  /usr/local/Cellar/dav1d/1.0.0: 15 files, 2.2MB\r\n",
      "\u001B[32m==>\u001B[0m \u001B[1mInstalling ffmpeg dependency: \u001B[32mfrei0r\u001B[39m\u001B[0m\r\n",
      "\u001B[34m==>\u001B[0m \u001B[1mPouring frei0r--1.8.0.ventura.bottle.tar.gz\u001B[0m\r\n",
      "🍺  /usr/local/Cellar/frei0r/1.8.0: 127 files, 4.4MB\r\n",
      "\u001B[32m==>\u001B[0m \u001B[1mInstalling ffmpeg dependency: \u001B[32mgmp\u001B[39m\u001B[0m\r\n",
      "\u001B[34m==>\u001B[0m \u001B[1mPouring gmp--6.2.1_1.ventura.bottle.tar.gz\u001B[0m\r\n",
      "🍺  /usr/local/Cellar/gmp/6.2.1_1: 21 files, 3.3MB\r\n",
      "\u001B[32m==>\u001B[0m \u001B[1mInstalling ffmpeg dependency: \u001B[32mbdw-gc\u001B[39m\u001B[0m\r\n",
      "\u001B[34m==>\u001B[0m \u001B[1mPouring bdw-gc--8.2.2.ventura.bottle.tar.gz\u001B[0m\r\n",
      "🍺  /usr/local/Cellar/bdw-gc/8.2.2: 73 files, 1.6MB\r\n",
      "\u001B[32m==>\u001B[0m \u001B[1mInstalling ffmpeg dependency: \u001B[32mm4\u001B[39m\u001B[0m\r\n",
      "\u001B[34m==>\u001B[0m \u001B[1mPouring m4--1.4.19.ventura.bottle.tar.gz\u001B[0m\r\n",
      "🍺  /usr/local/Cellar/m4/1.4.19: 13 files, 740.2KB\r\n",
      "\u001B[32m==>\u001B[0m \u001B[1mInstalling ffmpeg dependency: \u001B[32mlibtool\u001B[39m\u001B[0m\r\n",
      "\u001B[34m==>\u001B[0m \u001B[1mPouring libtool--2.4.7.ventura.bottle.tar.gz\u001B[0m\r\n",
      "🍺  /usr/local/Cellar/libtool/2.4.7: 75 files, 3.8MB\r\n",
      "\u001B[32m==>\u001B[0m \u001B[1mInstalling ffmpeg dependency: \u001B[32mlibunistring\u001B[39m\u001B[0m\r\n",
      "\u001B[34m==>\u001B[0m \u001B[1mPouring libunistring--1.0.ventura.bottle.tar.gz\u001B[0m\r\n",
      "🍺  /usr/local/Cellar/libunistring/1.0: 56 files, 5MB\r\n",
      "\u001B[32m==>\u001B[0m \u001B[1mInstalling ffmpeg dependency: \u001B[32mguile\u001B[39m\u001B[0m\r\n",
      "\u001B[34m==>\u001B[0m \u001B[1mPouring guile--3.0.8_3.ventura.bottle.tar.gz\u001B[0m\r\n",
      "🍺  /usr/local/Cellar/guile/3.0.8_3: 846 files, 62.6MB\r\n",
      "\u001B[32m==>\u001B[0m \u001B[1mInstalling ffmpeg dependency: \u001B[32mlibidn2\u001B[39m\u001B[0m\r\n",
      "\u001B[34m==>\u001B[0m \u001B[1mPouring libidn2--2.3.4.ventura.bottle.tar.gz\u001B[0m\r\n",
      "🍺  /usr/local/Cellar/libidn2/2.3.4: 79 files, 1.2MB\r\n",
      "\u001B[32m==>\u001B[0m \u001B[1mInstalling ffmpeg dependency: \u001B[32mlibtasn1\u001B[39m\u001B[0m\r\n",
      "\u001B[34m==>\u001B[0m \u001B[1mPouring libtasn1--4.19.0.ventura.bottle.tar.gz\u001B[0m\r\n",
      "🍺  /usr/local/Cellar/libtasn1/4.19.0: 61 files, 657.3KB\r\n",
      "\u001B[32m==>\u001B[0m \u001B[1mInstalling ffmpeg dependency: \u001B[32mnettle\u001B[39m\u001B[0m\r\n",
      "\u001B[34m==>\u001B[0m \u001B[1mPouring nettle--3.8.1.ventura.bottle.tar.gz\u001B[0m\r\n",
      "🍺  /usr/local/Cellar/nettle/3.8.1: 90 files, 2.5MB\r\n",
      "\u001B[32m==>\u001B[0m \u001B[1mInstalling ffmpeg dependency: \u001B[32mp11-kit\u001B[39m\u001B[0m\r\n",
      "\u001B[34m==>\u001B[0m \u001B[1mPouring p11-kit--0.24.1_1.ventura.bottle.tar.gz\u001B[0m\r\n",
      "🍺  /usr/local/Cellar/p11-kit/0.24.1_1: 67 files, 3.6MB\r\n",
      "\u001B[32m==>\u001B[0m \u001B[1mInstalling ffmpeg dependency: \u001B[32mlibevent\u001B[39m\u001B[0m\r\n",
      "\u001B[34m==>\u001B[0m \u001B[1mPouring libevent--2.1.12.ventura.bottle.tar.gz\u001B[0m\r\n",
      "🍺  /usr/local/Cellar/libevent/2.1.12: 57 files, 2.0MB\r\n",
      "\u001B[32m==>\u001B[0m \u001B[1mInstalling ffmpeg dependency: \u001B[32munbound\u001B[39m\u001B[0m\r\n",
      "\u001B[34m==>\u001B[0m \u001B[1mPouring unbound--1.17.0.ventura.bottle.tar.gz\u001B[0m\r\n",
      "🍺  /usr/local/Cellar/unbound/1.17.0: 58 files, 5.7MB\r\n",
      "\u001B[32m==>\u001B[0m \u001B[1mInstalling ffmpeg dependency: \u001B[32mgnutls\u001B[39m\u001B[0m\r\n",
      "\u001B[34m==>\u001B[0m \u001B[1mPouring gnutls--3.7.8.ventura.bottle.tar.gz\u001B[0m\r\n",
      "🍺  /usr/local/Cellar/gnutls/3.7.8: 1,288 files, 10.9MB\r\n",
      "\u001B[32m==>\u001B[0m \u001B[1mInstalling ffmpeg dependency: \u001B[32mlame\u001B[39m\u001B[0m\r\n",
      "\u001B[34m==>\u001B[0m \u001B[1mPouring lame--3.100.ventura.bottle.tar.gz\u001B[0m\r\n",
      "🍺  /usr/local/Cellar/lame/3.100: 27 files, 2.2MB\r\n",
      "\u001B[32m==>\u001B[0m \u001B[1mInstalling ffmpeg dependency: \u001B[32mpcre2\u001B[39m\u001B[0m\r\n",
      "\u001B[34m==>\u001B[0m \u001B[1mPouring pcre2--10.42.ventura.bottle.tar.gz\u001B[0m\r\n",
      "🍺  /usr/local/Cellar/pcre2/10.42: 230 files, 6.3MB\r\n",
      "\u001B[32m==>\u001B[0m \u001B[1mInstalling ffmpeg dependency: \u001B[32mglib\u001B[39m\u001B[0m\r\n",
      "\u001B[34m==>\u001B[0m \u001B[1mPouring glib--2.74.4.ventura.bottle.tar.gz\u001B[0m\r\n",
      "🍺  /usr/local/Cellar/glib/2.74.4: 449 files, 20.7MB\r\n",
      "\u001B[32m==>\u001B[0m \u001B[1mInstalling ffmpeg dependency: \u001B[32mlibxrender\u001B[39m\u001B[0m\r\n",
      "\u001B[34m==>\u001B[0m \u001B[1mPouring libxrender--0.9.11.ventura.bottle.tar.gz\u001B[0m\r\n",
      "🍺  /usr/local/Cellar/libxrender/0.9.11: 12 files, 197.9KB\r\n",
      "\u001B[32m==>\u001B[0m \u001B[1mInstalling ffmpeg dependency: \u001B[32mlibunibreak\u001B[39m\u001B[0m\r\n",
      "\u001B[34m==>\u001B[0m \u001B[1mPouring libunibreak--5.0.ventura.bottle.tar.gz\u001B[0m\r\n",
      "🍺  /usr/local/Cellar/libunibreak/5.0: 17 files, 254.1KB\r\n",
      "\u001B[32m==>\u001B[0m \u001B[1mInstalling ffmpeg dependency: \u001B[32mlibass\u001B[39m\u001B[0m\r\n",
      "\u001B[34m==>\u001B[0m \u001B[1mPouring libass--0.17.0.ventura.bottle.tar.gz\u001B[0m\r\n",
      "🍺  /usr/local/Cellar/libass/0.17.0: 11 files, 628.2KB\r\n",
      "\u001B[32m==>\u001B[0m \u001B[1mInstalling ffmpeg dependency: \u001B[32mlibbluray\u001B[39m\u001B[0m\r\n",
      "\u001B[34m==>\u001B[0m \u001B[1mPouring libbluray--1.3.4.ventura.bottle.tar.gz\u001B[0m\r\n",
      "🍺  /usr/local/Cellar/libbluray/1.3.4: 21 files, 908.8KB\r\n",
      "\u001B[32m==>\u001B[0m \u001B[1mInstalling ffmpeg dependency: \u001B[32mcjson\u001B[39m\u001B[0m\r\n",
      "\u001B[34m==>\u001B[0m \u001B[1mPouring cjson--1.7.15.ventura.bottle.tar.gz\u001B[0m\r\n",
      "🍺  /usr/local/Cellar/cjson/1.7.15: 23 files, 216.4KB\r\n",
      "\u001B[32m==>\u001B[0m \u001B[1mInstalling ffmpeg dependency: \u001B[32mcmocka\u001B[39m\u001B[0m\r\n",
      "\u001B[34m==>\u001B[0m \u001B[1mPouring cmocka--1.1.5.ventura.bottle.tar.gz\u001B[0m\r\n",
      "🍺  /usr/local/Cellar/cmocka/1.1.5: 17 files, 213.3KB\r\n",
      "\u001B[32m==>\u001B[0m \u001B[1mInstalling ffmpeg dependency: \u001B[32mmbedtls\u001B[39m\u001B[0m\r\n",
      "\u001B[34m==>\u001B[0m \u001B[1mPouring mbedtls--3.3.0.ventura.bottle.tar.gz\u001B[0m\r\n",
      "🍺  /usr/local/Cellar/mbedtls/3.3.0: 159 files, 11.4MB\r\n",
      "\u001B[32m==>\u001B[0m \u001B[1mInstalling ffmpeg dependency: \u001B[32mlibrist\u001B[39m\u001B[0m\r\n",
      "\u001B[34m==>\u001B[0m \u001B[1mPouring librist--0.2.7_2.ventura.bottle.tar.gz\u001B[0m\r\n",
      "🍺  /usr/local/Cellar/librist/0.2.7_2: 28 files, 654.9KB\r\n",
      "\u001B[32m==>\u001B[0m \u001B[1mInstalling ffmpeg dependency: \u001B[32mlibsoxr\u001B[39m\u001B[0m\r\n",
      "\u001B[34m==>\u001B[0m \u001B[1mPouring libsoxr--0.1.3.ventura.bottle.1.tar.gz\u001B[0m\r\n",
      "🍺  /usr/local/Cellar/libsoxr/0.1.3: 29 files, 319.7KB\r\n",
      "\u001B[32m==>\u001B[0m \u001B[1mInstalling ffmpeg dependency: \u001B[32mlibvidstab\u001B[39m\u001B[0m\r\n",
      "\u001B[34m==>\u001B[0m \u001B[1mPouring libvidstab--1.1.0.ventura.bottle.1.tar.gz\u001B[0m\r\n",
      "🍺  /usr/local/Cellar/libvidstab/1.1.0: 25 files, 168.8KB\r\n",
      "\u001B[32m==>\u001B[0m \u001B[1mInstalling ffmpeg dependency: \u001B[32mlibogg\u001B[39m\u001B[0m\r\n",
      "\u001B[34m==>\u001B[0m \u001B[1mPouring libogg--1.3.5.ventura.bottle.tar.gz\u001B[0m\r\n",
      "🍺  /usr/local/Cellar/libogg/1.3.5: 97 files, 497.4KB\r\n",
      "\u001B[32m==>\u001B[0m \u001B[1mInstalling ffmpeg dependency: \u001B[32mlibvorbis\u001B[39m\u001B[0m\r\n",
      "\u001B[34m==>\u001B[0m \u001B[1mPouring libvorbis--1.3.7.ventura.bottle.tar.gz\u001B[0m\r\n",
      "🍺  /usr/local/Cellar/libvorbis/1.3.7: 157 files, 2.3MB\r\n",
      "\u001B[32m==>\u001B[0m \u001B[1mInstalling ffmpeg dependency: \u001B[32mlibvpx\u001B[39m\u001B[0m\r\n",
      "\u001B[34m==>\u001B[0m \u001B[1mPouring libvpx--1.12.0.ventura.bottle.1.tar.gz\u001B[0m\r\n",
      "🍺  /usr/local/Cellar/libvpx/1.12.0: 20 files, 5.1MB\r\n",
      "\u001B[32m==>\u001B[0m \u001B[1mInstalling ffmpeg dependency: \u001B[32mopencore-amr\u001B[39m\u001B[0m\r\n",
      "\u001B[34m==>\u001B[0m \u001B[1mPouring opencore-amr--0.1.6.ventura.bottle.tar.gz\u001B[0m\r\n",
      "🍺  /usr/local/Cellar/opencore-amr/0.1.6: 17 files, 677.6KB\r\n",
      "\u001B[32m==>\u001B[0m \u001B[1mInstalling ffmpeg dependency: \u001B[32mopus\u001B[39m\u001B[0m\r\n",
      "\u001B[34m==>\u001B[0m \u001B[1mPouring opus--1.3.1.ventura.bottle.1.tar.gz\u001B[0m\r\n",
      "🍺  /usr/local/Cellar/opus/1.3.1: 15 files, 1016.8KB\r\n",
      "\u001B[32m==>\u001B[0m \u001B[1mInstalling ffmpeg dependency: \u001B[32mrav1e\u001B[39m\u001B[0m\r\n",
      "\u001B[34m==>\u001B[0m \u001B[1mPouring rav1e--0.6.1.ventura.bottle.tar.gz\u001B[0m\r\n",
      "🍺  /usr/local/Cellar/rav1e/0.6.1: 14 files, 138.6MB\r\n",
      "\u001B[32m==>\u001B[0m \u001B[1mInstalling ffmpeg dependency: \u001B[32mflac\u001B[39m\u001B[0m\r\n",
      "\u001B[34m==>\u001B[0m \u001B[1mPouring flac--1.4.2.ventura.bottle.tar.gz\u001B[0m\r\n",
      "🍺  /usr/local/Cellar/flac/1.4.2: 284 files, 7.0MB\r\n",
      "\u001B[32m==>\u001B[0m \u001B[1mInstalling ffmpeg dependency: \u001B[32mmpg123\u001B[39m\u001B[0m\r\n",
      "\u001B[34m==>\u001B[0m \u001B[1mPouring mpg123--1.31.1.ventura.bottle.tar.gz\u001B[0m\r\n",
      "🍺  /usr/local/Cellar/mpg123/1.31.1: 33 files, 1.8MB\r\n",
      "\u001B[32m==>\u001B[0m \u001B[1mInstalling ffmpeg dependency: \u001B[32mlibsndfile\u001B[39m\u001B[0m\r\n",
      "\u001B[34m==>\u001B[0m \u001B[1mPouring libsndfile--1.1.0_1.ventura.bottle.1.tar.gz\u001B[0m\r\n",
      "🍺  /usr/local/Cellar/libsndfile/1.1.0_1: 48 files, 1MB\r\n",
      "\u001B[32m==>\u001B[0m \u001B[1mInstalling ffmpeg dependency: \u001B[32mlibsamplerate\u001B[39m\u001B[0m\r\n",
      "\u001B[34m==>\u001B[0m \u001B[1mPouring libsamplerate--0.1.9_1.ventura.bottle.1.tar.gz\u001B[0m\r\n",
      "🍺  /usr/local/Cellar/libsamplerate/0.1.9_1: 28 files, 3MB\r\n",
      "\u001B[32m==>\u001B[0m \u001B[1mInstalling ffmpeg dependency: \u001B[32mrubberband\u001B[39m\u001B[0m\r\n",
      "\u001B[34m==>\u001B[0m \u001B[1mPouring rubberband--3.1.2.ventura.bottle.tar.gz\u001B[0m\r\n",
      "🍺  /usr/local/Cellar/rubberband/3.1.2: 13 files, 1.6MB\r\n",
      "\u001B[32m==>\u001B[0m \u001B[1mInstalling ffmpeg dependency: \u001B[32msdl2\u001B[39m\u001B[0m\r\n",
      "\u001B[34m==>\u001B[0m \u001B[1mPouring sdl2--2.26.1.ventura.bottle.tar.gz\u001B[0m\r\n",
      "🍺  /usr/local/Cellar/sdl2/2.26.1: 93 files, 6.4MB\r\n",
      "\u001B[32m==>\u001B[0m \u001B[1mInstalling ffmpeg dependency: \u001B[32msnappy\u001B[39m\u001B[0m\r\n",
      "\u001B[34m==>\u001B[0m \u001B[1mPouring snappy--1.1.9.ventura.bottle.tar.gz\u001B[0m\r\n",
      "🍺  /usr/local/Cellar/snappy/1.1.9: 18 files, 148.6KB\r\n",
      "\u001B[32m==>\u001B[0m \u001B[1mInstalling ffmpeg dependency: \u001B[32mspeex\u001B[39m\u001B[0m\r\n",
      "\u001B[34m==>\u001B[0m \u001B[1mPouring speex--1.2.1.ventura.bottle.tar.gz\u001B[0m\r\n",
      "🍺  /usr/local/Cellar/speex/1.2.1: 25 files, 804.4KB\r\n",
      "\u001B[32m==>\u001B[0m \u001B[1mInstalling ffmpeg dependency: \u001B[32msrt\u001B[39m\u001B[0m\r\n",
      "\u001B[34m==>\u001B[0m \u001B[1mPouring srt--1.5.1.ventura.bottle.tar.gz\u001B[0m\r\n",
      "🍺  /usr/local/Cellar/srt/1.5.1: 20 files, 4.1MB\r\n",
      "\u001B[32m==>\u001B[0m \u001B[1mInstalling ffmpeg dependency: \u001B[32mtheora\u001B[39m\u001B[0m\r\n",
      "\u001B[34m==>\u001B[0m \u001B[1mPouring theora--1.1.1.ventura.bottle.4.tar.gz\u001B[0m\r\n",
      "🍺  /usr/local/Cellar/theora/1.1.1: 97 files, 2MB\r\n",
      "\u001B[32m==>\u001B[0m \u001B[1mInstalling ffmpeg dependency: \u001B[32mx264\u001B[39m\u001B[0m\r\n",
      "\u001B[34m==>\u001B[0m \u001B[1mPouring x264--r3095.ventura.bottle.1.tar.gz\u001B[0m\r\n",
      "🍺  /usr/local/Cellar/x264/r3095: 11 files, 5.7MB\r\n",
      "\u001B[32m==>\u001B[0m \u001B[1mInstalling ffmpeg dependency: \u001B[32mx265\u001B[39m\u001B[0m\r\n",
      "\u001B[34m==>\u001B[0m \u001B[1mPouring x265--3.5.ventura.bottle.1.tar.gz\u001B[0m\r\n",
      "🍺  /usr/local/Cellar/x265/3.5: 11 files, 35.8MB\r\n",
      "\u001B[32m==>\u001B[0m \u001B[1mInstalling ffmpeg dependency: \u001B[32mxvid\u001B[39m\u001B[0m\r\n",
      "\u001B[34m==>\u001B[0m \u001B[1mPouring xvid--1.3.7.ventura.bottle.tar.gz\u001B[0m\r\n",
      "🍺  /usr/local/Cellar/xvid/1.3.7: 10 files, 1.3MB\r\n",
      "\u001B[32m==>\u001B[0m \u001B[1mInstalling ffmpeg dependency: \u001B[32mlibsodium\u001B[39m\u001B[0m\r\n",
      "\u001B[34m==>\u001B[0m \u001B[1mPouring libsodium--1.0.18_1.ventura.bottle.tar.gz\u001B[0m\r\n",
      "🍺  /usr/local/Cellar/libsodium/1.0.18_1: 73 files, 1MB\r\n",
      "\u001B[32m==>\u001B[0m \u001B[1mInstalling ffmpeg dependency: \u001B[32mzeromq\u001B[39m\u001B[0m\r\n",
      "\u001B[34m==>\u001B[0m \u001B[1mPouring zeromq--4.3.4.ventura.bottle.tar.gz\u001B[0m\r\n",
      "🍺  /usr/local/Cellar/zeromq/4.3.4: 83 files, 5.9MB\r\n",
      "\u001B[32m==>\u001B[0m \u001B[1mInstalling ffmpeg dependency: \u001B[32mzimg\u001B[39m\u001B[0m\r\n",
      "\u001B[34m==>\u001B[0m \u001B[1mPouring zimg--3.0.4.ventura.bottle.tar.gz\u001B[0m\r\n",
      "🍺  /usr/local/Cellar/zimg/3.0.4: 27 files, 2.2MB\r\n",
      "\u001B[32m==>\u001B[0m \u001B[1mInstalling \u001B[32mffmpeg\u001B[39m\u001B[0m\r\n",
      "\u001B[34m==>\u001B[0m \u001B[1mPouring ffmpeg--5.1.2_1.ventura.bottle.tar.gz\u001B[0m\r\n",
      "🍺  /usr/local/Cellar/ffmpeg/5.1.2_1: 282 files, 51.9MB\r\n",
      "\u001B[34m==>\u001B[0m \u001B[1mRunning `brew cleanup ffmpeg`...\u001B[0m\r\n",
      "Disable this behaviour by setting HOMEBREW_NO_INSTALL_CLEANUP.\r\n",
      "Hide these hints with HOMEBREW_NO_ENV_HINTS (see `man brew`).\r\n"
     ]
    }
   ],
   "source": [
    "#!brew install ffmpeg # MacOS (tested)\n",
    "#!sudo apt install ffmpeg # Ubuntu (not tested)"
   ],
   "metadata": {
    "collapsed": false
   }
  },
  {
   "cell_type": "markdown",
   "id": "3dfb53a2-54a2-4341-ace1-3c9a905d2f8d",
   "metadata": {
    "id": "3dfb53a2-54a2-4341-ace1-3c9a905d2f8d"
   },
   "source": [
    "## Imports"
   ]
  },
  {
   "cell_type": "code",
   "execution_count": 2,
   "id": "57995609-c40a-4816-8bd2-a7493dd0628d",
   "metadata": {
    "executionInfo": {
     "elapsed": 5542,
     "status": "ok",
     "timestamp": 1671975018377,
     "user": {
      "displayName": "Matthias Hofmaier",
      "userId": "03772858042952791795"
     },
     "user_tz": -60
    },
    "id": "57995609-c40a-4816-8bd2-a7493dd0628d"
   },
   "outputs": [],
   "source": [
    "import os\n",
    "import glob\n",
    "import pathlib\n",
    "\n",
    "import pandas as pd\n",
    "import numpy as np\n",
    "\n",
    "import cv2 as cv2\n",
    "import matplotlib.pyplot as plt"
   ]
  },
  {
   "cell_type": "markdown",
   "id": "7972d8f6-9605-439d-aaab-e2a45c36fce1",
   "metadata": {
    "id": "7972d8f6-9605-439d-aaab-e2a45c36fce1"
   },
   "source": [
    "## Constants"
   ]
  },
  {
   "cell_type": "code",
   "execution_count": 6,
   "id": "955ba13f-ae18-4866-8564-5977f9924c1d",
   "metadata": {
    "executionInfo": {
     "elapsed": 3,
     "status": "ok",
     "timestamp": 1671975018378,
     "user": {
      "displayName": "Matthias Hofmaier",
      "userId": "03772858042952791795"
     },
     "user_tz": -60
    },
    "id": "955ba13f-ae18-4866-8564-5977f9924c1d"
   },
   "outputs": [],
   "source": [
    "# path to ground truth and videos\n",
    "DATA_PATH = \"../data/\"\n",
    "GROUND_TRUTH_PATH = os.path.join(DATA_PATH, \"sim12-ground-truth-muppets\")\n",
    "VIDEO_PATH = os.path.join(DATA_PATH, \"video\")\n",
    "AUDIO_PATH = os.path.join(DATA_PATH, \"audio\")"
   ]
  },
  {
   "cell_type": "markdown",
   "source": [
    "# Project Structure"
   ],
   "metadata": {
    "collapsed": false
   }
  },
  {
   "cell_type": "code",
   "execution_count": 7,
   "outputs": [],
   "source": [
    "if not os.path.exists(AUDIO_PATH):\n",
    "    os.makedirs(AUDIO_PATH)"
   ],
   "metadata": {
    "collapsed": false
   }
  },
  {
   "cell_type": "markdown",
   "id": "b1a2ec3d-f245-46ea-b6bf-301ff77042ea",
   "metadata": {
    "id": "b1a2ec3d-f245-46ea-b6bf-301ff77042ea"
   },
   "source": [
    "# 1. Data Preparation"
   ]
  },
  {
   "cell_type": "markdown",
   "source": [
    "## 1.1 List all videos"
   ],
   "metadata": {
    "collapsed": false
   }
  },
  {
   "cell_type": "code",
   "execution_count": 8,
   "outputs": [
    {
     "data": {
      "text/plain": "['Muppets-02-01-01.avi', 'Muppets-03-04-03.avi', 'Muppets-02-04-04.avi']"
     },
     "execution_count": 8,
     "metadata": {},
     "output_type": "execute_result"
    }
   ],
   "source": [
    "videos = glob.glob(VIDEO_PATH + '/*.avi')\n",
    "\n",
    "videos_tmp = []\n",
    "for video in videos:\n",
    "    videos_tmp.append(pathlib.Path(video).name)\n",
    "videos = videos_tmp\n",
    "\n",
    "videos"
   ],
   "metadata": {
    "collapsed": false
   }
  },
  {
   "cell_type": "markdown",
   "id": "386e46dd-3633-4bed-b7ae-cc7e4572a827",
   "metadata": {
    "id": "386e46dd-3633-4bed-b7ae-cc7e4572a827"
   },
   "source": [
    "## 1.2 Read ground truth from CSV"
   ]
  },
  {
   "cell_type": "code",
   "execution_count": 9,
   "id": "4da18924-9943-4cfb-b639-85b03e2f64fa",
   "metadata": {
    "colab": {
     "base_uri": "https://localhost:8080/",
     "height": 206
    },
    "executionInfo": {
     "elapsed": 1298,
     "status": "ok",
     "timestamp": 1671975019674,
     "user": {
      "displayName": "Matthias Hofmaier",
      "userId": "03772858042952791795"
     },
     "user_tz": -60
    },
    "id": "4da18924-9943-4cfb-b639-85b03e2f64fa",
    "outputId": "1ee83107-ba9d-4af8-b46b-4ac303b83730"
   },
   "outputs": [],
   "source": [
    "ground_truth = dict()\n",
    "\n",
    "# read in corresponding ground truth\n",
    "for video in videos:\n",
    "        file_name = glob.glob(GROUND_TRUTH_PATH + '/*' + os.path.splitext(video)[0] + '*.csv')\n",
    "        csv = pd.read_csv(os.path.join(file_name[0]), sep=\";\")\n",
    "        ground_truth[video] = csv"
   ]
  },
  {
   "cell_type": "markdown",
   "id": "a97f1d39-2484-40b3-a80a-dc13acde2e75",
   "metadata": {
    "id": "a97f1d39-2484-40b3-a80a-dc13acde2e75"
   },
   "source": [
    "## 1.3 Plot the ground truth"
   ]
  },
  {
   "cell_type": "code",
   "execution_count": 11,
   "outputs": [
    {
     "data": {
      "text/plain": "<Figure size 1000x400 with 1 Axes>",
      "image/png": "[encoded data removed]"
     },
     "metadata": {},
     "output_type": "display_data"
    },
    {
     "data": {
      "text/plain": "<Figure size 1000x400 with 1 Axes>",
      "image/png": "[encoded data removed]"
     },
     "metadata": {},
     "output_type": "display_data"
    },
    {
     "data": {
      "text/plain": "<Figure size 1000x400 with 1 Axes>",
      "image/png": "[encoded data removed]"
     },
     "metadata": {},
     "output_type": "display_data"
    }
   ],
   "source": [
    "def plot_gt(gt, column):\n",
    "    plot = plt.figure(figsize=(10, 4))\n",
    "\n",
    "    # define subplot\n",
    "    subplot = plot.add_subplot(111)\n",
    "    subplot.set_title(f\"Occurrences in Frames\")\n",
    "\n",
    "    # define x axis\n",
    "    subplot.set_xlabel('Frames')\n",
    "\n",
    "    # mark occurrences\n",
    "    frame_indicator = np.zeros(len(gt['Frame_number']))\n",
    "    frame_indicator[gt[gt[column] == 1].index] = 1\n",
    "\n",
    "    subplot.plot(gt[column].index, frame_indicator)\n",
    "    plt.show()\n",
    "\n",
    "for video in videos:\n",
    "    plot_gt(ground_truth[video], \"Audio_StatlerWaldorf\")"
   ],
   "metadata": {
    "collapsed": false
   }
  },
  {
   "cell_type": "markdown",
   "source": [
    "## 1.4 Load video data"
   ],
   "metadata": {
    "collapsed": false
   }
  },
  {
   "cell_type": "code",
   "execution_count": 12,
   "id": "f23fcc1c-2cce-4497-8f6d-59dc7c375a35",
   "metadata": {
    "colab": {
     "base_uri": "https://localhost:8080/"
    },
    "executionInfo": {
     "elapsed": 3609,
     "status": "ok",
     "timestamp": 1671975023278,
     "user": {
      "displayName": "Matthias Hofmaier",
      "userId": "03772858042952791795"
     },
     "user_tz": -60
    },
    "id": "f23fcc1c-2cce-4497-8f6d-59dc7c375a35",
    "outputId": "6d5c0b75-c88a-4fa6-a001-14bf732dfb65"
   },
   "outputs": [],
   "source": [
    "video_data = dict()\n",
    "\n",
    "for video in videos:\n",
    "        file_name = glob.glob(VIDEO_PATH + '/*' + os.path.splitext(video)[0] + '*.avi')\n",
    "        video_cap = cv2.VideoCapture(os.path.join(file_name[0]))\n",
    "        video_data[video] = video_cap"
   ]
  },
  {
   "cell_type": "markdown",
   "id": "a2dc7431-19b8-4fe6-801a-9cbb8b5d47ea",
   "metadata": {
    "id": "a2dc7431-19b8-4fe6-801a-9cbb8b5d47ea"
   },
   "source": [
    "## 1.5 FPS Constant"
   ]
  },
  {
   "cell_type": "code",
   "execution_count": 13,
   "id": "3eaea2d7-0601-453f-a1fe-0afc2dc77128",
   "metadata": {
    "executionInfo": {
     "elapsed": 2,
     "status": "ok",
     "timestamp": 1671975023278,
     "user": {
      "displayName": "Matthias Hofmaier",
      "userId": "03772858042952791795"
     },
     "user_tz": -60
    },
    "id": "3eaea2d7-0601-453f-a1fe-0afc2dc77128"
   },
   "outputs": [],
   "source": [
    "FPS = 25"
   ]
  },
  {
   "cell_type": "markdown",
   "id": "365271eb-8256-4ee1-b25f-b85116915bd5",
   "metadata": {
    "id": "365271eb-8256-4ee1-b25f-b85116915bd5"
   },
   "source": [
    "## 1.6 Combine data frames, filter for Waldorf & Statler and add seconds"
   ]
  },
  {
   "cell_type": "code",
   "execution_count": 40,
   "id": "2c820de1-4bb2-4781-9180-7d7870cb6cdf",
   "metadata": {
    "colab": {
     "base_uri": "https://localhost:8080/",
     "height": 206
    },
    "executionInfo": {
     "elapsed": 5,
     "status": "ok",
     "timestamp": 1671975026935,
     "user": {
      "displayName": "Matthias Hofmaier",
      "userId": "03772858042952791795"
     },
     "user_tz": -60
    },
    "id": "2c820de1-4bb2-4781-9180-7d7870cb6cdf",
    "outputId": "c46606bf-3da1-4aed-8d45-b644ab18f37e"
   },
   "outputs": [
    {
     "data": {
      "text/plain": "                        Video  Frame_number  Seconds  Audio_StatlerWaldorf\nMuppets-02-01-01.avi 0    211             0     0.00                     0\n                     1    211             1     0.04                     0\n                     2    211             2     0.08                     0\n                     3    211             3     0.12                     0\n                     4    211             4     0.16                     0",
      "text/html": "<div>\n<style scoped>\n    .dataframe tbody tr th:only-of-type {\n        vertical-align: middle;\n    }\n\n    .dataframe tbody tr th {\n        vertical-align: top;\n    }\n\n    .dataframe thead th {\n        text-align: right;\n    }\n</style>\n<table border=\"1\" class=\"dataframe\">\n  <thead>\n    <tr style=\"text-align: right;\">\n      <th></th>\n      <th></th>\n      <th>Video</th>\n      <th>Frame_number</th>\n      <th>Seconds</th>\n      <th>Audio_StatlerWaldorf</th>\n    </tr>\n  </thead>\n  <tbody>\n    <tr>\n      <th rowspan=\"5\" valign=\"top\">Muppets-02-01-01.avi</th>\n      <th>0</th>\n      <td>211</td>\n      <td>0</td>\n      <td>0.00</td>\n      <td>0</td>\n    </tr>\n    <tr>\n      <th>1</th>\n      <td>211</td>\n      <td>1</td>\n      <td>0.04</td>\n      <td>0</td>\n    </tr>\n    <tr>\n      <th>2</th>\n      <td>211</td>\n      <td>2</td>\n      <td>0.08</td>\n      <td>0</td>\n    </tr>\n    <tr>\n      <th>3</th>\n      <td>211</td>\n      <td>3</td>\n      <td>0.12</td>\n      <td>0</td>\n    </tr>\n    <tr>\n      <th>4</th>\n      <td>211</td>\n      <td>4</td>\n      <td>0.16</td>\n      <td>0</td>\n    </tr>\n  </tbody>\n</table>\n</div>"
     },
     "execution_count": 40,
     "metadata": {},
     "output_type": "execute_result"
    }
   ],
   "source": [
    "df_gt = pd.concat(ground_truth)\n",
    "\n",
    "df_gt[\"Seconds\"] = df_gt[\"Frame_number\"] / FPS\n",
    "df_gt = df_gt[[\"Video\", \"Frame_number\", \"Seconds\", \"Audio_StatlerWaldorf\"]]\n",
    "df_gt.head()"
   ]
  },
  {
   "cell_type": "markdown",
   "source": [
    "## 1.7 Mapping Filename - Video"
   ],
   "metadata": {
    "collapsed": false
   }
  },
  {
   "cell_type": "code",
   "execution_count": 42,
   "outputs": [],
   "source": [
    "video2filename = {\"Muppets-02-01-01.avi\" : 211, \"Muppets-02-04-04.avi\" : 244,\"Muppets-03-04-03.avi\" : 343}"
   ],
   "metadata": {
    "collapsed": false
   }
  },
  {
   "cell_type": "markdown",
   "source": [
    "## 1.8 Convert .avi to .wav"
   ],
   "metadata": {
    "collapsed": false
   }
  },
  {
   "cell_type": "code",
   "execution_count": 44,
   "outputs": [
    {
     "name": "stderr",
     "output_type": "stream",
     "text": [
      "ffmpeg version 5.1.2 Copyright (c) 2000-2022 the FFmpeg developers\n",
      "  built with Apple clang version 14.0.0 (clang-1400.0.29.202)\n",
      "  configuration: --prefix=/usr/local/Cellar/ffmpeg/5.1.2_1 --enable-shared --enable-pthreads --enable-version3 --cc=clang --host-cflags= --host-ldflags= --enable-ffplay --enable-gnutls --enable-gpl --enable-libaom --enable-libbluray --enable-libdav1d --enable-libmp3lame --enable-libopus --enable-librav1e --enable-librist --enable-librubberband --enable-libsnappy --enable-libsrt --enable-libtesseract --enable-libtheora --enable-libvidstab --enable-libvmaf --enable-libvorbis --enable-libvpx --enable-libwebp --enable-libx264 --enable-libx265 --enable-libxml2 --enable-libxvid --enable-lzma --enable-libfontconfig --enable-libfreetype --enable-frei0r --enable-libass --enable-libopencore-amrnb --enable-libopencore-amrwb --enable-libopenjpeg --enable-libspeex --enable-libsoxr --enable-libzmq --enable-libzimg --disable-libjack --disable-indev=jack --enable-videotoolbox\n",
      "  libavutil      57. 28.100 / 57. 28.100\n",
      "  libavcodec     59. 37.100 / 59. 37.100\n",
      "  libavformat    59. 27.100 / 59. 27.100\n",
      "  libavdevice    59.  7.100 / 59.  7.100\n",
      "  libavfilter     8. 44.100 /  8. 44.100\n",
      "  libswscale      6.  7.100 /  6.  7.100\n",
      "  libswresample   4.  7.100 /  4.  7.100\n",
      "  libpostproc    56.  6.100 / 56.  6.100\n",
      "Input #0, avi, from '../data/video/Muppets-02-01-01.avi':\n",
      "  Duration: 00:25:47.28, start: 0.000000, bitrate: 1168 kb/s\n",
      "  Stream #0:0: Video: mpeg4 (Simple Profile) (DX50 / 0x30355844), yuv420p, 720x544 [SAR 1:1 DAR 45:34], 998 kb/s, 25 fps, 25 tbr, 25 tbn\n",
      "  Stream #0:1: Audio: mp3 (U[0][0][0] / 0x0055), 48000 Hz, stereo, fltp, 160 kb/s\n",
      "File '../data/audio/Muppets-02-01-01.wav' already exists. Overwrite? [y/N] Not overwriting - exiting\n",
      "ffmpeg version 5.1.2 Copyright (c) 2000-2022 the FFmpeg developers\n",
      "  built with Apple clang version 14.0.0 (clang-1400.0.29.202)\n",
      "  configuration: --prefix=/usr/local/Cellar/ffmpeg/5.1.2_1 --enable-shared --enable-pthreads --enable-version3 --cc=clang --host-cflags= --host-ldflags= --enable-ffplay --enable-gnutls --enable-gpl --enable-libaom --enable-libbluray --enable-libdav1d --enable-libmp3lame --enable-libopus --enable-librav1e --enable-librist --enable-librubberband --enable-libsnappy --enable-libsrt --enable-libtesseract --enable-libtheora --enable-libvidstab --enable-libvmaf --enable-libvorbis --enable-libvpx --enable-libwebp --enable-libx264 --enable-libx265 --enable-libxml2 --enable-libxvid --enable-lzma --enable-libfontconfig --enable-libfreetype --enable-frei0r --enable-libass --enable-libopencore-amrnb --enable-libopencore-amrwb --enable-libopenjpeg --enable-libspeex --enable-libsoxr --enable-libzmq --enable-libzimg --disable-libjack --disable-indev=jack --enable-videotoolbox\n",
      "  libavutil      57. 28.100 / 57. 28.100\n",
      "  libavcodec     59. 37.100 / 59. 37.100\n",
      "  libavformat    59. 27.100 / 59. 27.100\n",
      "  libavdevice    59.  7.100 / 59.  7.100\n",
      "  libavfilter     8. 44.100 /  8. 44.100\n",
      "  libswscale      6.  7.100 /  6.  7.100\n",
      "  libswresample   4.  7.100 /  4.  7.100\n",
      "  libpostproc    56.  6.100 / 56.  6.100\n",
      "Input #0, avi, from '../data/video/Muppets-03-04-03.avi':\n",
      "  Duration: 00:25:39.96, start: 0.000000, bitrate: 1167 kb/s\n",
      "  Stream #0:0: Video: mpeg4 (Simple Profile) (DX50 / 0x30355844), yuv420p, 704x544 [SAR 1:1 DAR 22:17], 997 kb/s, 25 fps, 25 tbr, 25 tbn\n",
      "  Stream #0:1: Audio: mp3 (U[0][0][0] / 0x0055), 48000 Hz, stereo, fltp, 160 kb/s\n",
      "File '../data/audio/Muppets-03-04-03.wav' already exists. Overwrite? [y/N] Not overwriting - exiting\n",
      "ffmpeg version 5.1.2 Copyright (c) 2000-2022 the FFmpeg developers\n",
      "  built with Apple clang version 14.0.0 (clang-1400.0.29.202)\n",
      "  configuration: --prefix=/usr/local/Cellar/ffmpeg/5.1.2_1 --enable-shared --enable-pthreads --enable-version3 --cc=clang --host-cflags= --host-ldflags= --enable-ffplay --enable-gnutls --enable-gpl --enable-libaom --enable-libbluray --enable-libdav1d --enable-libmp3lame --enable-libopus --enable-librav1e --enable-librist --enable-librubberband --enable-libsnappy --enable-libsrt --enable-libtesseract --enable-libtheora --enable-libvidstab --enable-libvmaf --enable-libvorbis --enable-libvpx --enable-libwebp --enable-libx264 --enable-libx265 --enable-libxml2 --enable-libxvid --enable-lzma --enable-libfontconfig --enable-libfreetype --enable-frei0r --enable-libass --enable-libopencore-amrnb --enable-libopencore-amrwb --enable-libopenjpeg --enable-libspeex --enable-libsoxr --enable-libzmq --enable-libzimg --disable-libjack --disable-indev=jack --enable-videotoolbox\n",
      "  libavutil      57. 28.100 / 57. 28.100\n",
      "  libavcodec     59. 37.100 / 59. 37.100\n",
      "  libavformat    59. 27.100 / 59. 27.100\n",
      "  libavdevice    59.  7.100 / 59.  7.100\n",
      "  libavfilter     8. 44.100 /  8. 44.100\n",
      "  libswscale      6.  7.100 /  6.  7.100\n",
      "  libswresample   4.  7.100 /  4.  7.100\n",
      "  libpostproc    56.  6.100 / 56.  6.100\n",
      "Input #0, avi, from '../data/video/Muppets-02-04-04.avi':\n",
      "  Duration: 00:25:48.28, start: 0.000000, bitrate: 1168 kb/s\n",
      "  Stream #0:0: Video: mpeg4 (Simple Profile) (DX50 / 0x30355844), yuv420p, 720x544 [SAR 1:1 DAR 45:34], 998 kb/s, 25 fps, 25 tbr, 25 tbn\n",
      "  Stream #0:1: Audio: mp3 (U[0][0][0] / 0x0055), 48000 Hz, stereo, fltp, 160 kb/s\n",
      "File '../data/audio/Muppets-02-04-04.wav' already exists. Overwrite? [y/N] Not overwriting - exiting\n"
     ]
    },
    {
     "data": {
      "text/plain": "                        Video  Frame_number  Seconds  Audio_StatlerWaldorf  \\\nMuppets-02-01-01.avi 0    211             0     0.00                     0   \n                     1    211             1     0.04                     0   \n                     2    211             2     0.08                     0   \n                     3    211             3     0.12                     0   \n                     4    211             4     0.16                     0   \n\n                             file_name_audio  \nMuppets-02-01-01.avi 0  Muppets-02-01-01.wav  \n                     1  Muppets-02-01-01.wav  \n                     2  Muppets-02-01-01.wav  \n                     3  Muppets-02-01-01.wav  \n                     4  Muppets-02-01-01.wav  ",
      "text/html": "<div>\n<style scoped>\n    .dataframe tbody tr th:only-of-type {\n        vertical-align: middle;\n    }\n\n    .dataframe tbody tr th {\n        vertical-align: top;\n    }\n\n    .dataframe thead th {\n        text-align: right;\n    }\n</style>\n<table border=\"1\" class=\"dataframe\">\n  <thead>\n    <tr style=\"text-align: right;\">\n      <th></th>\n      <th></th>\n      <th>Video</th>\n      <th>Frame_number</th>\n      <th>Seconds</th>\n      <th>Audio_StatlerWaldorf</th>\n      <th>file_name_audio</th>\n    </tr>\n  </thead>\n  <tbody>\n    <tr>\n      <th rowspan=\"5\" valign=\"top\">Muppets-02-01-01.avi</th>\n      <th>0</th>\n      <td>211</td>\n      <td>0</td>\n      <td>0.00</td>\n      <td>0</td>\n      <td>Muppets-02-01-01.wav</td>\n    </tr>\n    <tr>\n      <th>1</th>\n      <td>211</td>\n      <td>1</td>\n      <td>0.04</td>\n      <td>0</td>\n      <td>Muppets-02-01-01.wav</td>\n    </tr>\n    <tr>\n      <th>2</th>\n      <td>211</td>\n      <td>2</td>\n      <td>0.08</td>\n      <td>0</td>\n      <td>Muppets-02-01-01.wav</td>\n    </tr>\n    <tr>\n      <th>3</th>\n      <td>211</td>\n      <td>3</td>\n      <td>0.12</td>\n      <td>0</td>\n      <td>Muppets-02-01-01.wav</td>\n    </tr>\n    <tr>\n      <th>4</th>\n      <td>211</td>\n      <td>4</td>\n      <td>0.16</td>\n      <td>0</td>\n      <td>Muppets-02-01-01.wav</td>\n    </tr>\n  </tbody>\n</table>\n</div>"
     },
     "execution_count": 44,
     "metadata": {},
     "output_type": "execute_result"
    }
   ],
   "source": [
    "for video in videos:\n",
    "        file_name_video = glob.glob(VIDEO_PATH + '/*' + os.path.splitext(video)[0] + '*.avi')[0]\n",
    "        file_name_audio = os.path.join(AUDIO_PATH, os.path.splitext(video)[0] + '.wav')\n",
    "        command2wav = f\"ffmpeg -i {file_name_video} {file_name_audio}\"\n",
    "\n",
    "        os.system(command2wav)\n",
    "\n",
    "        # save audio filename to data frame\n",
    "        df_gt.loc[df_gt[\"Video\"] == video2filename[os.path.splitext(video)[0] + \".avi\"], \"file_name_audio\"] = os.path.splitext(video)[0] + \".wav\"\n",
    "\n",
    "df_gt.head()"
   ],
   "metadata": {
    "collapsed": false
   }
  }
 ],
 "metadata": {
  "accelerator": "GPU",
  "colab": {
   "provenance": []
  },
  "gpuClass": "standard",
  "kernelspec": {
   "name": "python3",
   "language": "python",
   "display_name": "Python 3 (ipykernel)"
  },
  "language_info": {
   "codemirror_mode": {
    "name": "ipython",
    "version": 3
   },
   "file_extension": ".py",
   "mimetype": "text/x-python",
   "name": "python",
   "nbconvert_exporter": "python",
   "pygments_lexer": "ipython3",
   "version": "3.9.15"
  }
 },
 "nbformat": 4,
 "nbformat_minor": 5
}
