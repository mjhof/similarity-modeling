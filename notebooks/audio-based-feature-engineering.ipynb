{
 "cells": [
  {
   "cell_type": "markdown",
   "id": "3e842021-02b8-4817-8781-773c464c0421",
   "metadata": {
    "id": "3e842021-02b8-4817-8781-773c464c0421"
   },
   "source": [
    "# Similarity Modeling 1/2: Recognizing Waldorf & Statler"
   ]
  },
  {
   "cell_type": "markdown",
   "source": [
    "## Student\n",
    "Gallus Huber (51905700)\n",
    "\n",
    "## Timesheet\n",
    "2022-12-28 18:00 - 21:30 Setup <br />\n",
    "2022-12-29 09:00 - Exploration"
   ],
   "metadata": {
    "collapsed": false
   }
  },
  {
   "cell_type": "markdown",
   "id": "03efa108-c8e7-4967-a11e-a0a571372787",
   "metadata": {
    "id": "03efa108-c8e7-4967-a11e-a0a571372787"
   },
   "source": [
    "## Required libraries and installs"
   ]
  },
  {
   "cell_type": "code",
   "execution_count": null,
   "id": "dab3274f-2b3b-4be1-9e0f-7bce58d82d24",
   "metadata": {
    "colab": {
     "base_uri": "https://localhost:8080/",
     "height": 1000
    },
    "executionInfo": {
     "elapsed": 12641,
     "status": "ok",
     "timestamp": 1671975012839,
     "user": {
      "displayName": "Matthias Hofmaier",
      "userId": "03772858042952791795"
     },
     "user_tz": -60
    },
    "id": "dab3274f-2b3b-4be1-9e0f-7bce58d82d24",
    "outputId": "3115eaa4-41d1-497d-8148-b0eae8b0032f"
   },
   "outputs": [],
   "source": [
    "!cat requirements-dl-audio.txt\n",
    "!pip install -r requirements-fe-audio.txt"
   ]
  },
  {
   "cell_type": "code",
   "execution_count": null,
   "outputs": [],
   "source": [
    "#!brew install ffmpeg # MacOS (tested)\n",
    "#!sudo apt install ffmpeg # Ubuntu (not tested)"
   ],
   "metadata": {
    "collapsed": false
   }
  },
  {
   "cell_type": "markdown",
   "id": "3dfb53a2-54a2-4341-ace1-3c9a905d2f8d",
   "metadata": {
    "id": "3dfb53a2-54a2-4341-ace1-3c9a905d2f8d"
   },
   "source": [
    "## Imports"
   ]
  },
  {
   "cell_type": "code",
   "execution_count": null,
   "id": "57995609-c40a-4816-8bd2-a7493dd0628d",
   "metadata": {
    "executionInfo": {
     "elapsed": 5542,
     "status": "ok",
     "timestamp": 1671975018377,
     "user": {
      "displayName": "Matthias Hofmaier",
      "userId": "03772858042952791795"
     },
     "user_tz": -60
    },
    "id": "57995609-c40a-4816-8bd2-a7493dd0628d"
   },
   "outputs": [],
   "source": [
    "import os\n",
    "import glob\n",
    "import pathlib\n",
    "\n",
    "import pandas as pd\n",
    "import numpy as np\n",
    "\n",
    "import cv2 as cv2\n",
    "import matplotlib.pyplot as plt\n",
    "\n",
    "import librosa\n",
    "import librosa.display"
   ]
  },
  {
   "cell_type": "markdown",
   "id": "7972d8f6-9605-439d-aaab-e2a45c36fce1",
   "metadata": {
    "id": "7972d8f6-9605-439d-aaab-e2a45c36fce1"
   },
   "source": [
    "## Constants"
   ]
  },
  {
   "cell_type": "code",
   "execution_count": null,
   "id": "955ba13f-ae18-4866-8564-5977f9924c1d",
   "metadata": {
    "executionInfo": {
     "elapsed": 3,
     "status": "ok",
     "timestamp": 1671975018378,
     "user": {
      "displayName": "Matthias Hofmaier",
      "userId": "03772858042952791795"
     },
     "user_tz": -60
    },
    "id": "955ba13f-ae18-4866-8564-5977f9924c1d"
   },
   "outputs": [],
   "source": [
    "# path to ground truth and videos\n",
    "DATA_PATH = \"../data/\"\n",
    "GROUND_TRUTH_PATH = os.path.join(DATA_PATH, \"sim12-ground-truth-muppets\")\n",
    "VIDEO_PATH = os.path.join(DATA_PATH, \"video\")\n",
    "AUDIO_PATH = os.path.join(DATA_PATH, \"audio\")"
   ]
  },
  {
   "cell_type": "markdown",
   "source": [
    "# Project Structure"
   ],
   "metadata": {
    "collapsed": false
   }
  },
  {
   "cell_type": "code",
   "execution_count": null,
   "outputs": [],
   "source": [
    "if not os.path.exists(AUDIO_PATH):\n",
    "    os.makedirs(AUDIO_PATH)"
   ],
   "metadata": {
    "collapsed": false
   }
  },
  {
   "cell_type": "markdown",
   "id": "b1a2ec3d-f245-46ea-b6bf-301ff77042ea",
   "metadata": {
    "id": "b1a2ec3d-f245-46ea-b6bf-301ff77042ea"
   },
   "source": [
    "# 1. Data Preparation"
   ]
  },
  {
   "cell_type": "markdown",
   "source": [
    "## 1.1 List all videos"
   ],
   "metadata": {
    "collapsed": false
   }
  },
  {
   "cell_type": "code",
   "execution_count": null,
   "outputs": [],
   "source": [
    "videos = glob.glob(VIDEO_PATH + '/*.avi')\n",
    "\n",
    "videos_tmp = []\n",
    "for video in videos:\n",
    "    videos_tmp.append(pathlib.Path(video).name)\n",
    "videos = videos_tmp\n",
    "\n",
    "videos"
   ],
   "metadata": {
    "collapsed": false
   }
  },
  {
   "cell_type": "markdown",
   "id": "386e46dd-3633-4bed-b7ae-cc7e4572a827",
   "metadata": {
    "id": "386e46dd-3633-4bed-b7ae-cc7e4572a827"
   },
   "source": [
    "## 1.2 Read ground truth from CSV"
   ]
  },
  {
   "cell_type": "code",
   "execution_count": null,
   "id": "4da18924-9943-4cfb-b639-85b03e2f64fa",
   "metadata": {
    "colab": {
     "base_uri": "https://localhost:8080/",
     "height": 206
    },
    "executionInfo": {
     "elapsed": 1298,
     "status": "ok",
     "timestamp": 1671975019674,
     "user": {
      "displayName": "Matthias Hofmaier",
      "userId": "03772858042952791795"
     },
     "user_tz": -60
    },
    "id": "4da18924-9943-4cfb-b639-85b03e2f64fa",
    "outputId": "1ee83107-ba9d-4af8-b46b-4ac303b83730"
   },
   "outputs": [],
   "source": [
    "ground_truth = dict()\n",
    "\n",
    "# read in corresponding ground truth\n",
    "for video in videos:\n",
    "        file_name = glob.glob(GROUND_TRUTH_PATH + '/*' + os.path.splitext(video)[0] + '*.csv')\n",
    "        csv = pd.read_csv(os.path.join(file_name[0]), sep=\";\")\n",
    "        ground_truth[video] = csv"
   ]
  },
  {
   "cell_type": "markdown",
   "id": "a97f1d39-2484-40b3-a80a-dc13acde2e75",
   "metadata": {
    "id": "a97f1d39-2484-40b3-a80a-dc13acde2e75"
   },
   "source": [
    "## 1.3 Plot the ground truth"
   ]
  },
  {
   "cell_type": "code",
   "execution_count": null,
   "outputs": [],
   "source": [
    "for video in videos:\n",
    "    plot = plt.figure(figsize=(10, 4))\n",
    "\n",
    "    # define subplot\n",
    "    subplot = plot.add_subplot(111)\n",
    "    subplot.set_title(f\"Occurrences in Frames for {video}\")\n",
    "\n",
    "    # define x axis\n",
    "    subplot.set_xlabel('Frames')\n",
    "\n",
    "    # mark occurrences\n",
    "    frame_indicator = np.zeros(len(ground_truth[video]['Frame_number']))\n",
    "    frame_indicator[ground_truth[video][ground_truth[video][\"Audio_StatlerWaldorf\"] == 1].index] = 1\n",
    "\n",
    "    subplot.plot(ground_truth[video][\"Audio_StatlerWaldorf\"].index, frame_indicator)\n",
    "    plt.show()"
   ],
   "metadata": {
    "collapsed": false
   }
  },
  {
   "cell_type": "markdown",
   "source": [
    "## 1.4 Load video data"
   ],
   "metadata": {
    "collapsed": false
   }
  },
  {
   "cell_type": "code",
   "execution_count": null,
   "id": "f23fcc1c-2cce-4497-8f6d-59dc7c375a35",
   "metadata": {
    "colab": {
     "base_uri": "https://localhost:8080/"
    },
    "executionInfo": {
     "elapsed": 3609,
     "status": "ok",
     "timestamp": 1671975023278,
     "user": {
      "displayName": "Matthias Hofmaier",
      "userId": "03772858042952791795"
     },
     "user_tz": -60
    },
    "id": "f23fcc1c-2cce-4497-8f6d-59dc7c375a35",
    "outputId": "6d5c0b75-c88a-4fa6-a001-14bf732dfb65"
   },
   "outputs": [],
   "source": [
    "video_data = dict()\n",
    "\n",
    "for video in videos:\n",
    "        file_name = glob.glob(VIDEO_PATH + '/*' + os.path.splitext(video)[0] + '*.avi')\n",
    "        video_cap = cv2.VideoCapture(os.path.join(file_name[0]))\n",
    "        video_data[video] = video_cap"
   ]
  },
  {
   "cell_type": "markdown",
   "id": "a2dc7431-19b8-4fe6-801a-9cbb8b5d47ea",
   "metadata": {
    "id": "a2dc7431-19b8-4fe6-801a-9cbb8b5d47ea"
   },
   "source": [
    "## 1.5 FPS Constant"
   ]
  },
  {
   "cell_type": "code",
   "execution_count": null,
   "id": "3eaea2d7-0601-453f-a1fe-0afc2dc77128",
   "metadata": {
    "executionInfo": {
     "elapsed": 2,
     "status": "ok",
     "timestamp": 1671975023278,
     "user": {
      "displayName": "Matthias Hofmaier",
      "userId": "03772858042952791795"
     },
     "user_tz": -60
    },
    "id": "3eaea2d7-0601-453f-a1fe-0afc2dc77128"
   },
   "outputs": [],
   "source": [
    "FPS = 25"
   ]
  },
  {
   "cell_type": "markdown",
   "id": "365271eb-8256-4ee1-b25f-b85116915bd5",
   "metadata": {
    "id": "365271eb-8256-4ee1-b25f-b85116915bd5"
   },
   "source": [
    "## 1.6 Combine data frames, filter for Waldorf & Statler and add seconds"
   ]
  },
  {
   "cell_type": "code",
   "execution_count": null,
   "id": "2c820de1-4bb2-4781-9180-7d7870cb6cdf",
   "metadata": {
    "colab": {
     "base_uri": "https://localhost:8080/",
     "height": 206
    },
    "executionInfo": {
     "elapsed": 5,
     "status": "ok",
     "timestamp": 1671975026935,
     "user": {
      "displayName": "Matthias Hofmaier",
      "userId": "03772858042952791795"
     },
     "user_tz": -60
    },
    "id": "2c820de1-4bb2-4781-9180-7d7870cb6cdf",
    "outputId": "c46606bf-3da1-4aed-8d45-b644ab18f37e"
   },
   "outputs": [],
   "source": [
    "df_gt = pd.concat(ground_truth)\n",
    "\n",
    "df_gt[\"Seconds\"] = df_gt[\"Frame_number\"] / FPS\n",
    "df_gt = df_gt[[\"Video\", \"Frame_number\", \"Seconds\", \"Audio_StatlerWaldorf\"]]\n",
    "df_gt.head()"
   ]
  },
  {
   "cell_type": "markdown",
   "source": [
    "## 1.7 Mapping Filename - Video"
   ],
   "metadata": {
    "collapsed": false
   }
  },
  {
   "cell_type": "code",
   "execution_count": null,
   "outputs": [],
   "source": [
    "video2filename = {\"Muppets-02-01-01.avi\" : 211, \"Muppets-02-04-04.avi\" : 244,\"Muppets-03-04-03.avi\" : 343}"
   ],
   "metadata": {
    "collapsed": false
   }
  },
  {
   "cell_type": "markdown",
   "source": [
    "## 1.8 Convert .avi to .wav"
   ],
   "metadata": {
    "collapsed": false
   }
  },
  {
   "cell_type": "code",
   "execution_count": null,
   "outputs": [],
   "source": [
    "for video in videos:\n",
    "        file_name_video = glob.glob(VIDEO_PATH + '/*' + os.path.splitext(video)[0] + '*.avi')[0]\n",
    "        file_name_audio = os.path.join(AUDIO_PATH, os.path.splitext(video)[0] + '.wav')\n",
    "        command2wav = f\"ffmpeg -i {file_name_video} {file_name_audio}\"\n",
    "\n",
    "        os.system(command2wav)\n",
    "\n",
    "        # save audio filename to data frame\n",
    "        df_gt.loc[df_gt[\"Video\"] == video2filename[os.path.splitext(video)[0] + \".avi\"], \"file_name_audio\"] = os.path.splitext(video)[0] + \".wav\"\n",
    "\n",
    "df_gt.head()"
   ],
   "metadata": {
    "collapsed": false
   }
  },
  {
   "cell_type": "markdown",
   "source": [
    "## 1.8 Explore data"
   ],
   "metadata": {
    "collapsed": false
   }
  },
  {
   "cell_type": "markdown",
   "source": [
    "### 1.8.1 Constants"
   ],
   "metadata": {
    "collapsed": false
   }
  },
  {
   "cell_type": "code",
   "execution_count": null,
   "outputs": [],
   "source": [
    "SAMPLE_RATE = 16000         # we will use a sample rate of 16kHz\n",
    "N_FFT = 320                 # = 20ms @ 16kHz\n",
    "HOP_LENGTH = 160            # = 10ms @ 16kHz\n",
    "N_MELS = 64"
   ],
   "metadata": {
    "collapsed": false
   }
  },
  {
   "cell_type": "markdown",
   "source": [
    "### 1.8.2 Load Signals"
   ],
   "metadata": {
    "collapsed": false
   }
  },
  {
   "cell_type": "code",
   "execution_count": null,
   "outputs": [],
   "source": [
    "signals = dict()\n",
    "sample_rates = dict()\n",
    "for file_name in df_gt[\"file_name_audio\"].unique():\n",
    "    signals[file_name], sample_rates[file_name] = librosa.load(os.path.join(AUDIO_PATH, file_name), sr=SAMPLE_RATE)"
   ],
   "metadata": {
    "collapsed": false
   }
  },
  {
   "cell_type": "markdown",
   "source": [
    "### 1.8.3 Waveplot"
   ],
   "metadata": {
    "collapsed": false
   }
  },
  {
   "cell_type": "code",
   "execution_count": null,
   "outputs": [],
   "source": [
    "for file_name in df_gt[\"file_name_audio\"].unique():\n",
    "    plt.figure(figsize=(20, 5))\n",
    "    plt.title(f\"Waveplot for {file_name}\", fontdict=dict(size=18))\n",
    "    plt.xlabel(\"Time\", fontdict=dict(size=15))\n",
    "    plt.ylabel(\"Amplitude\", fontdict=dict(size=15))\n",
    "\n",
    "    librosa.display.waveshow(signals[file_name], sr=sample_rates[file_name])\n",
    "    plt.show()"
   ],
   "metadata": {
    "collapsed": false
   }
  },
  {
   "cell_type": "markdown",
   "source": [
    "### 1.8.4 RMS"
   ],
   "metadata": {
    "collapsed": false
   }
  },
  {
   "cell_type": "code",
   "execution_count": null,
   "outputs": [],
   "source": [
    "for file_name in df_gt[\"file_name_audio\"].unique():\n",
    "    stft = librosa.stft(signals[file_name])\n",
    "    S, phase = librosa.magphase(stft)\n",
    "    rms = librosa.feature.rms(S=S)\n",
    "    times_like = librosa.times_like(rms)\n",
    "    amplitude_to_db = librosa.amplitude_to_db(S, ref=np.max)\n",
    "\n",
    "    figure, axis = plt.subplots(figsize=(20, 4), nrows=2)\n",
    "\n",
    "    axis[0].semilogy(times_like, rms[0])\n",
    "    axis[0].set(title=f'RMS Energy for {file_name}')\n",
    "    axis[0].label_outer()\n",
    "\n",
    "    librosa.display.specshow(amplitude_to_db, y_axis='log', x_axis='time', ax=axis[1])\n",
    "    axis[1].set(title=f'Log Power spectrogram for {file_name}')"
   ],
   "metadata": {
    "collapsed": false
   }
  },
  {
   "cell_type": "markdown",
   "source": [
    "### 1.8.5 Zero crossing rate"
   ],
   "metadata": {
    "collapsed": false
   }
  },
  {
   "cell_type": "code",
   "execution_count": null,
   "outputs": [],
   "source": [
    "for file_name in df_gt[\"file_name_audio\"].unique():\n",
    "    zcr = librosa.feature.zero_crossing_rate(signals[file_name])\n",
    "\n",
    "    plt.figure(figsize=(20, 4))\n",
    "    plt.plot(zcr[0])\n",
    "    plt.title(title=f\"Zero crossing rate for {file_name}: {sum(librosa.zero_crossings(signals[file_name]))}\")"
   ],
   "metadata": {
    "collapsed": false
   }
  },
  {
   "cell_type": "markdown",
   "source": [
    "### 1.8.6 Mel spectrograms"
   ],
   "metadata": {
    "collapsed": false
   }
  },
  {
   "cell_type": "code",
   "execution_count": null,
   "outputs": [],
   "source": [
    "spectrograms = dict()\n",
    "\n",
    "for file_name in df_gt[\"file_name_audio\"].unique():\n",
    "    figure, axis = plt.subplots(figsize=(20, 4))\n",
    "\n",
    "    spectrograms[file_name] = librosa.feature.melspectrogram(y=signals[file_name], sr=sample_rates[file_name], n_fft=N_FFT, hop_length=HOP_LENGTH, n_mels=N_MELS)\n",
    "    power_to_db = librosa.power_to_db(spectrograms[file_name], ref=np.max)\n",
    "    image = librosa.display.specshow(power_to_db, x_axis=\"s\", y_axis=\"mel\", sr=sample_rates[file_name], n_fft=N_FFT, hop_length=HOP_LENGTH, ax=axis)\n",
    "\n",
    "    figure.colorbar(image, ax=axis, format=\"%+2.0f dB\")\n",
    "    axis.set(title=f\"Mel-frequency spectrogram for {file_name}\")\n",
    "\n",
    "    plt.show()"
   ],
   "metadata": {
    "collapsed": false
   }
  }
 ],
 "metadata": {
  "accelerator": "GPU",
  "colab": {
   "provenance": []
  },
  "gpuClass": "standard",
  "kernelspec": {
   "name": "python3",
   "language": "python",
   "display_name": "Python 3 (ipykernel)"
  },
  "language_info": {
   "codemirror_mode": {
    "name": "ipython",
    "version": 3
   },
   "file_extension": ".py",
   "mimetype": "text/x-python",
   "name": "python",
   "nbconvert_exporter": "python",
   "pygments_lexer": "ipython3",
   "version": "3.9.15"
  }
 },
 "nbformat": 4,
 "nbformat_minor": 5
}
